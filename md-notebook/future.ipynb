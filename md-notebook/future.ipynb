{
 "cells": [
  {
   "cell_type": "markdown",
   "id": "d6bd0d13-a23e-42fc-ad65-d278c89ff210",
   "metadata": {},
   "source": [
    "# Future Directions\n"
   ]
  },
  {
   "cell_type": "markdown",
   "id": "1ec5f84a-e29b-48db-85c6-31e3cc8aaf84",
   "metadata": {},
   "source": [
    "## User defined functions"
   ]
  },
  {
   "cell_type": "code",
   "execution_count": null,
   "id": "f26ef389-4bb9-488e-acd1-9c8dc613157c",
   "metadata": {},
   "outputs": [],
   "source": [
    "@task\n",
    "def detect_smd_rupture(context):\n",
    "    dcd_file = context.experiment_data_dir + \"/qwikmd_production_smd_0.dcd\"\n",
    "    # ... analyze the data to determine if rupture has occurred\n",
    "    if ruptured:\n",
    "        context.status('finished')\n",
    "\n",
    "experiment_id = experiment_util.launch_namd(\"./Deca-alanine/Deca-alanine/run/\", \n",
    "                                            queue_name=\"gpuA100x4\", \n",
    "                                            computation_resource_name=\"NCSADelta\", \n",
    "                                            node_count=1, \n",
    "                                            cpu_count=16, \n",
    "                                            walltime=120,\n",
    "                                            stopping_function=detect_smd_rupture)"
   ]
  },
  {
   "cell_type": "markdown",
   "id": "53a7f78e-2e77-4ed0-9f6f-450f391b7da1",
   "metadata": {},
   "source": [
    "## Analysis tasks"
   ]
  },
  {
   "cell_type": "code",
   "execution_count": null,
   "id": "dab5bf9f-cb8f-4a50-97e7-275ea5377cf1",
   "metadata": {},
   "outputs": [],
   "source": [
    "@task\n",
    "def get_rmsd_data(context):\n",
    "    dcd_file = context.experiment_data_dir + \"/qwikmd_production_smd_0.dcd\"\n",
    "    # TODO: use VMD/tcl script to read the dcd and write out rmsd.dat file\n",
    "    context.add_file(\"rmsd.dat\")\n",
    "\n",
    "experiment_util.run_analysis(experiment_id, analysis_function=get_rmsd_data)\n",
    "\n",
    "rmsd_file = experiment_util.load_experiment_file(experiment_id, \"rmsd.dat\")\n"
   ]
  },
  {
   "cell_type": "markdown",
   "id": "b59983fd-4b0a-4910-b0d7-d6410f45b325",
   "metadata": {},
   "source": [
    "* Users can define their own\n",
    "* Registry of community contributed tasks"
   ]
  },
  {
   "cell_type": "code",
   "execution_count": null,
   "id": "e001e65c-c729-46b2-845d-9d4e104e7153",
   "metadata": {},
   "outputs": [],
   "source": []
  }
 ],
 "metadata": {
  "kernelspec": {
   "display_name": "Python 3 (ipykernel)",
   "language": "python",
   "name": "python3"
  },
  "language_info": {
   "codemirror_mode": {
    "name": "ipython",
    "version": 3
   },
   "file_extension": ".py",
   "mimetype": "text/x-python",
   "name": "python",
   "nbconvert_exporter": "python",
   "pygments_lexer": "ipython3",
   "version": "3.11.5"
  }
 },
 "nbformat": 4,
 "nbformat_minor": 5
}
