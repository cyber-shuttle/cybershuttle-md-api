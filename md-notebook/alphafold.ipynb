{
 "cells": [
  {
   "cell_type": "markdown",
   "id": "7c123ce4-1817-4c94-8d6c-02b2228e0b17",
   "metadata": {},
   "source": [
    "## Logging in"
   ]
  },
  {
   "cell_type": "code",
   "execution_count": 1,
   "id": "d4052fe9-d8eb-4d35-9432-41b64c45414d",
   "metadata": {},
   "outputs": [
    {
     "name": "stdout",
     "output_type": "stream",
     "text": [
      "logged in\n"
     ]
    }
   ],
   "source": [
    "import warnings\n",
    "warnings.filterwarnings('ignore')\n",
    "\n",
    "from cybershuttle_md_cli import auth\n",
    "auth.do_authorization_flow('./settings-alphafold.ini')\n",
    "print(\"logged in\")"
   ]
  },
  {
   "cell_type": "markdown",
   "id": "481e50bb-83f3-4863-92df-66065e630398",
   "metadata": {},
   "source": [
    "## Launch AlphaFold2 for Deca-alanine"
   ]
  },
  {
   "cell_type": "code",
   "execution_count": 3,
   "id": "a8e20592-c9aa-4006-9143-e941cf719f5f",
   "metadata": {},
   "outputs": [],
   "source": [
    "from cybershuttle_md_cli.experiment_util import ExperimentUtil\n",
    "experiment_util = ExperimentUtil(\"./settings-alphafold.ini\")"
   ]
  },
  {
   "cell_type": "code",
   "execution_count": 3,
   "id": "fcbff419-3b37-4f58-a762-1deba155ef6b",
   "metadata": {},
   "outputs": [
    {
     "name": "stderr",
     "output_type": "stream",
     "text": [
      "/Users/mchristie31/Airavata/Cybershuttle/md-notebook/venv/lib/python3.11/site-packages/thrift/transport/TSSLSocket.py:53: DeprecationWarning: ssl.PROTOCOL_TLS is deprecated\n",
      "  self._context = ssl.SSLContext(ssl_version)\n"
     ]
    }
   ],
   "source": [
    "experiment_id = experiment_util.launch_alphafold(\"./Deca-alanine/alphafold/\", \n",
    "                                            queue_name=\"gpu-shared\", \n",
    "                                            computation_resource_name=\"Expanse\", \n",
    "                                            node_count=1, \n",
    "                                            cpu_count=10, \n",
    "                                            walltime=120)"
   ]
  },
  {
   "cell_type": "code",
   "execution_count": 4,
   "id": "1b9af195-81bb-4ef0-b2df-948a78fd0ddd",
   "metadata": {},
   "outputs": [
    {
     "name": "stdout",
     "output_type": "stream",
     "text": [
      "Monitoring experiment Deca-alanine\n"
     ]
    },
    {
     "data": {
      "application/vnd.jupyter.widget-view+json": {
       "model_id": "f17a9c4aceba4dedb7e60b44841cc57d",
       "version_major": 2,
       "version_minor": 0
      },
      "text/plain": [
       "IntProgress(value=0, max=10, style=ProgressStyle(description_width='initial'))"
      ]
     },
     "execution_count": 4,
     "metadata": {},
     "output_type": "execute_result"
    }
   ],
   "source": [
    "experiment_util.monitor_experiment(experiment_id)"
   ]
  },
  {
   "cell_type": "markdown",
   "id": "5b489fcb-3146-41c8-a97e-3ebde2c434f9",
   "metadata": {},
   "source": [
    "## Download results"
   ]
  },
  {
   "cell_type": "code",
   "execution_count": 4,
   "id": "12afd079-7115-476e-b33c-9f7f9cca4883",
   "metadata": {},
   "outputs": [
    {
     "name": "stderr",
     "output_type": "stream",
     "text": [
      "/Users/mchristie31/Airavata/Cybershuttle/cybershuttle-md/venv/lib/python3.11/site-packages/thrift/transport/TSSLSocket.py:53: DeprecationWarning: ssl.PROTOCOL_TLS is deprecated\n",
      "  self._context = ssl.SSLContext(ssl_version)\n"
     ]
    },
    {
     "data": {
      "application/vnd.jupyter.widget-view+json": {
       "model_id": "965f1aaca9324832a9c9e13fee1080fc",
       "version_major": 2,
       "version_minor": 0
      },
      "text/plain": [
       "HBox(children=(VBox(children=(HTML(value='<b>Name</b>'), Label(value='Deca-alanine'), Label(value='Deca-alanin…"
      ]
     },
     "execution_count": 4,
     "metadata": {},
     "output_type": "execute_result"
    }
   ],
   "source": [
    "experiment_util.show_namd_runs(status=\"COMPLETED\")"
   ]
  },
  {
   "cell_type": "code",
   "execution_count": 6,
   "id": "9e31b455-9177-4ffb-bfa7-4580080ec51a",
   "metadata": {},
   "outputs": [
    {
     "data": {
      "text/plain": [
       "'Deca-alanine_72bdc5df-eec2-42f6-8ba0-f389bff588d6'"
      ]
     },
     "execution_count": 6,
     "metadata": {},
     "output_type": "execute_result"
    }
   ],
   "source": [
    "experiment_id"
   ]
  },
  {
   "cell_type": "code",
   "execution_count": null,
   "id": "b856270d-b68b-47c6-a525-5df86232cb6b",
   "metadata": {},
   "outputs": [],
   "source": []
  }
 ],
 "metadata": {
  "kernelspec": {
   "display_name": "Python 3 (ipykernel)",
   "language": "python",
   "name": "python3"
  },
  "language_info": {
   "codemirror_mode": {
    "name": "ipython",
    "version": 3
   },
   "file_extension": ".py",
   "mimetype": "text/x-python",
   "name": "python",
   "nbconvert_exporter": "python",
   "pygments_lexer": "ipython3",
   "version": "3.11.5"
  }
 },
 "nbformat": 4,
 "nbformat_minor": 5
}
