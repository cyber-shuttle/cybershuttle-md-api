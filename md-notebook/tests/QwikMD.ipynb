{
 "cells": [
  {
   "cell_type": "code",
   "execution_count": 41,
   "id": "de6e77e8-b6a3-445f-abf1-db76c28918cc",
   "metadata": {},
   "outputs": [],
   "source": [
    "# Python program to read\n",
    "# json file\n",
    "\n",
    "import json\n",
    "\n",
    "# Opening JSON file\n",
    "f = open('qwikmd.json')\n",
    "\n",
    "# returns JSON object as \n",
    "# a dictionary\n",
    "data = json.load(f)\n"
   ]
  },
  {
   "cell_type": "code",
   "execution_count": 42,
   "id": "0118dfde-2788-4553-94ce-211d8767b2b3",
   "metadata": {},
   "outputs": [
    {
     "data": {
      "text/plain": [
       "{'namdFiles': [{'Input': {'configuration': ['Minimization'],\n",
       "    'parameters': ['par_all36_carb.prm',\n",
       "     'par_all36_prot.prm',\n",
       "     'par_all36_cgenff.prm',\n",
       "     'par_all36_na.prm'],\n",
       "    'structure': ['qwikmd_QwikMD.psf'],\n",
       "    'coordinates': ['qwikmd_QwikMD.pdb'],\n",
       "    'consref': ['Minimization_restraints.pdb'],\n",
       "    'conskfile': ['Minimization_restraints.pdb']}},\n",
       "  {'Output': {'outputname': ['Minimization'],\n",
       "    'dcdfile': ['Minimization.dcd'],\n",
       "    'restartname': ['Minimization.restart'],\n",
       "    'restartfiles': ['Minimization.restart.rst',\n",
       "     'Minimization.restart.xsc',\n",
       "     'Minimization.restart.vel',\n",
       "     'Minimization.restart.coor']}}]}"
      ]
     },
     "execution_count": 42,
     "metadata": {},
     "output_type": "execute_result"
    }
   ],
   "source": [
    "data"
   ]
  },
  {
   "cell_type": "code",
   "execution_count": 43,
   "id": "bd98f66e-9c10-46e2-b993-c3f13f30b984",
   "metadata": {},
   "outputs": [
    {
     "name": "stdout",
     "output_type": "stream",
     "text": [
      " Available keys \n",
      "dict_keys(['configuration', 'parameters', 'structure', 'coordinates', 'consref', 'conskfile'])\n",
      "\n",
      "configuration Minimization\n",
      "parameters par_all36_carb.prm\n",
      "parameters par_all36_prot.prm\n",
      "parameters par_all36_cgenff.prm\n",
      "parameters par_all36_na.prm\n",
      "structure qwikmd_QwikMD.psf\n",
      "coordinates qwikmd_QwikMD.pdb\n",
      "consref Minimization_restraints.pdb\n",
      "conskfile Minimization_restraints.pdb\n"
     ]
    }
   ],
   "source": [
    "print(f''' Available keys \n",
    "{data.get('namdFiles')[0].get('Input').keys()}\n",
    "''')\n",
    "\n",
    "d = data.get('namdFiles')[0].get('Input')\n",
    "\n",
    "for f in d.keys() : \n",
    "    [print(f,x) for x in d.get(f) ]"
   ]
  },
  {
   "cell_type": "code",
   "execution_count": 48,
   "id": "b6e6b144-a54b-4c48-a0cc-731dba5170f2",
   "metadata": {},
   "outputs": [
    {
     "name": "stdout",
     "output_type": "stream",
     "text": [
      " Available keys \n",
      "dict_keys(['outputname', 'dcdfile', 'restartname', 'restartfiles'])\n",
      "\n",
      "outputname Minimization\n",
      "dcdfile Minimization.dcd\n",
      "restartname Minimization.restart\n",
      "restartfiles Minimization.restart.rst\n",
      "restartfiles Minimization.restart.xsc\n",
      "restartfiles Minimization.restart.vel\n",
      "restartfiles Minimization.restart.coor\n"
     ]
    }
   ],
   "source": [
    "print(f''' Available keys \n",
    "{data.get('namdFiles')[1].get('Output').keys()}\n",
    "''')\n",
    "\n",
    "d = data.get('namdFiles')[1].get('Output')\n",
    "\n",
    "for f in d.keys() : \n",
    "    [print(f,x) for x in d.get(f) ]"
   ]
  },
  {
   "cell_type": "code",
   "execution_count": null,
   "id": "9aef9d58-fb0b-495f-b5ff-dcc579b2dfdc",
   "metadata": {},
   "outputs": [],
   "source": []
  }
 ],
 "metadata": {
  "kernelspec": {
   "display_name": "Python 3 (ipykernel)",
   "language": "python",
   "name": "python3"
  },
  "language_info": {
   "codemirror_mode": {
    "name": "ipython",
    "version": 3
   },
   "file_extension": ".py",
   "mimetype": "text/x-python",
   "name": "python",
   "nbconvert_exporter": "python",
   "pygments_lexer": "ipython3",
   "version": "3.11.5"
  }
 },
 "nbformat": 4,
 "nbformat_minor": 5
}
