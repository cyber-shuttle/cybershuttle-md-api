{
 "cells": [
  {
   "cell_type": "markdown",
   "id": "7c123ce4-1817-4c94-8d6c-02b2228e0b17",
   "metadata": {},
   "source": [
    "## Logging in"
   ]
  },
  {
   "cell_type": "code",
   "execution_count": 1,
   "id": "d4052fe9-d8eb-4d35-9432-41b64c45414d",
   "metadata": {},
   "outputs": [
    {
     "name": "stdout",
     "output_type": "stream",
     "text": [
      "logged in\n"
     ]
    }
   ],
   "source": [
    "import warnings\n",
    "warnings.filterwarnings('ignore')\n",
    "\n",
    "from cybershuttle_md_cli import auth\n",
    "auth.do_authorization_flow()\n",
    "print(\"logged in\")"
   ]
  },
  {
   "cell_type": "markdown",
   "id": "481e50bb-83f3-4863-92df-66065e630398",
   "metadata": {},
   "source": [
    "## Launch NAMD for Deca-alanine"
   ]
  },
  {
   "cell_type": "code",
   "execution_count": 1,
   "id": "a8e20592-c9aa-4006-9143-e941cf719f5f",
   "metadata": {},
   "outputs": [
    {
     "ename": "NoSectionError",
     "evalue": "No section: 'KeycloakServer'",
     "output_type": "error",
     "traceback": [
      "\u001b[0;31m---------------------------------------------------------------------------\u001b[0m",
      "\u001b[0;31mNoSectionError\u001b[0m                            Traceback (most recent call last)",
      "Cell \u001b[0;32mIn[1], line 2\u001b[0m\n\u001b[1;32m      1\u001b[0m \u001b[38;5;28;01mfrom\u001b[39;00m \u001b[38;5;21;01mcybershuttle_md_cli\u001b[39;00m\u001b[38;5;21;01m.\u001b[39;00m\u001b[38;5;21;01mexperiment_util\u001b[39;00m \u001b[38;5;28;01mimport\u001b[39;00m ExperimentUtil\n\u001b[0;32m----> 2\u001b[0m experiment_util \u001b[38;5;241m=\u001b[39m \u001b[43mExperimentUtil\u001b[49m\u001b[43m(\u001b[49m\u001b[38;5;124;43m\"\u001b[39;49m\u001b[38;5;124;43m./settings.ini\u001b[39;49m\u001b[38;5;124;43m\"\u001b[39;49m\u001b[43m)\u001b[49m\n",
      "File \u001b[0;32m~/github/cybershuttle-md-api/md-notebook/cybershuttle_md_cli/experiment_util.py:36\u001b[0m, in \u001b[0;36mExperimentUtil.__init__\u001b[0;34m(self, configuration_file)\u001b[0m\n\u001b[1;32m     34\u001b[0m decode \u001b[38;5;241m=\u001b[39m jwt\u001b[38;5;241m.\u001b[39mdecode(access_token, options\u001b[38;5;241m=\u001b[39m{\u001b[38;5;124m\"\u001b[39m\u001b[38;5;124mverify_signature\u001b[39m\u001b[38;5;124m\"\u001b[39m: \u001b[38;5;28;01mFalse\u001b[39;00m})\n\u001b[1;32m     35\u001b[0m \u001b[38;5;28mself\u001b[39m\u001b[38;5;241m.\u001b[39muser_id \u001b[38;5;241m=\u001b[39m decode[\u001b[38;5;124m\"\u001b[39m\u001b[38;5;124mpreferred_username\u001b[39m\u001b[38;5;124m\"\u001b[39m]\n\u001b[0;32m---> 36\u001b[0m \u001b[38;5;28mself\u001b[39m\u001b[38;5;241m.\u001b[39mauthenticator \u001b[38;5;241m=\u001b[39m \u001b[43mAuthenticator\u001b[49m\u001b[43m(\u001b[49m\u001b[38;5;28;43mself\u001b[39;49m\u001b[38;5;241;43m.\u001b[39;49m\u001b[43mconfiguration_file\u001b[49m\u001b[43m)\u001b[49m\n\u001b[1;32m     37\u001b[0m \u001b[38;5;28mself\u001b[39m\u001b[38;5;241m.\u001b[39mgateway_conf \u001b[38;5;241m=\u001b[39m GatewaySettings(configuration_file)\n\u001b[1;32m     38\u001b[0m \u001b[38;5;28mself\u001b[39m\u001b[38;5;241m.\u001b[39mexperiment_conf \u001b[38;5;241m=\u001b[39m ExperimentSettings(configuration_file)\n",
      "File \u001b[0;32m~/miniconda3/envs/cybershuttle/lib/python3.11/site-packages/airavata_sdk/clients/keycloak_token_fetcher.py:39\u001b[0m, in \u001b[0;36mAuthenticator.__init__\u001b[0;34m(self, configuration_file_location)\u001b[0m\n\u001b[1;32m     37\u001b[0m \u001b[38;5;28;01mdef\u001b[39;00m \u001b[38;5;21m__init__\u001b[39m(\u001b[38;5;28mself\u001b[39m, configuration_file_location\u001b[38;5;241m=\u001b[39m\u001b[38;5;28;01mNone\u001b[39;00m):\n\u001b[1;32m     38\u001b[0m     \u001b[38;5;28mself\u001b[39m\u001b[38;5;241m.\u001b[39mkeycloak_settings \u001b[38;5;241m=\u001b[39m KeycloakConfiguration(configuration_file_location)\n\u001b[0;32m---> 39\u001b[0m     \u001b[38;5;28;43mself\u001b[39;49m\u001b[38;5;241;43m.\u001b[39;49m\u001b[43m_load_settings\u001b[49m\u001b[43m(\u001b[49m\u001b[43mconfiguration_file_location\u001b[49m\u001b[43m)\u001b[49m\n",
      "File \u001b[0;32m~/miniconda3/envs/cybershuttle/lib/python3.11/site-packages/airavata_sdk/clients/keycloak_token_fetcher.py:98\u001b[0m, in \u001b[0;36mAuthenticator._load_settings\u001b[0;34m(self, configuration_file_location)\u001b[0m\n\u001b[1;32m     96\u001b[0m config \u001b[38;5;241m=\u001b[39m configparser\u001b[38;5;241m.\u001b[39mConfigParser()\n\u001b[1;32m     97\u001b[0m config\u001b[38;5;241m.\u001b[39mread(configuration_file_location)\n\u001b[0;32m---> 98\u001b[0m \u001b[38;5;28mself\u001b[39m\u001b[38;5;241m.\u001b[39mkeycloak_settings\u001b[38;5;241m.\u001b[39mKEYCLOAK_CA_CERTIFICATE \u001b[38;5;241m=\u001b[39m \u001b[43mconfig\u001b[49m\u001b[38;5;241;43m.\u001b[39;49m\u001b[43mget\u001b[49m\u001b[43m(\u001b[49m\u001b[38;5;124;43m\"\u001b[39;49m\u001b[38;5;124;43mKeycloakServer\u001b[39;49m\u001b[38;5;124;43m\"\u001b[39;49m\u001b[43m,\u001b[49m\u001b[43m \u001b[49m\u001b[38;5;124;43m'\u001b[39;49m\u001b[38;5;124;43mCERTIFICATE_FILE_PATH\u001b[39;49m\u001b[38;5;124;43m'\u001b[39;49m\u001b[43m)\u001b[49m\n\u001b[1;32m     99\u001b[0m \u001b[38;5;28mself\u001b[39m\u001b[38;5;241m.\u001b[39mkeycloak_settings\u001b[38;5;241m.\u001b[39mCLIENT_ID \u001b[38;5;241m=\u001b[39m config\u001b[38;5;241m.\u001b[39mget(\u001b[38;5;124m'\u001b[39m\u001b[38;5;124mKeycloakServer\u001b[39m\u001b[38;5;124m'\u001b[39m, \u001b[38;5;124m'\u001b[39m\u001b[38;5;124mCLIENT_ID\u001b[39m\u001b[38;5;124m'\u001b[39m)\n\u001b[1;32m    100\u001b[0m \u001b[38;5;28mself\u001b[39m\u001b[38;5;241m.\u001b[39mkeycloak_settings\u001b[38;5;241m.\u001b[39mCLIENT_SECRET \u001b[38;5;241m=\u001b[39m config\u001b[38;5;241m.\u001b[39mget(\u001b[38;5;124m'\u001b[39m\u001b[38;5;124mKeycloakServer\u001b[39m\u001b[38;5;124m'\u001b[39m, \u001b[38;5;124m'\u001b[39m\u001b[38;5;124mCLIENT_SECRET\u001b[39m\u001b[38;5;124m'\u001b[39m)\n",
      "File \u001b[0;32m~/miniconda3/envs/cybershuttle/lib/python3.11/configparser.py:797\u001b[0m, in \u001b[0;36mRawConfigParser.get\u001b[0;34m(self, section, option, raw, vars, fallback)\u001b[0m\n\u001b[1;32m    782\u001b[0m \u001b[38;5;250m\u001b[39m\u001b[38;5;124;03m\"\"\"Get an option value for a given section.\u001b[39;00m\n\u001b[1;32m    783\u001b[0m \n\u001b[1;32m    784\u001b[0m \u001b[38;5;124;03mIf `vars` is provided, it must be a dictionary. The option is looked up\u001b[39;00m\n\u001b[0;32m   (...)\u001b[0m\n\u001b[1;32m    794\u001b[0m \u001b[38;5;124;03mThe section DEFAULT is special.\u001b[39;00m\n\u001b[1;32m    795\u001b[0m \u001b[38;5;124;03m\"\"\"\u001b[39;00m\n\u001b[1;32m    796\u001b[0m \u001b[38;5;28;01mtry\u001b[39;00m:\n\u001b[0;32m--> 797\u001b[0m     d \u001b[38;5;241m=\u001b[39m \u001b[38;5;28;43mself\u001b[39;49m\u001b[38;5;241;43m.\u001b[39;49m\u001b[43m_unify_values\u001b[49m\u001b[43m(\u001b[49m\u001b[43msection\u001b[49m\u001b[43m,\u001b[49m\u001b[43m \u001b[49m\u001b[38;5;28;43mvars\u001b[39;49m\u001b[43m)\u001b[49m\n\u001b[1;32m    798\u001b[0m \u001b[38;5;28;01mexcept\u001b[39;00m NoSectionError:\n\u001b[1;32m    799\u001b[0m     \u001b[38;5;28;01mif\u001b[39;00m fallback \u001b[38;5;129;01mis\u001b[39;00m _UNSET:\n",
      "File \u001b[0;32m~/miniconda3/envs/cybershuttle/lib/python3.11/configparser.py:1168\u001b[0m, in \u001b[0;36mRawConfigParser._unify_values\u001b[0;34m(self, section, vars)\u001b[0m\n\u001b[1;32m   1166\u001b[0m \u001b[38;5;28;01mexcept\u001b[39;00m \u001b[38;5;167;01mKeyError\u001b[39;00m:\n\u001b[1;32m   1167\u001b[0m     \u001b[38;5;28;01mif\u001b[39;00m section \u001b[38;5;241m!=\u001b[39m \u001b[38;5;28mself\u001b[39m\u001b[38;5;241m.\u001b[39mdefault_section:\n\u001b[0;32m-> 1168\u001b[0m         \u001b[38;5;28;01mraise\u001b[39;00m NoSectionError(section) \u001b[38;5;28;01mfrom\u001b[39;00m \u001b[38;5;28;01mNone\u001b[39;00m\n\u001b[1;32m   1169\u001b[0m \u001b[38;5;66;03m# Update with the entry specific variables\u001b[39;00m\n\u001b[1;32m   1170\u001b[0m vardict \u001b[38;5;241m=\u001b[39m {}\n",
      "\u001b[0;31mNoSectionError\u001b[0m: No section: 'KeycloakServer'"
     ]
    }
   ],
   "source": [
    "from cybershuttle_md_cli.experiment_util import ExperimentUtil\n",
    "experiment_util = ExperimentUtil(\"./settings.ini\")"
   ]
  },
  {
   "cell_type": "code",
   "execution_count": 4,
   "id": "fcbff419-3b37-4f58-a762-1deba155ef6b",
   "metadata": {},
   "outputs": [
    {
     "name": "stderr",
     "output_type": "stream",
     "text": [
      "/Users/mchristie31/Airavata/Cybershuttle/md-notebook/venv/lib/python3.11/site-packages/thrift/transport/TSSLSocket.py:53: DeprecationWarning: ssl.PROTOCOL_TLS is deprecated\n",
      "  self._context = ssl.SSLContext(ssl_version)\n"
     ]
    }
   ],
   "source": [
    "experiment_id = experiment_util.launch_namd(\"./Deca-alanine/Deca-alanine/run/\", \n",
    "                                            queue_name=\"gpuA100x4\", \n",
    "                                            computation_resource_name=\"NCSADelta\", \n",
    "                                            node_count=1, \n",
    "                                            cpu_count=16, \n",
    "                                            walltime=120)"
   ]
  },
  {
   "cell_type": "code",
   "execution_count": 5,
   "id": "1b9af195-81bb-4ef0-b2df-948a78fd0ddd",
   "metadata": {},
   "outputs": [
    {
     "name": "stdout",
     "output_type": "stream",
     "text": [
      "Monitoring experiment Deca-alanine\n"
     ]
    },
    {
     "data": {
      "application/vnd.jupyter.widget-view+json": {
       "model_id": "260d2cf87ab04bab8f6d6ee42ff67b3d",
       "version_major": 2,
       "version_minor": 0
      },
      "text/plain": [
       "IntProgress(value=0, max=10, style=ProgressStyle(description_width='initial'))"
      ]
     },
     "execution_count": 5,
     "metadata": {},
     "output_type": "execute_result"
    }
   ],
   "source": [
    "experiment_util.monitor_experiment(experiment_id)"
   ]
  },
  {
   "cell_type": "markdown",
   "id": "5b489fcb-3146-41c8-a97e-3ebde2c434f9",
   "metadata": {},
   "source": [
    "## Download results"
   ]
  },
  {
   "cell_type": "code",
   "execution_count": 7,
   "id": "12afd079-7115-476e-b33c-9f7f9cca4883",
   "metadata": {},
   "outputs": [
    {
     "data": {
      "application/vnd.jupyter.widget-view+json": {
       "model_id": "d61916ac7d6549eeb3248761a0e6796e",
       "version_major": 2,
       "version_minor": 0
      },
      "text/plain": [
       "HBox(children=(VBox(children=(HTML(value='<b>Name</b>'), Label(value='Deca-alanine'), Label(value='Deca-alanin…"
      ]
     },
     "execution_count": 7,
     "metadata": {},
     "output_type": "execute_result"
    }
   ],
   "source": [
    "experiment_util.show_namd_runs(status=\"COMPLETED\")"
   ]
  },
  {
   "cell_type": "code",
   "execution_count": 6,
   "id": "9e31b455-9177-4ffb-bfa7-4580080ec51a",
   "metadata": {},
   "outputs": [
    {
     "data": {
      "text/plain": [
       "'Deca-alanine_72bdc5df-eec2-42f6-8ba0-f389bff588d6'"
      ]
     },
     "execution_count": 6,
     "metadata": {},
     "output_type": "execute_result"
    }
   ],
   "source": [
    "experiment_id"
   ]
  },
  {
   "cell_type": "code",
   "execution_count": null,
   "id": "b856270d-b68b-47c6-a525-5df86232cb6b",
   "metadata": {},
   "outputs": [],
   "source": []
  }
 ],
 "metadata": {
  "kernelspec": {
   "display_name": "Python 3 (ipykernel)",
   "language": "python",
   "name": "python3"
  },
  "language_info": {
   "codemirror_mode": {
    "name": "ipython",
    "version": 3
   },
   "file_extension": ".py",
   "mimetype": "text/x-python",
   "name": "python",
   "nbconvert_exporter": "python",
   "pygments_lexer": "ipython3",
   "version": "3.11.5"
  }
 },
 "nbformat": 4,
 "nbformat_minor": 5
}
