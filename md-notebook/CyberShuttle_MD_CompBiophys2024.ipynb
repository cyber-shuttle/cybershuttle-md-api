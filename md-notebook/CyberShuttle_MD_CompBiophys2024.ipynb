{
 "cells": [
  {
   "cell_type": "markdown",
   "id": "7a9d999b-0fdb-4726-8bfc-5eafccde6ec5",
   "metadata": {},
   "source": [
    "# Computational Biophysics Workshop - 2024\n",
    "Department of Physics - Auburn University\n",
    "Beckman Institute - UUIC\n",
    "\n",
    "# CyberShuttle tutorial\n",
    "Authors:\n",
    "Diego E. B. Gomes, Sudhakar Pamidighatam. "
   ]
  },
  {
   "cell_type": "markdown",
   "id": "75ae421f-62cc-46d5-97f5-c3ac58d3d9df",
   "metadata": {},
   "source": [
    "## The CyberShuttle Molecular Dynamics Gateway:\n",
    "Start by loging into the [CyberShuttle Molecular Dynamics Gateway](https://md.cybershuttle.org).\n",
    "\n",
    "We'll illustrate how to use the Gateway to monitor the progress of this notebook.\n",
    "\n",
    "(You may need to first create an account)\n",
    "\n",
    "<figure>\n",
    "<img src=\"./screenshots/LandingPage.png\" style=\"width:80%\">\n",
    "<figcaption align = \"center\"> CyberShuttle Molecular Dynamics Gateway </figcaption>\n",
    "</figure>"
   ]
  },
  {
   "cell_type": "markdown",
   "id": "093945dd-3309-486f-97cf-6e66eb604798",
   "metadata": {},
   "source": [
    "<figure>\n",
    "<img src=\"./screenshots/SignIn.png\" style=\"width:80%\">\n",
    "<figcaption align = \"center\"> You may use existing credentials or create an account.\n",
    " </figcaption>\n",
    "</figure>"
   ]
  },
  {
   "cell_type": "markdown",
   "id": "448bc075-b7f3-4577-85cf-ccd6312346b1",
   "metadata": {},
   "source": [
    "<figure>\n",
    "<img src=\"./screenshots/Credentials.png\" style=\"width:80%\">\n",
    "<figcaption align = \"center\"> Example of sign in using a US-based research instituton login.\n",
    " </figcaption>\n",
    "</figure>"
   ]
  },
  {
   "cell_type": "markdown",
   "id": "ebf2fc11-5c20-49f7-8906-3fb1b2dfabf5",
   "metadata": {},
   "source": [
    "<figure>\n",
    "<img src=\"./screenshots/Dashboard.png\" style=\"width:80%\">\n",
    "<figcaption align = \"center\"> The main MD.CyberShuttle Dashboard showing the applications available to the user, also a quick view of their latest jobs.\n",
    "    You may access the <b>dashboard</b>b clicking o the <b>first toolbar icon</b>b on the left.\n",
    " </figcaption>\n",
    "</figure>"
   ]
  },
  {
   "cell_type": "markdown",
   "id": "ba7dd6d6-df85-4972-85dd-376eb9e84600",
   "metadata": {},
   "source": [
    "## Getting Started\n",
    "Install python requirements to connect with Cybershuttle\n",
    "```bash\n",
    "# Clone the cybershuttle repository\n",
    "git clone https://github.com/cyber-shuttle/cybershuttle-md-api.git\n",
    "\n",
    "# Create a new environment ( We like conda )\n",
    "conda create -n cybershuttle\n",
    "conda activate cybershuttle\n",
    "\n",
    "# Install dependencies\n",
    "pip install -r requirements.txt\n",
    "\n",
    "# Open this Jupyter lab notebook using the environment you've created.\n",
    "```"
   ]
  },
  {
   "cell_type": "code",
   "execution_count": 5,
   "id": "9f8d75b2-cf89-4b5b-9468-d43624b2fc25",
   "metadata": {},
   "outputs": [],
   "source": [
    "# Ignore warnings\n",
    "import warnings\n",
    "warnings.filterwarnings('ignore')"
   ]
  },
  {
   "cell_type": "markdown",
   "id": "63631997-aa8b-40fa-a54b-39d72912ac64",
   "metadata": {},
   "source": [
    "### Step 1 - Authenticate to Cybershuttle\n",
    "The next cell will open a browser tab for you to authenticate to cybershuttle with your ACCESS account. \n",
    "* US-based researchers may use their university login instead.\n",
    "* The file <b>settings-NAMD.ini</b> has the configuration to connect to the cybershuttle community server."
   ]
  },
  {
   "cell_type": "code",
   "execution_count": 20,
   "id": "8a221651-82af-4287-a620-663ecaa4bcca",
   "metadata": {},
   "outputs": [
    {
     "name": "stdout",
     "output_type": "stream",
     "text": [
      "logged in\n"
     ]
    }
   ],
   "source": [
    "from cybershuttle_md_cli import auth\n",
    "auth.do_authorization_flow('./settings-NAMD.ini')\n",
    "\n",
    "print(\"logged in\")"
   ]
  },
  {
   "cell_type": "markdown",
   "id": "add044dd-a39c-449a-803d-1c4ae6bab36a",
   "metadata": {},
   "source": [
    "### Step 2 - Initialize \"experiment Utilities\"\n",
    "Experiment utililties contains the routines to access, send jobs & retrieve data to cybershuttle gateway. It uses the same configurations as \"settings-NAMD.ini\""
   ]
  },
  {
   "cell_type": "code",
   "execution_count": 21,
   "id": "4d03f85a-9809-4e99-9b13-9abf8da1f5c6",
   "metadata": {},
   "outputs": [],
   "source": [
    "from cybershuttle_md_cli.experiment_util import ExperimentUtil\n",
    "experiment_util = ExperimentUtil(\"./settings-NAMD.ini\")"
   ]
  },
  {
   "cell_type": "code",
   "execution_count": null,
   "id": "e8a43aa3-f053-4dff-a512-c29434f43597",
   "metadata": {},
   "outputs": [],
   "source": [
    "### Step 3 - Show Projects\n",
    "The third icon on the left "
   ]
  },
  {
   "cell_type": "markdown",
   "id": "88ef6142-e3db-4750-a8fa-2ec1447f379c",
   "metadata": {},
   "source": [
    "<figure>\n",
    "<img src=\"./screenshots/Projects.png\" style=\"width:80%\">\n",
    "<figcaption align = \"center\"> The main MD.CyberShuttle Dashboard showing the applications available to the user, also a quick view of their latest jobs.\n",
    " </figcaption>\n",
    "</figure>"
   ]
  },
  {
   "cell_type": "markdown",
   "id": "8349fbbc-ca81-4831-950e-e51ba743f746",
   "metadata": {},
   "source": [
    "<figure>\n",
    "<img src=\"./screenshots/Experiments.png\" style=\"width:80%\">\n",
    "<figcaption align = \"center\"> The main MD.CyberShuttle Dashboard showing the applications available to the user, also a quick view of their latest jobs.\n",
    " </figcaption>\n",
    "</figure>"
   ]
  },
  {
   "cell_type": "code",
   "execution_count": 22,
   "id": "db691e62-b2f8-4982-908c-7f19c6fb101e",
   "metadata": {},
   "outputs": [
    {
     "name": "stderr",
     "output_type": "stream",
     "text": [
      "/Users/deb0054/miniconda3/envs/cybershuttle/lib/python3.11/site-packages/thrift/transport/TSSLSocket.py:53: DeprecationWarning: ssl.PROTOCOL_TLS is deprecated\n",
      "  self._context = ssl.SSLContext(ssl_version)\n"
     ]
    },
    {
     "data": {
      "text/plain": [
       "dict_keys(['experimentId', 'projectId', 'gatewayId', 'creationTime', 'userName', 'name', 'description', 'executionId', 'resourceHostId', 'experimentStatus', 'statusUpdateTime'])"
      ]
     },
     "execution_count": 22,
     "metadata": {},
     "output_type": "execute_result"
    }
   ],
   "source": [
    "import pandas as pd\n",
    "all_exp = experiment_util.show_experiments()\n",
    "vars(all_exp[0]).keys()"
   ]
  },
  {
   "cell_type": "code",
   "execution_count": null,
   "id": "4f39f8e7-9d87-47a7-99b4-bdbf7d201960",
   "metadata": {},
   "outputs": [],
   "source": []
  },
  {
   "cell_type": "code",
   "execution_count": null,
   "id": "8f36f10a-3e65-4fd2-a828-456bc3236787",
   "metadata": {},
   "outputs": [],
   "source": []
  }
 ],
 "metadata": {
  "kernelspec": {
   "display_name": "Python 3 (ipykernel)",
   "language": "python",
   "name": "python3"
  },
  "language_info": {
   "codemirror_mode": {
    "name": "ipython",
    "version": 3
   },
   "file_extension": ".py",
   "mimetype": "text/x-python",
   "name": "python",
   "nbconvert_exporter": "python",
   "pygments_lexer": "ipython3",
   "version": "3.11.5"
  }
 },
 "nbformat": 4,
 "nbformat_minor": 5
}
