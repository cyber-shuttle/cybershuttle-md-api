{
 "cells": [
  {
   "cell_type": "code",
   "execution_count": 1,
   "id": "21a8dda3-4525-40e0-b7c8-73c222021502",
   "metadata": {},
   "outputs": [
    {
     "ename": "TypeError",
     "evalue": "do_authorization_flow() missing 1 required positional argument: 'settings_file'",
     "output_type": "error",
     "traceback": [
      "\u001b[0;31m---------------------------------------------------------------------------\u001b[0m",
      "\u001b[0;31mTypeError\u001b[0m                                 Traceback (most recent call last)",
      "Cell \u001b[0;32mIn[1], line 2\u001b[0m\n\u001b[1;32m      1\u001b[0m \u001b[38;5;28;01mfrom\u001b[39;00m \u001b[38;5;21;01mcybershuttle_md_cli\u001b[39;00m \u001b[38;5;28;01mimport\u001b[39;00m auth\n\u001b[0;32m----> 2\u001b[0m \u001b[43mauth\u001b[49m\u001b[38;5;241;43m.\u001b[39;49m\u001b[43mdo_authorization_flow\u001b[49m\u001b[43m(\u001b[49m\u001b[43m)\u001b[49m\n\u001b[1;32m      3\u001b[0m \u001b[38;5;28mprint\u001b[39m(\u001b[38;5;124m\"\u001b[39m\u001b[38;5;124mlogged in\u001b[39m\u001b[38;5;124m\"\u001b[39m)\n",
      "\u001b[0;31mTypeError\u001b[0m: do_authorization_flow() missing 1 required positional argument: 'settings_file'"
     ]
    }
   ],
   "source": [
    "from cybershuttle_md_cli import auth\n",
    "auth.do_authorization_flow()\n",
    "print(\"logged in\")"
   ]
  },
  {
   "cell_type": "code",
   "execution_count": 3,
   "id": "41232d16-4986-4215-a68b-9d311973b3a9",
   "metadata": {},
   "outputs": [],
   "source": [
    "%load_ext autoreload\n",
    "%autoreload 2\n",
    "import logging\n",
    "logging.basicConfig(level=\"INFO\")\n",
    "    \n",
    "from cybershuttle_md_cli.experiment_util import ExperimentUtil\n",
    "experiment_util = ExperimentUtil(\"./settings.ini\")"
   ]
  },
  {
   "cell_type": "code",
   "execution_count": 3,
   "id": "94287576-22f1-4f77-bd73-0119fd8da986",
   "metadata": {},
   "outputs": [
    {
     "name": "stderr",
     "output_type": "stream",
     "text": [
      "/Users/machrist/Airavata/Cybershuttle/cybershuttle-md/venv/lib/python3.10/site-packages/thrift/transport/TSSLSocket.py:53: DeprecationWarning: ssl.PROTOCOL_TLS is deprecated\n",
      "  self._context = ssl.SSLContext(ssl_version)\n"
     ]
    }
   ],
   "source": [
    "experiment_util.launch_namd(\"./Deca-alanine/Deca-alanine/run/\", \n",
    "                            queue_name=\"gpuA100x4\", \n",
    "                            computation_resource_name=\"NCSADelta\", \n",
    "                            node_count=1, \n",
    "                            cpu_count=16, \n",
    "                            walltime=120)"
   ]
  },
  {
   "cell_type": "code",
   "execution_count": 7,
   "id": "d5797e4f-03b1-42bc-a50c-dae1e89d851c",
   "metadata": {},
   "outputs": [
    {
     "data": {
      "application/vnd.jupyter.widget-view+json": {
       "model_id": "1b55c85606084153be660dc8e25156cd",
       "version_major": 2,
       "version_minor": 0
      },
      "text/plain": [
       "HBox(children=(VBox(children=(HTML(value='<b>Name</b>'), Label(value='Deca-alanine replicas'), Label(value='Cl…"
      ]
     },
     "execution_count": 7,
     "metadata": {},
     "output_type": "execute_result"
    }
   ],
   "source": [
    "experiment_util.show_namd_runs(status=\"COMPLETED\")"
   ]
  },
  {
   "cell_type": "code",
   "execution_count": 13,
   "id": "5b3cb307-7849-4dd7-82d8-9bb68fe5feba",
   "metadata": {},
   "outputs": [
    {
     "name": "stdout",
     "output_type": "stream",
     "text": [
      "Monitoring experiment Deca-alanine replicas\n"
     ]
    },
    {
     "data": {
      "application/vnd.jupyter.widget-view+json": {
       "model_id": "e95ccc914fc049f5908ed1871b67b17d",
       "version_major": 2,
       "version_minor": 0
      },
      "text/plain": [
       "IntProgress(value=0, max=10, style=ProgressStyle(description_width='initial'))"
      ]
     },
     "execution_count": 13,
     "metadata": {},
     "output_type": "execute_result"
    },
    {
     "name": "stderr",
     "output_type": "stream",
     "text": [
      "INFO:thrift.transport.TSocket:Could not connect to ('156.56.104.12', 9930)\n",
      "Traceback (most recent call last):\n",
      "  File \"/Users/machrist/Airavata/Cybershuttle/cybershuttle-md/venv/lib/python3.10/site-packages/thrift/transport/TSocket.py\", line 137, in open\n",
      "    handle.connect(sockaddr)\n",
      "  File \"/Library/Frameworks/Python.framework/Versions/3.10/lib/python3.10/ssl.py\", line 1375, in connect\n",
      "    self._real_connect(addr, False)\n",
      "  File \"/Library/Frameworks/Python.framework/Versions/3.10/lib/python3.10/ssl.py\", line 1362, in _real_connect\n",
      "    super().connect(addr)\n",
      "OSError: [Errno 51] Network is unreachable\n",
      "INFO:thrift.transport.TSocket:Could not connect to ('156.56.104.12', 9930)\n",
      "Traceback (most recent call last):\n",
      "  File \"/Users/machrist/Airavata/Cybershuttle/cybershuttle-md/venv/lib/python3.10/site-packages/thrift/transport/TSocket.py\", line 137, in open\n",
      "    handle.connect(sockaddr)\n",
      "  File \"/Library/Frameworks/Python.framework/Versions/3.10/lib/python3.10/ssl.py\", line 1375, in connect\n",
      "    self._real_connect(addr, False)\n",
      "  File \"/Library/Frameworks/Python.framework/Versions/3.10/lib/python3.10/ssl.py\", line 1362, in _real_connect\n",
      "    super().connect(addr)\n",
      "OSError: [Errno 51] Network is unreachable\n",
      "ERROR:thrift.transport.TSocket:Could not connect to any of [('156.56.104.12', 9930)]\n",
      "Exception in thread Thread-8 (monitor_thread):\n",
      "Traceback (most recent call last):\n",
      "  File \"/Library/Frameworks/Python.framework/Versions/3.10/lib/python3.10/threading.py\", line 1016, in _bootstrap_inner\n",
      "ERROR:thrift.transport.TSocket:Could not connect to any of [('156.56.104.12', 9930)]\n",
      "Exception in thread Thread-7 (monitor_thread):\n",
      "Traceback (most recent call last):\n",
      "  File \"/Library/Frameworks/Python.framework/Versions/3.10/lib/python3.10/threading.py\", line 1016, in _bootstrap_inner\n",
      "    self.run()\n",
      "  File \"/Library/Frameworks/Python.framework/Versions/3.10/lib/python3.10/threading.py\", line 953, in run\n",
      "    self.run()\n",
      "  File \"/Library/Frameworks/Python.framework/Versions/3.10/lib/python3.10/threading.py\", line 953, in run\n",
      "    self._target(*self._args, **self._kwargs)\n",
      "  File \"/Users/machrist/Airavata/Cybershuttle/md-notebook/cybershuttle_md_cli/experiment_util.py\", line 306, in monitor_thread\n",
      "    self._target(*self._args, **self._kwargs)\n",
      "  File \"/Users/machrist/Airavata/Cybershuttle/md-notebook/cybershuttle_md_cli/experiment_util.py\", line 306, in monitor_thread\n",
      "    print(f\"Monitoring experiment {experiment.experimentName}\")\n",
      "  File \"/Users/machrist/Airavata/Cybershuttle/cybershuttle-md/venv/lib/python3.10/site-packages/airavata_sdk/clients/api_server_client.py\", line 1524, in get_experiment_status\n",
      "    print(f\"Monitoring experiment {experiment.experimentName}\")\n",
      "  File \"/Users/machrist/Airavata/Cybershuttle/cybershuttle-md/venv/lib/python3.10/site-packages/airavata_sdk/clients/api_server_client.py\", line 1524, in get_experiment_status\n",
      "    return self.api_server_client_pool.getExperimentStatus(authz_token, airavata_experiment_id)\n",
      "  File \"/Users/machrist/Airavata/Cybershuttle/cybershuttle-md/venv/lib/python3.10/site-packages/thrift_connector/connection_pool.py\", line 370, in method\n",
      "    return self.api_server_client_pool.getExperimentStatus(authz_token, airavata_experiment_id)\n",
      "  File \"/Users/machrist/Airavata/Cybershuttle/cybershuttle-md/venv/lib/python3.10/site-packages/thrift_connector/connection_pool.py\", line 370, in method\n",
      "    client = self.get_client()\n",
      "  File \"/Users/machrist/Airavata/Cybershuttle/cybershuttle-md/venv/lib/python3.10/site-packages/thrift_connector/hooks.py\", line 64, in _\n",
      "    client = self.get_client()\n",
      "  File \"/Users/machrist/Airavata/Cybershuttle/cybershuttle-md/venv/lib/python3.10/site-packages/thrift_connector/hooks.py\", line 64, in _\n",
      "    client = func(pool, *args, **kwds)\n",
      "  File \"/Users/machrist/Airavata/Cybershuttle/cybershuttle-md/venv/lib/python3.10/site-packages/thrift_connector/connection_pool.py\", line 364, in get_client\n",
      "    client = func(pool, *args, **kwds)\n",
      "  File \"/Users/machrist/Airavata/Cybershuttle/cybershuttle-md/venv/lib/python3.10/site-packages/thrift_connector/connection_pool.py\", line 364, in get_client\n",
      "    return self.get_client_from_pool() or self.produce_client()\n",
      "  File \"/Users/machrist/Airavata/Cybershuttle/cybershuttle-md/venv/lib/python3.10/site-packages/thrift_connector/connection_pool.py\", line 349, in produce_client\n",
      "    return self.get_client_from_pool() or self.produce_client()\n",
      "  File \"/Users/machrist/Airavata/Cybershuttle/cybershuttle-md/venv/lib/python3.10/site-packages/thrift_connector/connection_pool.py\", line 349, in produce_client\n",
      "    return self.connection_class.connect(\n",
      "  File \"/Users/machrist/Airavata/Cybershuttle/cybershuttle-md/venv/lib/python3.10/site-packages/thrift_connector/connection_pool.py\", line 103, in connect\n",
      "    transport.open()\n",
      "  File \"/Users/machrist/Airavata/Cybershuttle/cybershuttle-md/venv/lib/python3.10/site-packages/thrift/transport/TTransport.py\", line 155, in open\n",
      "    return self.__trans.open()\n",
      "  File \"/Users/machrist/Airavata/Cybershuttle/cybershuttle-md/venv/lib/python3.10/site-packages/thrift/transport/TSSLSocket.py\", line 301, in open\n",
      "    return self.connection_class.connect(\n",
      "  File \"/Users/machrist/Airavata/Cybershuttle/cybershuttle-md/venv/lib/python3.10/site-packages/thrift_connector/connection_pool.py\", line 103, in connect\n",
      "    transport.open()\n",
      "  File \"/Users/machrist/Airavata/Cybershuttle/cybershuttle-md/venv/lib/python3.10/site-packages/thrift/transport/TTransport.py\", line 155, in open\n",
      "    return self.__trans.open()\n",
      "  File \"/Users/machrist/Airavata/Cybershuttle/cybershuttle-md/venv/lib/python3.10/site-packages/thrift/transport/TSSLSocket.py\", line 301, in open\n",
      "    super(TSSLSocket, self).open()\n",
      "  File \"/Users/machrist/Airavata/Cybershuttle/cybershuttle-md/venv/lib/python3.10/site-packages/thrift/transport/TSocket.py\", line 146, in open\n",
      "    super(TSSLSocket, self).open()\n",
      "  File \"/Users/machrist/Airavata/Cybershuttle/cybershuttle-md/venv/lib/python3.10/site-packages/thrift/transport/TSocket.py\", line 146, in open\n",
      "    raise TTransportException(type=TTransportException.NOT_OPEN, message=msg)\n",
      "thrift.transport.TTransport.TTransportException: Could not connect to any of [('156.56.104.12', 9930)]\n",
      "    raise TTransportException(type=TTransportException.NOT_OPEN, message=msg)\n",
      "thrift.transport.TTransport.TTransportException: Could not connect to any of [('156.56.104.12', 9930)]\n",
      "Exception in thread Thread-5 (monitor_thread):\n",
      "Traceback (most recent call last):\n",
      "  File \"/Users/machrist/Airavata/Cybershuttle/cybershuttle-md/venv/lib/python3.10/site-packages/thrift/transport/TSocket.py\", line 150, in read\n",
      "    buff = self.handle.recv(sz)\n",
      "  File \"/Library/Frameworks/Python.framework/Versions/3.10/lib/python3.10/ssl.py\", line 1259, in recv\n",
      "    return self.read(buflen)\n",
      "  File \"/Library/Frameworks/Python.framework/Versions/3.10/lib/python3.10/ssl.py\", line 1132, in read\n",
      "    return self._sslobj.read(len)\n",
      "TimeoutError: The read operation timed out\n",
      "\n",
      "During handling of the above exception, another exception occurred:\n",
      "\n",
      "Traceback (most recent call last):\n",
      "  File \"/Library/Frameworks/Python.framework/Versions/3.10/lib/python3.10/threading.py\", line 1016, in _bootstrap_inner\n",
      "    self.run()\n",
      "  File \"/Library/Frameworks/Python.framework/Versions/3.10/lib/python3.10/threading.py\", line 953, in run\n",
      "    self._target(*self._args, **self._kwargs)\n",
      "  File \"/Users/machrist/Airavata/Cybershuttle/md-notebook/cybershuttle_md_cli/experiment_util.py\", line 301, in monitor_thread\n",
      "    style = {\"description_width\": \"initial\"}\n",
      "  File \"/Users/machrist/Airavata/Cybershuttle/cybershuttle-md/venv/lib/python3.10/site-packages/airavata_sdk/clients/api_server_client.py\", line 1524, in get_experiment_status\n",
      "    return self.api_server_client_pool.getExperimentStatus(authz_token, airavata_experiment_id)\n",
      "  File \"/Users/machrist/Airavata/Cybershuttle/cybershuttle-md/venv/lib/python3.10/site-packages/thrift_connector/connection_pool.py\", line 375, in method\n",
      "    return api(*args, **kwds)\n",
      "  File \"/Users/machrist/Airavata/Cybershuttle/cybershuttle-md/venv/lib/python3.10/site-packages/thrift_connector/hooks.py\", line 43, in wrapper\n",
      "    ret = func(*args, **kwargs)\n",
      "  File \"/Users/machrist/Airavata/Cybershuttle/cybershuttle-md/venv/lib/python3.10/site-packages/airavata/api/Airavata.py\", line 6097, in getExperimentStatus\n",
      "    return self.recv_getExperimentStatus()\n",
      "  File \"/Users/machrist/Airavata/Cybershuttle/cybershuttle-md/venv/lib/python3.10/site-packages/airavata/api/Airavata.py\", line 6110, in recv_getExperimentStatus\n",
      "    (fname, mtype, rseqid) = iprot.readMessageBegin()\n",
      "  File \"/Users/machrist/Airavata/Cybershuttle/cybershuttle-md/venv/lib/python3.10/site-packages/thrift/protocol/TBinaryProtocol.py\", line 134, in readMessageBegin\n",
      "    sz = self.readI32()\n",
      "  File \"/Users/machrist/Airavata/Cybershuttle/cybershuttle-md/venv/lib/python3.10/site-packages/thrift/protocol/TBinaryProtocol.py\", line 217, in readI32\n",
      "    buff = self.trans.readAll(4)\n",
      "  File \"/Users/machrist/Airavata/Cybershuttle/cybershuttle-md/venv/lib/python3.10/site-packages/thrift/transport/TTransport.py\", line 62, in readAll\n",
      "    chunk = self.read(sz - have)\n",
      "  File \"/Users/machrist/Airavata/Cybershuttle/cybershuttle-md/venv/lib/python3.10/site-packages/thrift/transport/TTransport.py\", line 164, in read\n",
      "    self.__rbuf = BufferIO(self.__trans.read(max(sz, self.__rbuf_size)))\n",
      "  File \"/Users/machrist/Airavata/Cybershuttle/cybershuttle-md/venv/lib/python3.10/site-packages/thrift/transport/TSocket.py\", line 164, in read\n",
      "    raise TTransportException(message=\"unexpected exception\", inner=e)\n",
      "thrift.transport.TTransport.TTransportException: unexpected exception\n",
      "Exception in thread Thread-11 (monitor_thread):\n",
      "Traceback (most recent call last):\n",
      "  File \"/Users/machrist/Airavata/Cybershuttle/cybershuttle-md/venv/lib/python3.10/site-packages/thrift/transport/TSocket.py\", line 150, in read\n",
      "    buff = self.handle.recv(sz)\n",
      "  File \"/Library/Frameworks/Python.framework/Versions/3.10/lib/python3.10/ssl.py\", line 1259, in recv\n",
      "    return self.read(buflen)\n",
      "  File \"/Library/Frameworks/Python.framework/Versions/3.10/lib/python3.10/ssl.py\", line 1132, in read\n",
      "    return self._sslobj.read(len)\n",
      "TimeoutError: The read operation timed out\n",
      "\n",
      "During handling of the above exception, another exception occurred:\n",
      "\n",
      "Traceback (most recent call last):\n",
      "  File \"/Library/Frameworks/Python.framework/Versions/3.10/lib/python3.10/threading.py\", line 1016, in _bootstrap_inner\n",
      "    self.run()\n",
      "  File \"/Library/Frameworks/Python.framework/Versions/3.10/lib/python3.10/threading.py\", line 953, in run\n",
      "    self._target(*self._args, **self._kwargs)\n",
      "  File \"/Users/machrist/Airavata/Cybershuttle/md-notebook/cybershuttle_md_cli/experiment_util.py\", line 310, in monitor_thread\n",
      "    status: ExperimentStatus = self.api_server_client.get_experiment_status(\n",
      "  File \"/Users/machrist/Airavata/Cybershuttle/cybershuttle-md/venv/lib/python3.10/site-packages/airavata_sdk/clients/api_server_client.py\", line 1524, in get_experiment_status\n",
      "    return self.api_server_client_pool.getExperimentStatus(authz_token, airavata_experiment_id)\n",
      "  File \"/Users/machrist/Airavata/Cybershuttle/cybershuttle-md/venv/lib/python3.10/site-packages/thrift_connector/connection_pool.py\", line 375, in method\n",
      "    return api(*args, **kwds)\n",
      "  File \"/Users/machrist/Airavata/Cybershuttle/cybershuttle-md/venv/lib/python3.10/site-packages/thrift_connector/hooks.py\", line 43, in wrapper\n",
      "    ret = func(*args, **kwargs)\n",
      "  File \"/Users/machrist/Airavata/Cybershuttle/cybershuttle-md/venv/lib/python3.10/site-packages/airavata/api/Airavata.py\", line 6097, in getExperimentStatus\n",
      "    return self.recv_getExperimentStatus()\n",
      "  File \"/Users/machrist/Airavata/Cybershuttle/cybershuttle-md/venv/lib/python3.10/site-packages/airavata/api/Airavata.py\", line 6110, in recv_getExperimentStatus\n",
      "    (fname, mtype, rseqid) = iprot.readMessageBegin()\n",
      "  File \"/Users/machrist/Airavata/Cybershuttle/cybershuttle-md/venv/lib/python3.10/site-packages/thrift/protocol/TBinaryProtocol.py\", line 134, in readMessageBegin\n",
      "    sz = self.readI32()\n",
      "  File \"/Users/machrist/Airavata/Cybershuttle/cybershuttle-md/venv/lib/python3.10/site-packages/thrift/protocol/TBinaryProtocol.py\", line 217, in readI32\n",
      "    buff = self.trans.readAll(4)\n",
      "  File \"/Users/machrist/Airavata/Cybershuttle/cybershuttle-md/venv/lib/python3.10/site-packages/thrift/transport/TTransport.py\", line 62, in readAll\n",
      "    chunk = self.read(sz - have)\n",
      "  File \"/Users/machrist/Airavata/Cybershuttle/cybershuttle-md/venv/lib/python3.10/site-packages/thrift/transport/TTransport.py\", line 164, in read\n",
      "    self.__rbuf = BufferIO(self.__trans.read(max(sz, self.__rbuf_size)))\n",
      "  File \"/Users/machrist/Airavata/Cybershuttle/cybershuttle-md/venv/lib/python3.10/site-packages/thrift/transport/TSocket.py\", line 164, in read\n",
      "    raise TTransportException(message=\"unexpected exception\", inner=e)\n",
      "thrift.transport.TTransport.TTransportException: unexpected exception\n"
     ]
    }
   ],
   "source": [
    "experiment_util.monitor_experiment(\"Clone_of_Clone_of_Deca-alanine_c8d398bd-c8cd-44a9-8b11-daf39069ea98\")"
   ]
  },
  {
   "cell_type": "code",
   "execution_count": null,
   "id": "9e3e2521-408e-4698-872f-bf426e10fc63",
   "metadata": {},
   "outputs": [],
   "source": []
  }
 ],
 "metadata": {
  "kernelspec": {
   "display_name": "Python 3 (ipykernel)",
   "language": "python",
   "name": "python3"
  },
  "language_info": {
   "codemirror_mode": {
    "name": "ipython",
    "version": 3
   },
   "file_extension": ".py",
   "mimetype": "text/x-python",
   "name": "python",
   "nbconvert_exporter": "python",
   "pygments_lexer": "ipython3",
   "version": "3.11.5"
  }
 },
 "nbformat": 4,
 "nbformat_minor": 5
}
