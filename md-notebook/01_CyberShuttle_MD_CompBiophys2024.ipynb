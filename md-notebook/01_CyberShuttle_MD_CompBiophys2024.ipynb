{
 "cells": [
  {
   "cell_type": "markdown",
   "id": "7a9d999b-0fdb-4726-8bfc-5eafccde6ec5",
   "metadata": {},
   "source": [
    "# Computational Biophysics Workshop - 2024\n",
    "Department of Physics - Auburn University\n",
    "Beckman Institute - UUIC\n",
    "\n",
    "# CyberShuttle tutorial\n",
    "Authors:\n",
    "Diego E. B. Gomes, Dimuthu, Sudhakar Pamidighatam. "
   ]
  },
  {
   "cell_type": "markdown",
   "id": "75ae421f-62cc-46d5-97f5-c3ac58d3d9df",
   "metadata": {},
   "source": [
    "## The CyberShuttle Molecular Dynamics Gateway:\n",
    "Lets do a quick tour of the CyberShuttle MD Gateway.\n",
    "\n",
    "Start by loging into the [CyberShuttle Molecular Dynamics Gateway](https://md.cybershuttle.org).\n",
    "\n",
    "We'll illustrate how to use the Gateway to monitor the progress of this notebook.\n",
    "\n",
    "(You may need to first create an account)\n",
    "\n",
    "### The CyberShuttle MD GateWay Landing Page\n",
    "<figure>\n",
    "<img src=\"./screenshots/LandingPage.png\" style=\"width:80%\">\n",
    "<figcaption align = \"center\"> CyberShuttle Molecular Dynamics Gateway </figcaption>\n",
    "</figure>"
   ]
  },
  {
   "cell_type": "markdown",
   "id": "093945dd-3309-486f-97cf-6e66eb604798",
   "metadata": {},
   "source": [
    "### Login Page\n",
    "<figure>\n",
    "<img src=\"./screenshots/SignIn.png\" style=\"width:80%\">\n",
    "<figcaption align = \"center\"> You may use existing credentials or create an account.\n",
    " </figcaption>\n",
    "</figure>"
   ]
  },
  {
   "cell_type": "markdown",
   "id": "448bc075-b7f3-4577-85cf-ccd6312346b1",
   "metadata": {},
   "source": [
    "### Login page with Organization credentials\n",
    "<figure>\n",
    "<img src=\"./screenshots/Credentials.png\" style=\"width:80%\">\n",
    "<figcaption align = \"center\"> Example of sign in using a US-based research instituton login.\n",
    " </figcaption>\n",
    "</figure>"
   ]
  },
  {
   "cell_type": "markdown",
   "id": "ebf2fc11-5c20-49f7-8906-3fb1b2dfabf5",
   "metadata": {},
   "source": [
    "### The Applications DashBoard\n",
    "The main CyberShuttle Dashboard shows the applications available to the user.\n",
    "* On the righthand side, a quick view of their latest experiments.\n",
    "* The <b>first toolbar icon</b>b on the left gives access to the <b>dashboard</b>.\n",
    "<figure>\n",
    "<img src=\"./screenshots/Dashboard.png\" style=\"width:80%\">\n",
    "<figcaption align = \"center\"> The main CyberShuttle Dashboard\n",
    " </figcaption>\n",
    "</figure>"
   ]
  },
  {
   "cell_type": "markdown",
   "id": "0960d1d6-c89d-4fb8-bf11-85759cd1be7c",
   "metadata": {},
   "source": [
    "### Showing Projects\n",
    "The <b>third</b> icon on the left gives you access to your projects.\n",
    "* Every user has the <b>Default Project</b> as default\n"
   ]
  },
  {
   "cell_type": "markdown",
   "id": "88ef6142-e3db-4750-a8fa-2ec1447f379c",
   "metadata": {},
   "source": [
    "<figure>\n",
    "<img src=\"./screenshots/Projects.png\" style=\"width:80%\">\n",
    "<figcaption align = \"center\"> The main MD.CyberShuttle Dashboard showing the applications available to the user, also a quick view of their latest jobs.\n",
    " </figcaption>\n",
    "</figure>"
   ]
  },
  {
   "cell_type": "markdown",
   "id": "301d9327-e6e5-45b9-a002-a4bdbfe6d9e6",
   "metadata": {},
   "source": [
    "### Show Experiments\n",
    "The <b>second</b> icon on the left gives you access to your experiments.\n",
    "* Name, application, creation time, status.\n",
    "* One may browse the experiments use the search fields to facilitate finding their projects."
   ]
  },
  {
   "cell_type": "markdown",
   "id": "8349fbbc-ca81-4831-950e-e51ba743f746",
   "metadata": {},
   "source": [
    "\n",
    "<figure>\n",
    "<img src=\"./screenshots/Experiments.png\" style=\"width:80%\">\n",
    "<figcaption align = \"center\"> The main CyberShuttle Experiments Dashboard \n",
    " </figcaption>\n",
    "</figure>"
   ]
  },
  {
   "cell_type": "code",
   "execution_count": null,
   "id": "b078cc81-6dcd-47d9-9b9d-078e86d5f766",
   "metadata": {},
   "outputs": [],
   "source": []
  },
  {
   "cell_type": "markdown",
   "id": "8f290995-ba22-4309-a316-a9e4b3b59560",
   "metadata": {},
   "source": [
    "# Creating a new experiment"
   ]
  },
  {
   "cell_type": "code",
   "execution_count": 61,
   "id": "4ab497ef-bd74-40cf-b0cf-4478d7ba50e7",
   "metadata": {},
   "outputs": [],
   "source": [
    "#Import some python modules to start\n",
    "import pandas as pd"
   ]
  },
  {
   "cell_type": "code",
   "execution_count": 62,
   "id": "9f8d75b2-cf89-4b5b-9468-d43624b2fc25",
   "metadata": {},
   "outputs": [],
   "source": [
    "# Ignore warnings\n",
    "import warnings\n",
    "warnings.filterwarnings('ignore')"
   ]
  },
  {
   "cell_type": "markdown",
   "id": "0e13d77f-9e2b-470a-96ef-2a5616c9ab64",
   "metadata": {},
   "source": [
    "# Using the Python API"
   ]
  },
  {
   "cell_type": "markdown",
   "id": "ba7dd6d6-df85-4972-85dd-376eb9e84600",
   "metadata": {},
   "source": [
    "## Getting Started\n",
    "Install python requirements to connect with Cybershuttle\n",
    "```bash\n",
    "# Clone the cybershuttle repository\n",
    "git clone https://github.com/cyber-shuttle/cybershuttle-md-api.git\n",
    "\n",
    "# Create a new environment ( We like conda )\n",
    "conda create -n cybershuttle\n",
    "conda activate cybershuttle\n",
    "\n",
    "# Install dependencies\n",
    "pip install -r requirements.txt\n",
    "\n",
    "# Open this Jupyter lab notebook using the environment you've created.\n",
    "```"
   ]
  },
  {
   "cell_type": "markdown",
   "id": "63631997-aa8b-40fa-a54b-39d72912ac64",
   "metadata": {},
   "source": [
    "### Step 1 - Authenticate to Cybershuttle\n",
    "The next cell will open a browser tab for you to authenticate to cybershuttle with your ACCESS account. \n",
    "* US-based researchers may use their university login instead.\n",
    "* The file <b>settings-NAMD.ini</b> has the configuration to connect to the cybershuttle community server."
   ]
  },
  {
   "cell_type": "code",
   "execution_count": 63,
   "id": "8a221651-82af-4287-a620-663ecaa4bcca",
   "metadata": {},
   "outputs": [
    {
     "name": "stdout",
     "output_type": "stream",
     "text": [
      "logged in\n"
     ]
    }
   ],
   "source": [
    "from cybershuttle_md_cli import auth\n",
    "auth.do_authorization_flow('./settings-NAMD.ini')\n",
    "\n",
    "print(\"logged in\")"
   ]
  },
  {
   "cell_type": "markdown",
   "id": "add044dd-a39c-449a-803d-1c4ae6bab36a",
   "metadata": {},
   "source": [
    "### Step 2 - Initialize \"experiment Utilities\"\n",
    "Experiment utililties contains the routines to access, send jobs & retrieve data to cybershuttle gateway.\n",
    "* It uses the same configurations as \"settings-NAMD.ini\""
   ]
  },
  {
   "cell_type": "code",
   "execution_count": 64,
   "id": "4d03f85a-9809-4e99-9b13-9abf8da1f5c6",
   "metadata": {},
   "outputs": [],
   "source": [
    "from cybershuttle_md_cli.experiment_util import ExperimentUtil\n",
    "experiment_util = ExperimentUtil(\"./settings-NAMD.ini\")"
   ]
  },
  {
   "cell_type": "markdown",
   "id": "3d99a4b7-12e4-49c2-9003-ecfe175d5d9f",
   "metadata": {},
   "source": [
    "### List projects"
   ]
  },
  {
   "cell_type": "markdown",
   "id": "ee652617-8cb9-4e6a-bebf-c3f34c7efe27",
   "metadata": {},
   "source": [
    "TBD"
   ]
  },
  {
   "cell_type": "markdown",
   "id": "c1716033-531c-42c0-8e24-340cfef2512d",
   "metadata": {},
   "source": [
    "### List experiments\n",
    "Show experiments will retrieve the list of experiments."
   ]
  },
  {
   "cell_type": "markdown",
   "id": "a02af1de-09ad-40f5-8c06-196fd938745b",
   "metadata": {},
   "source": [
    "Retrieve the whole list of experiments"
   ]
  },
  {
   "cell_type": "code",
   "execution_count": 49,
   "id": "db691e62-b2f8-4982-908c-7f19c6fb101e",
   "metadata": {},
   "outputs": [],
   "source": [
    "all_exp = experiment_util.show_experiments()"
   ]
  },
  {
   "cell_type": "markdown",
   "id": "cf655a4c-a4d2-4ae8-9ffa-aeb6c9b8dc7a",
   "metadata": {},
   "source": [
    "The available keys are:"
   ]
  },
  {
   "cell_type": "code",
   "execution_count": 50,
   "id": "94e86452-1d15-4eb8-bd53-431df48d6ef1",
   "metadata": {},
   "outputs": [
    {
     "data": {
      "text/plain": [
       "dict_keys(['experimentId', 'projectId', 'gatewayId', 'creationTime', 'userName', 'name', 'description', 'executionId', 'resourceHostId', 'experimentStatus', 'statusUpdateTime'])"
      ]
     },
     "execution_count": 50,
     "metadata": {},
     "output_type": "execute_result"
    }
   ],
   "source": [
    "vars(all_exp[0]).keys()"
   ]
  },
  {
   "cell_type": "markdown",
   "id": "5dd0ba0e-2590-4807-9d44-21d2d7289b30",
   "metadata": {},
   "source": [
    "As you can see, the available keys are:\n",
    "| Key | Description |\n",
    "| -- | -- | \n",
    "| experimentId | Experiment ID based on the name you gave to it|\n",
    "| projectId | Project ID |\n",
    "| gatewayId|  |\n",
    "| creationTime| Date and time for the creation of an experiment |\n",
    "| userName | User name (e-mail) |\n",
    "| name | Experiment name |\n",
    "| description | Experiment description |\n",
    "| executionId | |\n",
    "| resourceHostId| |\n",
    "| experimentStatus | Running, Complete, Fail |\n",
    "| statusUpdateTime | |"
   ]
  },
  {
   "cell_type": "markdown",
   "id": "40e89468-0c0d-465f-b077-d815711ac62b",
   "metadata": {},
   "source": [
    "#### Experiments can be accessed by index, lets see more details of the first one"
   ]
  },
  {
   "cell_type": "code",
   "execution_count": 51,
   "id": "f2a705dd-a0da-46f6-ae36-759d5279d451",
   "metadata": {},
   "outputs": [
    {
     "data": {
      "text/plain": [
       "ExperimentSummaryModel(experimentId='NAMD_on_Mar_12,_2024_3:21_PM_0692f2ee-7883-43a7-8f38-b313ff92db59', projectId='5xh3_53c6cd02-4e26-4298-84e3-7883ae2a6614', gatewayId='molecular-dynamics', creationTime=1710275018000, userName='deb0054@auburn.edu', name='NAMD on Mar 12, 2024 3:21 PM', description=None, executionId='NAMD_dd041e87-1dde-4e57-8ec4-23af2ffa1ba0', resourceHostId='NCSADelta_e75b0d04-8b4b-417b-8ab4-da76bbd835f5', experimentStatus='COMPLETED', statusUpdateTime=1710275559814)"
      ]
     },
     "execution_count": 51,
     "metadata": {},
     "output_type": "execute_result"
    }
   ],
   "source": [
    "all_exp[0]"
   ]
  },
  {
   "cell_type": "markdown",
   "id": "1cd1ddf9-83ad-4b81-9e3a-c9ff171f218a",
   "metadata": {},
   "source": [
    "#### Lets print some of them as a table"
   ]
  },
  {
   "cell_type": "code",
   "execution_count": 52,
   "id": "afa6b553-d1e1-44c6-abae-f7948bcc8f74",
   "metadata": {},
   "outputs": [
    {
     "data": {
      "text/html": [
       "<div>\n",
       "<style scoped>\n",
       "    .dataframe tbody tr th:only-of-type {\n",
       "        vertical-align: middle;\n",
       "    }\n",
       "\n",
       "    .dataframe tbody tr th {\n",
       "        vertical-align: top;\n",
       "    }\n",
       "\n",
       "    .dataframe thead th {\n",
       "        text-align: right;\n",
       "    }\n",
       "</style>\n",
       "<table border=\"1\" class=\"dataframe\">\n",
       "  <thead>\n",
       "    <tr style=\"text-align: right;\">\n",
       "      <th></th>\n",
       "      <th>name</th>\n",
       "      <th>experimentStatus</th>\n",
       "      <th>experimentId</th>\n",
       "    </tr>\n",
       "  </thead>\n",
       "  <tbody>\n",
       "    <tr>\n",
       "      <th>0</th>\n",
       "      <td>NAMD on Mar 12, 2024 3:21 PM</td>\n",
       "      <td>COMPLETED</td>\n",
       "      <td>NAMD_on_Mar_12,_2024_3:21_PM_0692f2ee-7883-43a...</td>\n",
       "    </tr>\n",
       "    <tr>\n",
       "      <th>1</th>\n",
       "      <td>Heating CPU v3</td>\n",
       "      <td>COMPLETED</td>\n",
       "      <td>Clone_of_Heating_CPU_2_0de19f57-629d-417f-b25f...</td>\n",
       "    </tr>\n",
       "    <tr>\n",
       "      <th>2</th>\n",
       "      <td>Heating CPU 2</td>\n",
       "      <td>COMPLETED</td>\n",
       "      <td>Clone_of_Minimization_4th_test_1aa81684-38ad-4...</td>\n",
       "    </tr>\n",
       "    <tr>\n",
       "      <th>3</th>\n",
       "      <td>Heating again</td>\n",
       "      <td>FAILED</td>\n",
       "      <td>Clone_of_Minimization_4th_test_7e659c34-a7aa-4...</td>\n",
       "    </tr>\n",
       "    <tr>\n",
       "      <th>4</th>\n",
       "      <td>Heating CPU</td>\n",
       "      <td>COMPLETED</td>\n",
       "      <td>Clone_of_Minimization_4th_test_411b8eeb-dc98-4...</td>\n",
       "    </tr>\n",
       "    <tr>\n",
       "      <th>5</th>\n",
       "      <td>Heating</td>\n",
       "      <td>CANCELED</td>\n",
       "      <td>Clone_of_Minimization_4th_test_2d6f8470-aa37-4...</td>\n",
       "    </tr>\n",
       "    <tr>\n",
       "      <th>6</th>\n",
       "      <td>Minimization 4th test</td>\n",
       "      <td>COMPLETED</td>\n",
       "      <td>Clone_of_Minimization_3rd_test_56c9dc4f-ec4a-4...</td>\n",
       "    </tr>\n",
       "    <tr>\n",
       "      <th>7</th>\n",
       "      <td>NAMD2</td>\n",
       "      <td>COMPLETED</td>\n",
       "      <td>NAMD2_947e2cd2-0213-4f2d-9ed6-c058aa2f1fb2</td>\n",
       "    </tr>\n",
       "    <tr>\n",
       "      <th>8</th>\n",
       "      <td>Minimization 3rd test</td>\n",
       "      <td>COMPLETED</td>\n",
       "      <td>Clone_of_Minimization_again_ae75579b-74a6-4f17...</td>\n",
       "    </tr>\n",
       "    <tr>\n",
       "      <th>9</th>\n",
       "      <td>Minimization again</td>\n",
       "      <td>COMPLETED</td>\n",
       "      <td>Minimization_again_207614ff-8c56-43f3-8827-7e9...</td>\n",
       "    </tr>\n",
       "  </tbody>\n",
       "</table>\n",
       "</div>"
      ],
      "text/plain": [
       "                           name experimentStatus  \\\n",
       "0  NAMD on Mar 12, 2024 3:21 PM        COMPLETED   \n",
       "1                Heating CPU v3        COMPLETED   \n",
       "2                 Heating CPU 2        COMPLETED   \n",
       "3                 Heating again           FAILED   \n",
       "4                   Heating CPU        COMPLETED   \n",
       "5                       Heating         CANCELED   \n",
       "6         Minimization 4th test        COMPLETED   \n",
       "7                         NAMD2        COMPLETED   \n",
       "8         Minimization 3rd test        COMPLETED   \n",
       "9            Minimization again        COMPLETED   \n",
       "\n",
       "                                        experimentId  \n",
       "0  NAMD_on_Mar_12,_2024_3:21_PM_0692f2ee-7883-43a...  \n",
       "1  Clone_of_Heating_CPU_2_0de19f57-629d-417f-b25f...  \n",
       "2  Clone_of_Minimization_4th_test_1aa81684-38ad-4...  \n",
       "3  Clone_of_Minimization_4th_test_7e659c34-a7aa-4...  \n",
       "4  Clone_of_Minimization_4th_test_411b8eeb-dc98-4...  \n",
       "5  Clone_of_Minimization_4th_test_2d6f8470-aa37-4...  \n",
       "6  Clone_of_Minimization_3rd_test_56c9dc4f-ec4a-4...  \n",
       "7         NAMD2_947e2cd2-0213-4f2d-9ed6-c058aa2f1fb2  \n",
       "8  Clone_of_Minimization_again_ae75579b-74a6-4f17...  \n",
       "9  Minimization_again_207614ff-8c56-43f3-8827-7e9...  "
      ]
     },
     "execution_count": 52,
     "metadata": {},
     "output_type": "execute_result"
    }
   ],
   "source": [
    "my_list = ['name','experimentStatus','experimentId']\n",
    "experiment_list = []\n",
    "for e in all_exp : \n",
    "    experiment_list.append(tuple(map(vars(e).get, my_list)))\n",
    "\n",
    "pd.DataFrame(experiment_list,columns=my_list)"
   ]
  },
  {
   "cell_type": "markdown",
   "id": "5d8d5cc1-3fc2-4369-9dd8-be42fff06e8e",
   "metadata": {},
   "source": [
    "#### List files within an experiment\n",
    "Using the previous dictionary "
   ]
  },
  {
   "cell_type": "code",
   "execution_count": 53,
   "id": "6f0f3fd5-3ab2-406b-b149-ee9fd22bccdf",
   "metadata": {},
   "outputs": [
    {
     "data": {
      "text/plain": [
       "[('NAMD on Mar 12, 2024 3:21 PM',\n",
       "  'COMPLETED',\n",
       "  'NAMD_on_Mar_12,_2024_3:21_PM_0692f2ee-7883-43a7-8f38-b313ff92db59'),\n",
       " ('Heating CPU v3',\n",
       "  'COMPLETED',\n",
       "  'Clone_of_Heating_CPU_2_0de19f57-629d-417f-b25f-e9067b614d0f'),\n",
       " ('Heating CPU 2',\n",
       "  'COMPLETED',\n",
       "  'Clone_of_Minimization_4th_test_1aa81684-38ad-4641-9002-560b2fd71de9'),\n",
       " ('Heating again',\n",
       "  'FAILED',\n",
       "  'Clone_of_Minimization_4th_test_7e659c34-a7aa-48ac-9ca7-83d29c9efc72'),\n",
       " ('Heating CPU',\n",
       "  'COMPLETED',\n",
       "  'Clone_of_Minimization_4th_test_411b8eeb-dc98-4e44-a99b-97823bf76606'),\n",
       " ('Heating',\n",
       "  'CANCELED',\n",
       "  'Clone_of_Minimization_4th_test_2d6f8470-aa37-488b-bfa6-ffde6e0a4421'),\n",
       " ('Minimization 4th test',\n",
       "  'COMPLETED',\n",
       "  'Clone_of_Minimization_3rd_test_56c9dc4f-ec4a-4c43-a077-7a317faa4d8b'),\n",
       " ('NAMD2', 'COMPLETED', 'NAMD2_947e2cd2-0213-4f2d-9ed6-c058aa2f1fb2'),\n",
       " ('Minimization 3rd test',\n",
       "  'COMPLETED',\n",
       "  'Clone_of_Minimization_again_ae75579b-74a6-4f17-b8ff-6e1129f01a77'),\n",
       " ('Minimization again',\n",
       "  'COMPLETED',\n",
       "  'Minimization_again_207614ff-8c56-43f3-8827-7e98340d23b7')]"
      ]
     },
     "execution_count": 53,
     "metadata": {},
     "output_type": "execute_result"
    }
   ],
   "source": [
    "experiment_list"
   ]
  },
  {
   "cell_type": "markdown",
   "id": "1d79b76f-e7f8-4fed-ab9a-a43fbdc95458",
   "metadata": {},
   "source": [
    "#### Lets set an experiment ID to get data from:"
   ]
  },
  {
   "cell_type": "code",
   "execution_count": 65,
   "id": "4f39f8e7-9d87-47a7-99b4-bdbf7d201960",
   "metadata": {},
   "outputs": [],
   "source": [
    "experimentID = \"5xh3_minimization_5f498b85-c29f-4832-a908-a78bdd0730d1\"\n",
    "# experimentID = \"NAMD_on_Mar_12,_2024_3:21_PM_0692f2ee-7883-43a7-8f38-b313ff92db59\"\n",
    "experiment_files = experiment_util.get_all_files_for_experiment(experimentID).get('files')"
   ]
  },
  {
   "cell_type": "code",
   "execution_count": 67,
   "id": "d533b34c-f581-4e60-ae05-838e3fe668a6",
   "metadata": {},
   "outputs": [
    {
     "name": "stdout",
     "output_type": "stream",
     "text": [
      "There are 10 files. \n",
      "5xh3_QwikMD.psf\n",
      "par_all36_prot.prm\n",
      "par_all36_cgenff.prm\n",
      "par_all36_lipid.prm\n",
      "par_all36_na.prm\n",
      "par_all36_carb.prm\n",
      "toppar_all36_na_nad_ppi_gdp_gtp_qwikmd.str\n",
      "toppar_all36_carb_glycopeptide.str\n",
      "toppar_water_ions_namd.str\n",
      "Minimization.conf\n"
     ]
    }
   ],
   "source": [
    "print(f'''There are {len(experiment_files)} files. ''')\n",
    "\n",
    "for f in experiment_files:\n",
    "    print(f.get('name'))"
   ]
  },
  {
   "cell_type": "markdown",
   "id": "f0000917-8619-447b-9c4c-6eb5a6afad29",
   "metadata": {},
   "source": [
    "#### Experiment files come with a url for you to download:\n",
    "Lets show a table with the file name and URL, and save to a list for latter use."
   ]
  },
  {
   "cell_type": "code",
   "execution_count": 56,
   "id": "f82d5548-6752-4888-b0a7-48e66aa8be70",
   "metadata": {},
   "outputs": [
    {
     "data": {
      "text/html": [
       "<div>\n",
       "<style scoped>\n",
       "    .dataframe tbody tr th:only-of-type {\n",
       "        vertical-align: middle;\n",
       "    }\n",
       "\n",
       "    .dataframe tbody tr th {\n",
       "        vertical-align: top;\n",
       "    }\n",
       "\n",
       "    .dataframe thead th {\n",
       "        text-align: right;\n",
       "    }\n",
       "</style>\n",
       "<table border=\"1\" class=\"dataframe\">\n",
       "  <thead>\n",
       "    <tr style=\"text-align: right;\">\n",
       "      <th></th>\n",
       "      <th>name</th>\n",
       "      <th>downloadURL</th>\n",
       "    </tr>\n",
       "  </thead>\n",
       "  <tbody>\n",
       "    <tr>\n",
       "      <th>0</th>\n",
       "      <td>Minimization_restraints.pdb</td>\n",
       "      <td>https://md.cybershuttle.org/sdk/download/?data...</td>\n",
       "    </tr>\n",
       "    <tr>\n",
       "      <th>1</th>\n",
       "      <td>5xh3_QwikMD.pdb</td>\n",
       "      <td>https://md.cybershuttle.org/sdk/download/?data...</td>\n",
       "    </tr>\n",
       "    <tr>\n",
       "      <th>2</th>\n",
       "      <td>par_all36_lipid.prm</td>\n",
       "      <td>https://md.cybershuttle.org/sdk/download/?data...</td>\n",
       "    </tr>\n",
       "    <tr>\n",
       "      <th>3</th>\n",
       "      <td>par_all36_na.prm</td>\n",
       "      <td>https://md.cybershuttle.org/sdk/download/?data...</td>\n",
       "    </tr>\n",
       "    <tr>\n",
       "      <th>4</th>\n",
       "      <td>par_all36_carb.prm</td>\n",
       "      <td>https://md.cybershuttle.org/sdk/download/?data...</td>\n",
       "    </tr>\n",
       "    <tr>\n",
       "      <th>5</th>\n",
       "      <td>toppar_all36_carb_glycopeptide.str</td>\n",
       "      <td>https://md.cybershuttle.org/sdk/download/?data...</td>\n",
       "    </tr>\n",
       "    <tr>\n",
       "      <th>6</th>\n",
       "      <td>toppar_water_ions_namd.str</td>\n",
       "      <td>https://md.cybershuttle.org/sdk/download/?data...</td>\n",
       "    </tr>\n",
       "    <tr>\n",
       "      <th>7</th>\n",
       "      <td>par_all36_prot.prm</td>\n",
       "      <td>https://md.cybershuttle.org/sdk/download/?data...</td>\n",
       "    </tr>\n",
       "    <tr>\n",
       "      <th>8</th>\n",
       "      <td>toppar_all36_na_nad_ppi_gdp_gtp_qwikmd.str</td>\n",
       "      <td>https://md.cybershuttle.org/sdk/download/?data...</td>\n",
       "    </tr>\n",
       "    <tr>\n",
       "      <th>9</th>\n",
       "      <td>par_all36_cgenff.prm</td>\n",
       "      <td>https://md.cybershuttle.org/sdk/download/?data...</td>\n",
       "    </tr>\n",
       "    <tr>\n",
       "      <th>10</th>\n",
       "      <td>Minimization.conf</td>\n",
       "      <td>https://md.cybershuttle.org/sdk/download/?data...</td>\n",
       "    </tr>\n",
       "    <tr>\n",
       "      <th>11</th>\n",
       "      <td>Minimization.xsc</td>\n",
       "      <td>https://md.cybershuttle.org/sdk/download/?data...</td>\n",
       "    </tr>\n",
       "    <tr>\n",
       "      <th>12</th>\n",
       "      <td>5xh3_QwikMD.psf</td>\n",
       "      <td>https://md.cybershuttle.org/sdk/download/?data...</td>\n",
       "    </tr>\n",
       "    <tr>\n",
       "      <th>13</th>\n",
       "      <td>NAMD.stderr</td>\n",
       "      <td>https://md.cybershuttle.org/sdk/download/?data...</td>\n",
       "    </tr>\n",
       "    <tr>\n",
       "      <th>14</th>\n",
       "      <td>NAMD.stdout</td>\n",
       "      <td>https://md.cybershuttle.org/sdk/download/?data...</td>\n",
       "    </tr>\n",
       "    <tr>\n",
       "      <th>15</th>\n",
       "      <td>Minimization.dcd</td>\n",
       "      <td>https://md.cybershuttle.org/sdk/download/?data...</td>\n",
       "    </tr>\n",
       "  </tbody>\n",
       "</table>\n",
       "</div>"
      ],
      "text/plain": [
       "                                          name  \\\n",
       "0                  Minimization_restraints.pdb   \n",
       "1                              5xh3_QwikMD.pdb   \n",
       "2                          par_all36_lipid.prm   \n",
       "3                             par_all36_na.prm   \n",
       "4                           par_all36_carb.prm   \n",
       "5           toppar_all36_carb_glycopeptide.str   \n",
       "6                   toppar_water_ions_namd.str   \n",
       "7                           par_all36_prot.prm   \n",
       "8   toppar_all36_na_nad_ppi_gdp_gtp_qwikmd.str   \n",
       "9                         par_all36_cgenff.prm   \n",
       "10                           Minimization.conf   \n",
       "11                            Minimization.xsc   \n",
       "12                             5xh3_QwikMD.psf   \n",
       "13                                 NAMD.stderr   \n",
       "14                                 NAMD.stdout   \n",
       "15                            Minimization.dcd   \n",
       "\n",
       "                                          downloadURL  \n",
       "0   https://md.cybershuttle.org/sdk/download/?data...  \n",
       "1   https://md.cybershuttle.org/sdk/download/?data...  \n",
       "2   https://md.cybershuttle.org/sdk/download/?data...  \n",
       "3   https://md.cybershuttle.org/sdk/download/?data...  \n",
       "4   https://md.cybershuttle.org/sdk/download/?data...  \n",
       "5   https://md.cybershuttle.org/sdk/download/?data...  \n",
       "6   https://md.cybershuttle.org/sdk/download/?data...  \n",
       "7   https://md.cybershuttle.org/sdk/download/?data...  \n",
       "8   https://md.cybershuttle.org/sdk/download/?data...  \n",
       "9   https://md.cybershuttle.org/sdk/download/?data...  \n",
       "10  https://md.cybershuttle.org/sdk/download/?data...  \n",
       "11  https://md.cybershuttle.org/sdk/download/?data...  \n",
       "12  https://md.cybershuttle.org/sdk/download/?data...  \n",
       "13  https://md.cybershuttle.org/sdk/download/?data...  \n",
       "14  https://md.cybershuttle.org/sdk/download/?data...  \n",
       "15  https://md.cybershuttle.org/sdk/download/?data...  "
      ]
     },
     "execution_count": 56,
     "metadata": {},
     "output_type": "execute_result"
    }
   ],
   "source": [
    "my_list = ['name','downloadURL']\n",
    "file_urls = []\n",
    "for f in experiment_files:\n",
    "    # file_urls.append([f.get('name'),f.get('downloadURL')])\n",
    "    file_urls.append(list(map(f.get,my_list)))\n",
    "    \n",
    "pd.DataFrame(file_urls,columns=my_list)"
   ]
  },
  {
   "cell_type": "code",
   "execution_count": 57,
   "id": "ca253e71-5564-4956-a62d-ebc9d98c89c3",
   "metadata": {},
   "outputs": [
    {
     "data": {
      "text/plain": [
       "[['Minimization_restraints.pdb',\n",
       "  'https://md.cybershuttle.org/sdk/download/?data-product-uri=airavata-dp%3A%2F%2Fe1aeaabb-4bcc-455e-b023-9861d896adef'],\n",
       " ['5xh3_QwikMD.pdb',\n",
       "  'https://md.cybershuttle.org/sdk/download/?data-product-uri=airavata-dp%3A%2F%2F702e4529-bc70-41a8-a47a-291dd6608a74'],\n",
       " ['par_all36_lipid.prm',\n",
       "  'https://md.cybershuttle.org/sdk/download/?data-product-uri=airavata-dp%3A%2F%2F7d8f16b8-58f3-49c9-9a13-f02206c7f2b3'],\n",
       " ['par_all36_na.prm',\n",
       "  'https://md.cybershuttle.org/sdk/download/?data-product-uri=airavata-dp%3A%2F%2F89b01c4e-b1ac-4944-bf6d-37babda80b5c'],\n",
       " ['par_all36_carb.prm',\n",
       "  'https://md.cybershuttle.org/sdk/download/?data-product-uri=airavata-dp%3A%2F%2Fcebe10ef-c27b-43b0-ad8c-402bb7a6075e'],\n",
       " ['toppar_all36_carb_glycopeptide.str',\n",
       "  'https://md.cybershuttle.org/sdk/download/?data-product-uri=airavata-dp%3A%2F%2F85e8c1f7-202b-4544-9243-3f470e4a391c'],\n",
       " ['toppar_water_ions_namd.str',\n",
       "  'https://md.cybershuttle.org/sdk/download/?data-product-uri=airavata-dp%3A%2F%2F2bf3e9ef-3569-4809-b867-9f50802c0fb9'],\n",
       " ['par_all36_prot.prm',\n",
       "  'https://md.cybershuttle.org/sdk/download/?data-product-uri=airavata-dp%3A%2F%2Fc49f891c-5484-4318-99d2-9017ba14394b'],\n",
       " ['toppar_all36_na_nad_ppi_gdp_gtp_qwikmd.str',\n",
       "  'https://md.cybershuttle.org/sdk/download/?data-product-uri=airavata-dp%3A%2F%2F6eaee8e9-edb3-471b-948d-1ea6249242c2'],\n",
       " ['par_all36_cgenff.prm',\n",
       "  'https://md.cybershuttle.org/sdk/download/?data-product-uri=airavata-dp%3A%2F%2Ff3934373-7535-4c9a-bb42-1a40cd933af9'],\n",
       " ['Minimization.conf',\n",
       "  'https://md.cybershuttle.org/sdk/download/?data-product-uri=airavata-dp%3A%2F%2F0634f75c-103d-4952-8249-963b8d16c68e'],\n",
       " ['Minimization.xsc',\n",
       "  'https://md.cybershuttle.org/sdk/download/?data-product-uri=airavata-dp%3A%2F%2Fd1e9bfd8-0ab2-4e90-bc2b-c8b8a53a635b'],\n",
       " ['5xh3_QwikMD.psf',\n",
       "  'https://md.cybershuttle.org/sdk/download/?data-product-uri=airavata-dp%3A%2F%2Fc907338c-18c6-4c47-8d83-63e0f2c738f8'],\n",
       " ['NAMD.stderr',\n",
       "  'https://md.cybershuttle.org/sdk/download/?data-product-uri=airavata-dp%3A%2F%2F634a90a3-a15b-4087-a552-dc353e198419'],\n",
       " ['NAMD.stdout',\n",
       "  'https://md.cybershuttle.org/sdk/download/?data-product-uri=airavata-dp%3A%2F%2Fb2a9dc07-e9a2-44e9-a09b-fe5cb30ca484'],\n",
       " ['Minimization.dcd',\n",
       "  'https://md.cybershuttle.org/sdk/download/?data-product-uri=airavata-dp%3A%2F%2F66504733-2b25-4189-b40b-8e442c264e63']]"
      ]
     },
     "execution_count": 57,
     "metadata": {},
     "output_type": "execute_result"
    }
   ],
   "source": [
    "file_urls"
   ]
  },
  {
   "cell_type": "markdown",
   "id": "be4e7084-c68d-454e-bfad-a3fec28bfbb2",
   "metadata": {},
   "source": [
    "# Downloading a file\n",
    "Here's an example of using the REST API to download a file.\n",
    "I'm creating a function to download a file by providing the filename and url."
   ]
  },
  {
   "cell_type": "code",
   "execution_count": 58,
   "id": "95589968-b69b-42bc-8910-a9b0450f9847",
   "metadata": {},
   "outputs": [],
   "source": [
    "def download_file(f_name,f_url) : \n",
    "    # Download file\n",
    "    import requests\n",
    "    headers = {\"Authorization\": f\"Bearer {auth.get_access_token()}\"}\n",
    "    r = requests.get(f_url,headers=headers)\n",
    "    with open (f_name,'w') as f :\n",
    "        f.write(r.content.decode())"
   ]
  },
  {
   "cell_type": "markdown",
   "id": "4cf6b33a-f50f-48bb-a9c8-260e960baea5",
   "metadata": {},
   "source": [
    "One can create a \"download\" list, then can loop over the previoulsy created list of filenames and urls, and download them sequentially."
   ]
  },
  {
   "cell_type": "code",
   "execution_count": 59,
   "id": "5a171bd5-fc6d-47c3-8e1d-e32320f2d285",
   "metadata": {},
   "outputs": [],
   "source": [
    "download_list = ['Minimization.conf']\n",
    "\n",
    "for f in file_urls:\n",
    "    if f[0] in download_list :\n",
    "        download_file(f[0],f[1]) "
   ]
  },
  {
   "cell_type": "code",
   "execution_count": 60,
   "id": "c16e8af5-f4ce-4ada-8af8-92459015433c",
   "metadata": {},
   "outputs": [
    {
     "name": "stdout",
     "output_type": "stream",
     "text": [
      "CyberShuttle_MD_CompBiophys2024.ipynb  \u001b[1m\u001b[36mimg\u001b[m\u001b[m/\n",
      "\u001b[1m\u001b[36mDeca-alanine\u001b[m\u001b[m/                          login-testing.ipynb\n",
      "GUI_lists_v1.py                        md-tutorial.ipynb\n",
      "GUI_lists_v2.py                        md-tutorial_old.ipynb\n",
      "GUI_lists_v3.py                        namd_GUI.py\n",
      "GUI_lists_v4a.py                       par_all36_prot.prm\n",
      "MainWindow.py                          replicas.ipynb\n",
      "Minimization.conf                      requirements.txt\n",
      "Minimization_restraints.pdb            \u001b[1m\u001b[36mscreenshots\u001b[m\u001b[m/\n",
      "README.md                              settings-NAMD.ini\n",
      "SubmintWindow.py                       settings-alphafold.ini\n",
      "\u001b[1m\u001b[36m__pycache__\u001b[m\u001b[m/                           settings-alphafold.ini.template\n",
      "alphafold.ipynb                        settings.ini.template\n",
      "complex.1.0.psf                        system.1.1.conf\n",
      "complex.1.2.pdb                        testing.ipynb\n",
      "\u001b[1m\u001b[36mcybershuttle_md_cli\u001b[m\u001b[m/                   \u001b[1m\u001b[36mtests\u001b[m\u001b[m/\n",
      "future.ipynb                           vmd_GUI.py\n"
     ]
    }
   ],
   "source": [
    "ls"
   ]
  },
  {
   "cell_type": "code",
   "execution_count": null,
   "id": "0a03b7e2-6c76-4d57-a476-b008581e6866",
   "metadata": {},
   "outputs": [],
   "source": []
  },
  {
   "cell_type": "code",
   "execution_count": 23,
   "id": "63f51fcd-f884-4157-87bb-75a7654e3654",
   "metadata": {},
   "outputs": [],
   "source": [
    "from cybershuttle_md_cli import auth"
   ]
  },
  {
   "cell_type": "code",
   "execution_count": 24,
   "id": "cec8c614-161f-468a-baac-c43d6b6f25b8",
   "metadata": {},
   "outputs": [
    {
     "data": {
      "text/plain": [
       "'eyJhbGciOiJSUzI1NiIsInR5cCIgOiAiSldUIiwia2lkIiA6ICJzX0dPcDFvM1p6U19ncVZjN1U3M1BNbThsMmxKbmZLRDg1N29tV2RaX0U4In0.eyJqdGkiOiIwYWI0NWQ1Yi1mYjM2LTRkZjItYjMzYy0zOGJlNDdmN2IyZTciLCJleHAiOjE3MTcxODc0MzgsIm5iZiI6MCwiaWF0IjoxNzE3MTg1NjM4LCJpc3MiOiJodHRwczovL2lhbS5zY2lnYXAub3JnL2F1dGgvcmVhbG1zL21vbGVjdWxhci1keW5hbWljcyIsImF1ZCI6Im1kLWNsaSIsInN1YiI6IjZmZDI1MWFlLWUzMGUtNGI4Yi1hOTNlLWQyNjExNDM2NzIzYSIsInR5cCI6IkJlYXJlciIsImF6cCI6Im1kLWNsaSIsImF1dGhfdGltZSI6MTcxNzE4NTYzOCwic2Vzc2lvbl9zdGF0ZSI6ImUxYzNlOTFjLWM4ZDktNGQ0OC05MTM5LTU0ZjEwYmQ4MjBmMSIsImFjciI6IjEiLCJjbGllbnRfc2Vzc2lvbiI6ImI2ZTJlYWRkLTUwOTgtNGFhNy04NDZlLTNlMTkyYTg4Yjg1NCIsImFsbG93ZWQtb3JpZ2lucyI6WyJodHRwczovL21kLmN5YmVyc2h1dHRsZS5vcmciXSwicmVhbG1fYWNjZXNzIjp7InJvbGVzIjpbInVtYV9hdXRob3JpemF0aW9uIl19LCJyZXNvdXJjZV9hY2Nlc3MiOnsiYnJva2VyIjp7InJvbGVzIjpbInJlYWQtdG9rZW4iXX0sImFjY291bnQiOnsicm9sZXMiOlsibWFuYWdlLWFjY291bnQiLCJ2aWV3LXByb2ZpbGUiXX19LCJuYW1lIjoiRGllZ28gQmFycmV0byBHb21lcyIsInByZWZlcnJlZF91c2VybmFtZSI6ImRlYjAwNTRAYXVidXJuLmVkdSIsImdpdmVuX25hbWUiOiJEaWVnbyIsImZhbWlseV9uYW1lIjoiQmFycmV0byBHb21lcyIsImVtYWlsIjoiZGViMDA1NEBhdWJ1cm4uZWR1In0.ezNYNfqpks-DLTfgRbwguDrnRrjKD_OEifOalQKYBpsTZ8ZZrFeu8UYKreotfchv8p1toOXnUX_zeG4pSdc7-6Ru6R6aVLY22RiR_FB5iUB1w_5dQXPBHAmPbQhA7Whtk21RftkFRo8J5VinDoc4Lb3PE7E8ZDp0sdjHAnN38sigmpUU3WydtM_exb65nzxURbnOVCL8ySp_Uv0ilksn_byoC7VMDZNstTin1wA-W-8KKTv35-MMCNmTar_pa0wX2BJFd6WWIvsmARON526x7lKUgmilvyBnpF8Tg7z8B1tgJmyIkEv5BrpMEabj879HZmKzpMGsV-O8zQE2O-ZTDg'"
      ]
     },
     "execution_count": 24,
     "metadata": {},
     "output_type": "execute_result"
    }
   ],
   "source": [
    "auth.get_access_token_or_error()"
   ]
  }
 ],
 "metadata": {
  "kernelspec": {
   "display_name": "Python 3 (ipykernel)",
   "language": "python",
   "name": "python3"
  },
  "language_info": {
   "codemirror_mode": {
    "name": "ipython",
    "version": 3
   },
   "file_extension": ".py",
   "mimetype": "text/x-python",
   "name": "python",
   "nbconvert_exporter": "python",
   "pygments_lexer": "ipython3",
   "version": "3.11.5"
  }
 },
 "nbformat": 4,
 "nbformat_minor": 5
}
