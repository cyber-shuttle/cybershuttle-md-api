{
 "cells": [
  {
   "cell_type": "markdown",
   "id": "7a9d999b-0fdb-4726-8bfc-5eafccde6ec5",
   "metadata": {},
   "source": [
    "# Computational Biophysics Workshop - 2024\n",
    "Department of Physics - Auburn University\n",
    "Beckman Institute - UUIC\n",
    "\n",
    "# CyberShuttle tutorial 02\n",
    "## Launching and monitoring an experiment through the python API, using this Jupyter Notebook\n",
    "Authors:\n",
    "Diego E. B. Gomes, Dimuthu, Sudhakar Pamidighatam. "
   ]
  },
  {
   "cell_type": "markdown",
   "id": "75ae421f-62cc-46d5-97f5-c3ac58d3d9df",
   "metadata": {},
   "source": [
    "## The CyberShuttle Molecular Dynamics Gateway:\n",
    "Lets do a quick tour of the CyberShuttle MD Gateway.\n",
    "\n",
    "Start by loging into the [CyberShuttle Molecular Dynamics Gateway](https://md.cybershuttle.org).\n",
    "\n",
    "We'll illustrate how to use the Gateway to monitor the progress of this notebook.\n",
    "\n",
    "(You may need to first create an account)\n",
    "\n",
    "### The CyberShuttle MD GateWay Landing Page\n",
    "<figure>\n",
    "<img src=\"./screenshots/LandingPage.png\" style=\"width:80%\">\n",
    "<figcaption align = \"center\"> CyberShuttle Molecular Dynamics Gateway </figcaption>\n",
    "</figure>"
   ]
  },
  {
   "cell_type": "markdown",
   "id": "093945dd-3309-486f-97cf-6e66eb604798",
   "metadata": {},
   "source": [
    "### Login Page\n",
    "<figure>\n",
    "<img src=\"./screenshots/SignIn.png\" style=\"width:80%\">\n",
    "<figcaption align = \"center\"> You may use existing credentials or create an account.\n",
    " </figcaption>\n",
    "</figure>"
   ]
  },
  {
   "cell_type": "markdown",
   "id": "448bc075-b7f3-4577-85cf-ccd6312346b1",
   "metadata": {},
   "source": [
    "### Login page with Organization credentials\n",
    "<figure>\n",
    "<img src=\"./screenshots/Credentials.png\" style=\"width:80%\">\n",
    "<figcaption align = \"center\"> Example of sign in using a US-based research instituton login.\n",
    " </figcaption>\n",
    "</figure>"
   ]
  },
  {
   "cell_type": "markdown",
   "id": "ebf2fc11-5c20-49f7-8906-3fb1b2dfabf5",
   "metadata": {},
   "source": [
    "### The Applications DashBoard\n",
    "The main CyberShuttle Dashboard shows the applications available to the user.\n",
    "* On the righthand side, a quick view of their latest experiments.\n",
    "* The <b>first toolbar icon</b>b on the left gives access to the <b>dashboard</b>.\n",
    "<figure>\n",
    "<img src=\"./screenshots/Dashboard.png\" style=\"width:80%\">\n",
    "<figcaption align = \"center\"> The main CyberShuttle Dashboard\n",
    " </figcaption>\n",
    "</figure>"
   ]
  },
  {
   "cell_type": "markdown",
   "id": "0960d1d6-c89d-4fb8-bf11-85759cd1be7c",
   "metadata": {},
   "source": [
    "### Showing Projects\n",
    "The <b>third</b> icon on the left gives you access to your projects.\n",
    "* Every user has the <b>Default Project</b> as default\n"
   ]
  },
  {
   "cell_type": "markdown",
   "id": "88ef6142-e3db-4750-a8fa-2ec1447f379c",
   "metadata": {},
   "source": [
    "<figure>\n",
    "<img src=\"./screenshots/Projects.png\" style=\"width:80%\">\n",
    "<figcaption align = \"center\"> The main MD.CyberShuttle Dashboard showing the applications available to the user, also a quick view of their latest jobs.\n",
    " </figcaption>\n",
    "</figure>"
   ]
  },
  {
   "cell_type": "markdown",
   "id": "301d9327-e6e5-45b9-a002-a4bdbfe6d9e6",
   "metadata": {},
   "source": [
    "### Show Experiments\n",
    "The <b>second</b> icon on the left gives you access to your experiments.\n",
    "* Name, application, creation time, status.\n",
    "* One may browse the experiments use the search fields to facilitate finding their projects."
   ]
  },
  {
   "cell_type": "markdown",
   "id": "8349fbbc-ca81-4831-950e-e51ba743f746",
   "metadata": {},
   "source": [
    "\n",
    "<figure>\n",
    "<img src=\"./screenshots/Experiments.png\" style=\"width:80%\">\n",
    "<figcaption align = \"center\"> The main CyberShuttle Experiments Dashboard \n",
    " </figcaption>\n",
    "</figure>"
   ]
  },
  {
   "cell_type": "code",
   "execution_count": null,
   "id": "b078cc81-6dcd-47d9-9b9d-078e86d5f766",
   "metadata": {},
   "outputs": [],
   "source": []
  },
  {
   "cell_type": "markdown",
   "id": "8f290995-ba22-4309-a316-a9e4b3b59560",
   "metadata": {},
   "source": [
    "# Creating a new experiment"
   ]
  },
  {
   "cell_type": "code",
   "execution_count": 10,
   "id": "4ab497ef-bd74-40cf-b0cf-4478d7ba50e7",
   "metadata": {},
   "outputs": [],
   "source": [
    "#Import some python modules to start\n",
    "import pandas as pd"
   ]
  },
  {
   "cell_type": "code",
   "execution_count": 11,
   "id": "9f8d75b2-cf89-4b5b-9468-d43624b2fc25",
   "metadata": {},
   "outputs": [],
   "source": [
    "# Ignore warnings\n",
    "import warnings\n",
    "warnings.filterwarnings('ignore')"
   ]
  },
  {
   "cell_type": "markdown",
   "id": "0e13d77f-9e2b-470a-96ef-2a5616c9ab64",
   "metadata": {},
   "source": [
    "# Using the Python API"
   ]
  },
  {
   "cell_type": "markdown",
   "id": "ba7dd6d6-df85-4972-85dd-376eb9e84600",
   "metadata": {},
   "source": [
    "## Getting Started\n",
    "Install python requirements to connect with Cybershuttle\n",
    "```bash\n",
    "# Clone the cybershuttle repository\n",
    "git clone https://github.com/cyber-shuttle/cybershuttle-md-api.git\n",
    "\n",
    "# Create a new environment ( We like conda )\n",
    "conda create -n cybershuttle\n",
    "conda activate cybershuttle\n",
    "\n",
    "# Install dependencies\n",
    "pip install -r requirements.txt\n",
    "\n",
    "# Open this Jupyter lab notebook using the environment you've created.\n",
    "```"
   ]
  },
  {
   "cell_type": "markdown",
   "id": "63631997-aa8b-40fa-a54b-39d72912ac64",
   "metadata": {},
   "source": [
    "### Step 1 - Authenticate to Cybershuttle\n",
    "The next cell will open a browser tab for you to authenticate to cybershuttle with your ACCESS account. \n",
    "* US-based researchers may use their university login instead.\n",
    "* The file <b>settings-NAMD.ini</b> has the configuration to connect to the cybershuttle community server."
   ]
  },
  {
   "cell_type": "code",
   "execution_count": 12,
   "id": "8a221651-82af-4287-a620-663ecaa4bcca",
   "metadata": {},
   "outputs": [
    {
     "name": "stdout",
     "output_type": "stream",
     "text": [
      "logged in\n"
     ]
    }
   ],
   "source": [
    "from cybershuttle_md_cli import auth\n",
    "auth.do_authorization_flow('./settings-NAMD.ini')\n",
    "\n",
    "print(\"logged in\")"
   ]
  },
  {
   "cell_type": "markdown",
   "id": "add044dd-a39c-449a-803d-1c4ae6bab36a",
   "metadata": {},
   "source": [
    "### Step 2 - Initialize \"experiment Utilities\"\n",
    "Experiment utililties contains the routines to access, send jobs & retrieve data to cybershuttle gateway.\n",
    "* It uses the same configurations as \"settings-NAMD.ini\""
   ]
  },
  {
   "cell_type": "code",
   "execution_count": 13,
   "id": "4d03f85a-9809-4e99-9b13-9abf8da1f5c6",
   "metadata": {},
   "outputs": [],
   "source": [
    "from cybershuttle_md_cli.experiment_util import ExperimentUtil\n",
    "experiment_util = ExperimentUtil(\"./settings-NAMD.ini\")"
   ]
  },
  {
   "cell_type": "markdown",
   "id": "19452470-9bef-428c-9b7f-946a73332995",
   "metadata": {},
   "source": [
    "## Launching an experiment from the python API\n",
    "For this experiment we're using the crystal structure of the PET hydrolase, prepared with QwikMD.\n",
    "\n"
   ]
  },
  {
   "cell_type": "markdown",
   "id": "84d54eb8-db29-4bd2-8bf4-2ae0755c3286",
   "metadata": {},
   "source": [
    "### Creating an experiment for md.cybershuttle is as easy as 123.\n",
    "You need to inform:\n",
    "| Keyword | Descrition |\n",
    "| -- | -- | \n",
    "| 1st argument, no keyword  | Path to the QwikMD folder |\n",
    "| queue_name | Queue Name | Name of the queue to use. It is a good practice to use GPU only for production runs | \n",
    "| computational_resource_name | Which supercomputer to use? Options are NCSADelta, Expance and Bridges2 | \n",
    "| md_conf_filename | NAMD configuration file name|\n",
    "| pdb_filename | Coordinates file in PDB format |\n",
    "| psf_filename | Topology file in PSF format |\n",
    "| experiment_name | Name for your experiment (duplicated names will have a random string appended)|\n",
    "| experiment_description | A brief text to describe your experiment |\n",
    "| node_count | How many nodes to use for this job |\n",
    "| cpu_count | How many CPUS to use in each node | \n",
    "| walltime| Maximum time to run |\n",
    "                                            "
   ]
  },
  {
   "cell_type": "code",
   "execution_count": 23,
   "id": "1e4bde84-55b7-49f3-a4ac-246e595a065c",
   "metadata": {},
   "outputs": [
    {
     "name": "stdout",
     "output_type": "stream",
     "text": [
      "Your experiment ID is: 5xh3_minimization_d179dd44-f640-4ad2-a9b1-80c836075437\n"
     ]
    }
   ],
   "source": [
    "experiment_id = experiment_util.launch_namd(\"/Users/deb0054/Desktop/vmd-shorts/cybershuttle_examples/PET_hydrolase/5xh3/run/\", \n",
    "                                            queue_name=\"cpu\", \n",
    "                                            computation_resource_name=\"NCSADelta\",\n",
    "                                            md_conf_filename=\"Minimization.conf\",\n",
    "                                            pdb_filename=\"5xh3_QwikMD.psf\",\n",
    "                                            psf_filename=\"5xh3_QwikMD.psf\",\n",
    "                                            experiment_name=\"5xh3 minimization\",\n",
    "                                            experiment_description=\"Demonstration\",\n",
    "                                            node_count=1, \n",
    "                                            cpu_count=128, \n",
    "                                            walltime=120)\n",
    "\n",
    "print(f\"Your experiment ID is: {experiment_id}\")"
   ]
  },
  {
   "cell_type": "code",
   "execution_count": 28,
   "id": "64ecd4dd-b66a-487b-a9d4-9564d60b27f4",
   "metadata": {},
   "outputs": [
    {
     "name": "stdout",
     "output_type": "stream",
     "text": [
      "Monitoring experiment 5xh3 minimization\n"
     ]
    },
    {
     "data": {
      "application/vnd.jupyter.widget-view+json": {
       "model_id": "8ccb73802c23409fbab7330860f270dd",
       "version_major": 2,
       "version_minor": 0
      },
      "text/plain": [
       "IntProgress(value=0, max=10, style=ProgressStyle(description_width='initial'))"
      ]
     },
     "execution_count": 28,
     "metadata": {},
     "output_type": "execute_result"
    },
    {
     "name": "stderr",
     "output_type": "stream",
     "text": [
      "Could not connect to any of [('156.56.104.12', 9930)]\n",
      "Exception in thread Thread-5 (monitor_thread):\n",
      "Traceback (most recent call last):\n",
      "  File \"/Users/deb0054/miniconda3/envs/cybershuttle/lib/python3.11/threading.py\", line 1038, in _bootstrap_inner\n",
      "    self.run()\n",
      "  File \"/Users/deb0054/miniconda3/envs/cybershuttle/lib/python3.11/threading.py\", line 975, in run\n",
      "    self._target(*self._args, **self._kwargs)\n",
      "  File \"/Users/deb0054/github/cybershuttle-md-api/md-notebook/cybershuttle_md_cli/experiment_util.py\", line 434, in monitor_thread\n",
      "    status: ExperimentStatus = self.api_server_client.get_experiment_status(\n",
      "                               ^^^^^^^^^^^^^^^^^^^^^^^^^^^^^^^^^^^^^^^^^^^^^\n",
      "  File \"/Users/deb0054/miniconda3/envs/cybershuttle/lib/python3.11/site-packages/airavata_sdk/clients/api_server_client.py\", line 1524, in get_experiment_status\n",
      "    return self.api_server_client_pool.getExperimentStatus(authz_token, airavata_experiment_id)\n",
      "           ^^^^^^^^^^^^^^^^^^^^^^^^^^^^^^^^^^^^^^^^^^^^^^^^^^^^^^^^^^^^^^^^^^^^^^^^^^^^^^^^^^^^\n",
      "  File \"/Users/deb0054/miniconda3/envs/cybershuttle/lib/python3.11/site-packages/thrift_connector/connection_pool.py\", line 370, in method\n",
      "    client = self.get_client()\n",
      "             ^^^^^^^^^^^^^^^^^\n",
      "  File \"/Users/deb0054/miniconda3/envs/cybershuttle/lib/python3.11/site-packages/thrift_connector/hooks.py\", line 64, in _\n",
      "    client = func(pool, *args, **kwds)\n",
      "             ^^^^^^^^^^^^^^^^^^^^^^^^^\n",
      "  File \"/Users/deb0054/miniconda3/envs/cybershuttle/lib/python3.11/site-packages/thrift_connector/connection_pool.py\", line 364, in get_client\n",
      "    return self.get_client_from_pool() or self.produce_client()\n",
      "                                          ^^^^^^^^^^^^^^^^^^^^^\n",
      "  File \"/Users/deb0054/miniconda3/envs/cybershuttle/lib/python3.11/site-packages/thrift_connector/connection_pool.py\", line 349, in produce_client\n",
      "    return self.connection_class.connect(\n",
      "           ^^^^^^^^^^^^^^^^^^^^^^^^^^^^^^\n",
      "  File \"/Users/deb0054/miniconda3/envs/cybershuttle/lib/python3.11/site-packages/thrift_connector/connection_pool.py\", line 103, in connect\n",
      "    transport.open()\n",
      "  File \"/Users/deb0054/miniconda3/envs/cybershuttle/lib/python3.11/site-packages/thrift/transport/TTransport.py\", line 155, in open\n",
      "    return self.__trans.open()\n",
      "           ^^^^^^^^^^^^^^^^^^^\n",
      "  File \"/Users/deb0054/miniconda3/envs/cybershuttle/lib/python3.11/site-packages/thrift/transport/TSSLSocket.py\", line 301, in open\n",
      "    super(TSSLSocket, self).open()\n",
      "  File \"/Users/deb0054/miniconda3/envs/cybershuttle/lib/python3.11/site-packages/thrift/transport/TSocket.py\", line 146, in open\n",
      "    raise TTransportException(type=TTransportException.NOT_OPEN, message=msg)\n",
      "thrift.transport.TTransport.TTransportException: Could not connect to any of [('156.56.104.12', 9930)]\n",
      "Could not connect to any of [('156.56.104.12', 9930)]\n",
      "Exception in thread Thread-12 (monitor_thread):\n",
      "Traceback (most recent call last):\n",
      "  File \"/Users/deb0054/miniconda3/envs/cybershuttle/lib/python3.11/threading.py\", line 1038, in _bootstrap_inner\n",
      "    self.run()\n",
      "  File \"/Users/deb0054/miniconda3/envs/cybershuttle/lib/python3.11/threading.py\", line 975, in run\n",
      "    self._target(*self._args, **self._kwargs)\n",
      "  File \"/Users/deb0054/github/cybershuttle-md-api/md-notebook/cybershuttle_md_cli/experiment_util.py\", line 434, in monitor_thread\n",
      "    status: ExperimentStatus = self.api_server_client.get_experiment_status(\n",
      "                               ^^^^^^^^^^^^^^^^^^^^^^^^^^^^^^^^^^^^^^^^^^^^^\n",
      "  File \"/Users/deb0054/miniconda3/envs/cybershuttle/lib/python3.11/site-packages/airavata_sdk/clients/api_server_client.py\", line 1524, in get_experiment_status\n",
      "    return self.api_server_client_pool.getExperimentStatus(authz_token, airavata_experiment_id)\n",
      "           ^^^^^^^^^^^^^^^^^^^^^^^^^^^^^^^^^^^^^^^^^^^^^^^^^^^^^^^^^^^^^^^^^^^^^^^^^^^^^^^^^^^^\n",
      "  File \"/Users/deb0054/miniconda3/envs/cybershuttle/lib/python3.11/site-packages/thrift_connector/connection_pool.py\", line 370, in method\n",
      "    client = self.get_client()\n",
      "             ^^^^^^^^^^^^^^^^^\n",
      "  File \"/Users/deb0054/miniconda3/envs/cybershuttle/lib/python3.11/site-packages/thrift_connector/hooks.py\", line 64, in _\n",
      "    client = func(pool, *args, **kwds)\n",
      "             ^^^^^^^^^^^^^^^^^^^^^^^^^\n",
      "  File \"/Users/deb0054/miniconda3/envs/cybershuttle/lib/python3.11/site-packages/thrift_connector/connection_pool.py\", line 364, in get_client\n",
      "    return self.get_client_from_pool() or self.produce_client()\n",
      "                                          ^^^^^^^^^^^^^^^^^^^^^\n",
      "  File \"/Users/deb0054/miniconda3/envs/cybershuttle/lib/python3.11/site-packages/thrift_connector/connection_pool.py\", line 349, in produce_client\n",
      "    return self.connection_class.connect(\n",
      "           ^^^^^^^^^^^^^^^^^^^^^^^^^^^^^^\n",
      "  File \"/Users/deb0054/miniconda3/envs/cybershuttle/lib/python3.11/site-packages/thrift_connector/connection_pool.py\", line 103, in connect\n",
      "    transport.open()\n",
      "  File \"/Users/deb0054/miniconda3/envs/cybershuttle/lib/python3.11/site-packages/thrift/transport/TTransport.py\", line 155, in open\n",
      "    return self.__trans.open()\n",
      "           ^^^^^^^^^^^^^^^^^^^\n",
      "  File \"/Users/deb0054/miniconda3/envs/cybershuttle/lib/python3.11/site-packages/thrift/transport/TSSLSocket.py\", line 301, in open\n",
      "    super(TSSLSocket, self).open()\n",
      "  File \"/Users/deb0054/miniconda3/envs/cybershuttle/lib/python3.11/site-packages/thrift/transport/TSocket.py\", line 146, in open\n",
      "    raise TTransportException(type=TTransportException.NOT_OPEN, message=msg)\n",
      "thrift.transport.TTransport.TTransportException: Could not connect to any of [('156.56.104.12', 9930)]\n",
      "Could not connect to any of [('156.56.104.12', 9930)]\n",
      "Exception in thread Thread-7 (monitor_thread):\n",
      "Traceback (most recent call last):\n",
      "  File \"/Users/deb0054/miniconda3/envs/cybershuttle/lib/python3.11/threading.py\", line 1038, in _bootstrap_inner\n",
      "    self.run()\n",
      "  File \"/Users/deb0054/miniconda3/envs/cybershuttle/lib/python3.11/threading.py\", line 975, in run\n",
      "    self._target(*self._args, **self._kwargs)\n",
      "  File \"/Users/deb0054/github/cybershuttle-md-api/md-notebook/cybershuttle_md_cli/experiment_util.py\", line 434, in monitor_thread\n",
      "    status: ExperimentStatus = self.api_server_client.get_experiment_status(\n",
      "                               ^^^^^^^^^^^^^^^^^^^^^^^^^^^^^^^^^^^^^^^^^^^^^\n",
      "  File \"/Users/deb0054/miniconda3/envs/cybershuttle/lib/python3.11/site-packages/airavata_sdk/clients/api_server_client.py\", line 1524, in get_experiment_status\n",
      "    return self.api_server_client_pool.getExperimentStatus(authz_token, airavata_experiment_id)\n",
      "           ^^^^^^^^^^^^^^^^^^^^^^^^^^^^^^^^^^^^^^^^^^^^^^^^^^^^^^^^^^^^^^^^^^^^^^^^^^^^^^^^^^^^\n",
      "  File \"/Users/deb0054/miniconda3/envs/cybershuttle/lib/python3.11/site-packages/thrift_connector/connection_pool.py\", line 370, in method\n",
      "    client = self.get_client()\n",
      "             ^^^^^^^^^^^^^^^^^\n",
      "  File \"/Users/deb0054/miniconda3/envs/cybershuttle/lib/python3.11/site-packages/thrift_connector/hooks.py\", line 64, in _\n",
      "    client = func(pool, *args, **kwds)\n",
      "             ^^^^^^^^^^^^^^^^^^^^^^^^^\n",
      "  File \"/Users/deb0054/miniconda3/envs/cybershuttle/lib/python3.11/site-packages/thrift_connector/connection_pool.py\", line 364, in get_client\n",
      "    return self.get_client_from_pool() or self.produce_client()\n",
      "                                          ^^^^^^^^^^^^^^^^^^^^^\n",
      "  File \"/Users/deb0054/miniconda3/envs/cybershuttle/lib/python3.11/site-packages/thrift_connector/connection_pool.py\", line 349, in produce_client\n",
      "    return self.connection_class.connect(\n",
      "           ^^^^^^^^^^^^^^^^^^^^^^^^^^^^^^\n",
      "  File \"/Users/deb0054/miniconda3/envs/cybershuttle/lib/python3.11/site-packages/thrift_connector/connection_pool.py\", line 103, in connect\n",
      "    transport.open()\n",
      "  File \"/Users/deb0054/miniconda3/envs/cybershuttle/lib/python3.11/site-packages/thrift/transport/TTransport.py\", line 155, in open\n",
      "    return self.__trans.open()\n",
      "           ^^^^^^^^^^^^^^^^^^^\n",
      "  File \"/Users/deb0054/miniconda3/envs/cybershuttle/lib/python3.11/site-packages/thrift/transport/TSSLSocket.py\", line 301, in open\n",
      "    super(TSSLSocket, self).open()\n",
      "  File \"/Users/deb0054/miniconda3/envs/cybershuttle/lib/python3.11/site-packages/thrift/transport/TSocket.py\", line 146, in open\n",
      "    raise TTransportException(type=TTransportException.NOT_OPEN, message=msg)\n",
      "thrift.transport.TTransport.TTransportException: Could not connect to any of [('156.56.104.12', 9930)]\n",
      "Could not connect to any of [('156.56.104.12', 9930)]\n",
      "Exception in thread Thread-8 (monitor_thread):\n",
      "Traceback (most recent call last):\n",
      "  File \"/Users/deb0054/miniconda3/envs/cybershuttle/lib/python3.11/threading.py\", line 1038, in _bootstrap_inner\n",
      "    self.run()\n",
      "  File \"/Users/deb0054/miniconda3/envs/cybershuttle/lib/python3.11/threading.py\", line 975, in run\n",
      "Could not connect to any of [('156.56.104.12', 9930)]\n",
      "    self._target(*self._args, **self._kwargs)\n",
      "  File \"/Users/deb0054/github/cybershuttle-md-api/md-notebook/cybershuttle_md_cli/experiment_util.py\", line 434, in monitor_thread\n",
      "    status: ExperimentStatus = self.api_server_client.get_experiment_status(\n",
      "                               ^^^^^^^^^^^^^^^^^^^^^^^^^^^^^^^^^^^^^^^^^^^^^\n",
      "  File \"/Users/deb0054/miniconda3/envs/cybershuttle/lib/python3.11/site-packages/airavata_sdk/clients/api_server_client.py\", line 1524, in get_experiment_status\n",
      "    return self.api_server_client_pool.getExperimentStatus(authz_token, airavata_experiment_id)\n",
      "           ^^^^^^^^^^^^^^^^^^^^^^^^^^^^^^^^^^^^^^^^^^^^^^^^^^^^^^^^^^^^^^^^^^^^^^^^^^^^^^^^^^^^\n",
      "  File \"/Users/deb0054/miniconda3/envs/cybershuttle/lib/python3.11/site-packages/thrift_connector/connection_pool.py\", line 370, in method\n",
      "    client = self.get_client()\n",
      "             ^^^^^^^^^^^^^^^^^\n",
      "  File \"/Users/deb0054/miniconda3/envs/cybershuttle/lib/python3.11/site-packages/thrift_connector/hooks.py\", line 64, in _\n",
      "Exception in thread Thread-9 (monitor_thread):\n",
      "Traceback (most recent call last):\n",
      "  File \"/Users/deb0054/miniconda3/envs/cybershuttle/lib/python3.11/threading.py\", line 1038, in _bootstrap_inner\n",
      "    client = func(pool, *args, **kwds)\n",
      "             ^^^^^^^^^^^^^^^^^^^^^^^^^\n",
      "  File \"/Users/deb0054/miniconda3/envs/cybershuttle/lib/python3.11/site-packages/thrift_connector/connection_pool.py\", line 364, in get_client\n",
      "    self.run()\n",
      "  File \"/Users/deb0054/miniconda3/envs/cybershuttle/lib/python3.11/threading.py\", line 975, in run\n",
      "    return self.get_client_from_pool() or self.produce_client()\n",
      "                                          ^^^^^^^^^^^^^^^^^^^^^\n",
      "  File \"/Users/deb0054/miniconda3/envs/cybershuttle/lib/python3.11/site-packages/thrift_connector/connection_pool.py\", line 349, in produce_client\n",
      "    self._target(*self._args, **self._kwargs)\n",
      "  File \"/Users/deb0054/github/cybershuttle-md-api/md-notebook/cybershuttle_md_cli/experiment_util.py\", line 434, in monitor_thread\n",
      "    status: ExperimentStatus = self.api_server_client.get_experiment_status(\n",
      "                               ^^^^^^^^^^^^^^^^^^^^^^^^^^^^^^^^^^^^^^^^^^^^^\n",
      "  File \"/Users/deb0054/miniconda3/envs/cybershuttle/lib/python3.11/site-packages/airavata_sdk/clients/api_server_client.py\", line 1524, in get_experiment_status\n",
      "    return self.api_server_client_pool.getExperimentStatus(authz_token, airavata_experiment_id)\n",
      "           ^^^^^^^^^^^^^^^^^^^^^^^^^^^^^^^^^^^^^^^^^^^^^^^^^^^^^^^^^^^^^^^^^^^^^^^^^^^^^^^^^^^^\n",
      "  File \"/Users/deb0054/miniconda3/envs/cybershuttle/lib/python3.11/site-packages/thrift_connector/connection_pool.py\", line 370, in method\n",
      "    client = self.get_client()\n",
      "             ^^^^^^^^^^^^^^^^^\n",
      "  File \"/Users/deb0054/miniconda3/envs/cybershuttle/lib/python3.11/site-packages/thrift_connector/hooks.py\", line 64, in _\n",
      "    client = func(pool, *args, **kwds)\n",
      "             ^^^^^^^^^^^^^^^^^^^^^^^^^\n",
      "  File \"/Users/deb0054/miniconda3/envs/cybershuttle/lib/python3.11/site-packages/thrift_connector/connection_pool.py\", line 364, in get_client\n",
      "    return self.connection_class.connect(\n",
      "           ^^^^^^^^^^^^^^^^^^^^^^^^^^^^^^\n",
      "  File \"/Users/deb0054/miniconda3/envs/cybershuttle/lib/python3.11/site-packages/thrift_connector/connection_pool.py\", line 103, in connect\n",
      "    return self.get_client_from_pool() or self.produce_client()\n",
      "                                          ^^^^^^^^^^^^^^^^^^^^^\n",
      "  File \"/Users/deb0054/miniconda3/envs/cybershuttle/lib/python3.11/site-packages/thrift_connector/connection_pool.py\", line 349, in produce_client\n",
      "    transport.open()\n",
      "  File \"/Users/deb0054/miniconda3/envs/cybershuttle/lib/python3.11/site-packages/thrift/transport/TTransport.py\", line 155, in open\n",
      "    return self.connection_class.connect(\n",
      "           ^^^^^^^^^^^^^^^^^^^^^^^^^^^^^^\n",
      "  File \"/Users/deb0054/miniconda3/envs/cybershuttle/lib/python3.11/site-packages/thrift_connector/connection_pool.py\", line 103, in connect\n",
      "    transport.open()\n",
      "  File \"/Users/deb0054/miniconda3/envs/cybershuttle/lib/python3.11/site-packages/thrift/transport/TTransport.py\", line 155, in open\n",
      "    return self.__trans.open()\n",
      "           ^^^^^^^^^^^^^^^^^^^\n",
      "  File \"/Users/deb0054/miniconda3/envs/cybershuttle/lib/python3.11/site-packages/thrift/transport/TSSLSocket.py\", line 301, in open\n",
      "    return self.__trans.open()\n",
      "           ^^^^^^^^^^^^^^^^^^^\n",
      "  File \"/Users/deb0054/miniconda3/envs/cybershuttle/lib/python3.11/site-packages/thrift/transport/TSSLSocket.py\", line 301, in open\n",
      "    super(TSSLSocket, self).open()\n",
      "  File \"/Users/deb0054/miniconda3/envs/cybershuttle/lib/python3.11/site-packages/thrift/transport/TSocket.py\", line 146, in open\n",
      "    super(TSSLSocket, self).open()\n",
      "  File \"/Users/deb0054/miniconda3/envs/cybershuttle/lib/python3.11/site-packages/thrift/transport/TSocket.py\", line 146, in open\n",
      "    raise TTransportException(type=TTransportException.NOT_OPEN, message=msg)\n",
      "thrift.transport.TTransport.TTransportException: Could not connect to any of [('156.56.104.12', 9930)]\n",
      "    raise TTransportException(type=TTransportException.NOT_OPEN, message=msg)\n",
      "thrift.transport.TTransport.TTransportException: Could not connect to any of [('156.56.104.12', 9930)]\n",
      "Could not connect to any of [('156.56.104.12', 9930)]\n",
      "Exception in thread Thread-6 (monitor_thread):\n",
      "Traceback (most recent call last):\n",
      "  File \"/Users/deb0054/miniconda3/envs/cybershuttle/lib/python3.11/threading.py\", line 1038, in _bootstrap_inner\n",
      "    self.run()\n",
      "  File \"/Users/deb0054/miniconda3/envs/cybershuttle/lib/python3.11/threading.py\", line 975, in run\n",
      "    self._target(*self._args, **self._kwargs)\n",
      "  File \"/Users/deb0054/github/cybershuttle-md-api/md-notebook/cybershuttle_md_cli/experiment_util.py\", line 434, in monitor_thread\n",
      "    status: ExperimentStatus = self.api_server_client.get_experiment_status(\n",
      "                               ^^^^^^^^^^^^^^^^^^^^^^^^^^^^^^^^^^^^^^^^^^^^^\n",
      "  File \"/Users/deb0054/miniconda3/envs/cybershuttle/lib/python3.11/site-packages/airavata_sdk/clients/api_server_client.py\", line 1524, in get_experiment_status\n",
      "    return self.api_server_client_pool.getExperimentStatus(authz_token, airavata_experiment_id)\n",
      "           ^^^^^^^^^^^^^^^^^^^^^^^^^^^^^^^^^^^^^^^^^^^^^^^^^^^^^^^^^^^^^^^^^^^^^^^^^^^^^^^^^^^^\n",
      "  File \"/Users/deb0054/miniconda3/envs/cybershuttle/lib/python3.11/site-packages/thrift_connector/connection_pool.py\", line 370, in method\n",
      "    client = self.get_client()\n",
      "             ^^^^^^^^^^^^^^^^^\n",
      "  File \"/Users/deb0054/miniconda3/envs/cybershuttle/lib/python3.11/site-packages/thrift_connector/hooks.py\", line 64, in _\n",
      "    client = func(pool, *args, **kwds)\n",
      "             ^^^^^^^^^^^^^^^^^^^^^^^^^\n",
      "  File \"/Users/deb0054/miniconda3/envs/cybershuttle/lib/python3.11/site-packages/thrift_connector/connection_pool.py\", line 364, in get_client\n",
      "    return self.get_client_from_pool() or self.produce_client()\n",
      "                                          ^^^^^^^^^^^^^^^^^^^^^\n",
      "  File \"/Users/deb0054/miniconda3/envs/cybershuttle/lib/python3.11/site-packages/thrift_connector/connection_pool.py\", line 349, in produce_client\n",
      "    return self.connection_class.connect(\n",
      "           ^^^^^^^^^^^^^^^^^^^^^^^^^^^^^^\n",
      "  File \"/Users/deb0054/miniconda3/envs/cybershuttle/lib/python3.11/site-packages/thrift_connector/connection_pool.py\", line 103, in connect\n",
      "    transport.open()\n",
      "  File \"/Users/deb0054/miniconda3/envs/cybershuttle/lib/python3.11/site-packages/thrift/transport/TTransport.py\", line 155, in open\n",
      "    return self.__trans.open()\n",
      "           ^^^^^^^^^^^^^^^^^^^\n",
      "  File \"/Users/deb0054/miniconda3/envs/cybershuttle/lib/python3.11/site-packages/thrift/transport/TSSLSocket.py\", line 301, in open\n",
      "    super(TSSLSocket, self).open()\n",
      "  File \"/Users/deb0054/miniconda3/envs/cybershuttle/lib/python3.11/site-packages/thrift/transport/TSocket.py\", line 146, in open\n",
      "    raise TTransportException(type=TTransportException.NOT_OPEN, message=msg)\n",
      "thrift.transport.TTransport.TTransportException: Could not connect to any of [('156.56.104.12', 9930)]\n",
      "Exception in thread Thread-10 (monitor_thread):\n",
      "Traceback (most recent call last):\n",
      "  File \"/Users/deb0054/miniconda3/envs/cybershuttle/lib/python3.11/site-packages/urllib3/connection.py\", line 203, in _new_conn\n",
      "    sock = connection.create_connection(\n",
      "           ^^^^^^^^^^^^^^^^^^^^^^^^^^^^^\n",
      "  File \"/Users/deb0054/miniconda3/envs/cybershuttle/lib/python3.11/site-packages/urllib3/util/connection.py\", line 60, in create_connection\n",
      "    for res in socket.getaddrinfo(host, port, family, socket.SOCK_STREAM):\n",
      "               ^^^^^^^^^^^^^^^^^^^^^^^^^^^^^^^^^^^^^^^^^^^^^^^^^^^^^^^^^^\n",
      "  File \"/Users/deb0054/miniconda3/envs/cybershuttle/lib/python3.11/socket.py\", line 962, in getaddrinfo\n",
      "    for res in _socket.getaddrinfo(host, port, family, type, proto, flags):\n",
      "               ^^^^^^^^^^^^^^^^^^^^^^^^^^^^^^^^^^^^^^^^^^^^^^^^^^^^^^^^^^^\n",
      "socket.gaierror: [Errno 8] nodename nor servname provided, or not known\n",
      "\n",
      "The above exception was the direct cause of the following exception:\n",
      "\n",
      "Traceback (most recent call last):\n",
      "  File \"/Users/deb0054/miniconda3/envs/cybershuttle/lib/python3.11/site-packages/urllib3/connectionpool.py\", line 790, in urlopen\n",
      "    response = self._make_request(\n",
      "               ^^^^^^^^^^^^^^^^^^^\n",
      "  File \"/Users/deb0054/miniconda3/envs/cybershuttle/lib/python3.11/site-packages/urllib3/connectionpool.py\", line 491, in _make_request\n",
      "    raise new_e\n",
      "  File \"/Users/deb0054/miniconda3/envs/cybershuttle/lib/python3.11/site-packages/urllib3/connectionpool.py\", line 467, in _make_request\n",
      "    self._validate_conn(conn)\n",
      "  File \"/Users/deb0054/miniconda3/envs/cybershuttle/lib/python3.11/site-packages/urllib3/connectionpool.py\", line 1092, in _validate_conn\n",
      "    conn.connect()\n",
      "  File \"/Users/deb0054/miniconda3/envs/cybershuttle/lib/python3.11/site-packages/urllib3/connection.py\", line 611, in connect\n",
      "    self.sock = sock = self._new_conn()\n",
      "                       ^^^^^^^^^^^^^^^^\n",
      "  File \"/Users/deb0054/miniconda3/envs/cybershuttle/lib/python3.11/site-packages/urllib3/connection.py\", line 210, in _new_conn\n",
      "    raise NameResolutionError(self.host, self, e) from e\n",
      "urllib3.exceptions.NameResolutionError: <urllib3.connection.HTTPSConnection object at 0x16c37e750>: Failed to resolve 'iam.scigap.org' ([Errno 8] nodename nor servname provided, or not known)\n",
      "\n",
      "The above exception was the direct cause of the following exception:\n",
      "\n",
      "Traceback (most recent call last):\n",
      "  File \"/Users/deb0054/miniconda3/envs/cybershuttle/lib/python3.11/site-packages/requests/adapters.py\", line 486, in send\n",
      "    resp = conn.urlopen(\n",
      "           ^^^^^^^^^^^^^\n",
      "  File \"/Users/deb0054/miniconda3/envs/cybershuttle/lib/python3.11/site-packages/urllib3/connectionpool.py\", line 844, in urlopen\n",
      "    retries = retries.increment(\n",
      "              ^^^^^^^^^^^^^^^^^^\n",
      "  File \"/Users/deb0054/miniconda3/envs/cybershuttle/lib/python3.11/site-packages/urllib3/util/retry.py\", line 515, in increment\n",
      "    raise MaxRetryError(_pool, url, reason) from reason  # type: ignore[arg-type]\n",
      "    ^^^^^^^^^^^^^^^^^^^^^^^^^^^^^^^^^^^^^^^^^^^^^^^^^^^\n",
      "urllib3.exceptions.MaxRetryError: HTTPSConnectionPool(host='iam.scigap.org', port=443): Max retries exceeded with url: /auth/realms/molecular-dynamics/protocol/openid-connect/token (Caused by NameResolutionError(\"<urllib3.connection.HTTPSConnection object at 0x16c37e750>: Failed to resolve 'iam.scigap.org' ([Errno 8] nodename nor servname provided, or not known)\"))\n",
      "\n",
      "During handling of the above exception, another exception occurred:\n",
      "\n",
      "Traceback (most recent call last):\n",
      "  File \"/Users/deb0054/miniconda3/envs/cybershuttle/lib/python3.11/threading.py\", line 1038, in _bootstrap_inner\n",
      "    self.run()\n",
      "  File \"/Users/deb0054/miniconda3/envs/cybershuttle/lib/python3.11/threading.py\", line 975, in run\n",
      "    self._target(*self._args, **self._kwargs)\n",
      "  File \"/Users/deb0054/github/cybershuttle-md-api/md-notebook/cybershuttle_md_cli/experiment_util.py\", line 435, in monitor_thread\n",
      "    self.airavata_token, experiment_id\n",
      "    ^^^^^^^^^^^^^^^^^^^\n",
      "  File \"/Users/deb0054/github/cybershuttle-md-api/md-notebook/cybershuttle_md_cli/experiment_util.py\", line 340, in airavata_token\n",
      "    access_token = get_access_token_or_error()\n",
      "                   ^^^^^^^^^^^^^^^^^^^^^^^^^^^\n",
      "  File \"/Users/deb0054/github/cybershuttle-md-api/md-notebook/cybershuttle_md_cli/auth.py\", line 255, in get_access_token_or_error\n",
      "    access_token = get_access_token()\n",
      "                   ^^^^^^^^^^^^^^^^^^\n",
      "  File \"/Users/deb0054/github/cybershuttle-md-api/md-notebook/cybershuttle_md_cli/auth.py\", line 245, in get_access_token\n",
      "    refreshed_token = refresh_token()\n",
      "                      ^^^^^^^^^^^^^^^\n",
      "  File \"/Users/deb0054/github/cybershuttle-md-api/md-notebook/cybershuttle_md_cli/auth.py\", line 157, in refresh_token\n",
      "    r = requests.post(\n",
      "        ^^^^^^^^^^^^^^\n",
      "  File \"/Users/deb0054/miniconda3/envs/cybershuttle/lib/python3.11/site-packages/requests/api.py\", line 115, in post\n",
      "    return request(\"post\", url, data=data, json=json, **kwargs)\n",
      "           ^^^^^^^^^^^^^^^^^^^^^^^^^^^^^^^^^^^^^^^^^^^^^^^^^^^^\n",
      "  File \"/Users/deb0054/miniconda3/envs/cybershuttle/lib/python3.11/site-packages/requests/api.py\", line 59, in request\n",
      "    return session.request(method=method, url=url, **kwargs)\n",
      "           ^^^^^^^^^^^^^^^^^^^^^^^^^^^^^^^^^^^^^^^^^^^^^^^^^\n",
      "  File \"/Users/deb0054/miniconda3/envs/cybershuttle/lib/python3.11/site-packages/requests/sessions.py\", line 589, in request\n",
      "    resp = self.send(prep, **send_kwargs)\n",
      "           ^^^^^^^^^^^^^^^^^^^^^^^^^^^^^^\n",
      "  File \"/Users/deb0054/miniconda3/envs/cybershuttle/lib/python3.11/site-packages/requests/sessions.py\", line 703, in send\n",
      "    r = adapter.send(request, **kwargs)\n",
      "        ^^^^^^^^^^^^^^^^^^^^^^^^^^^^^^^\n",
      "  File \"/Users/deb0054/miniconda3/envs/cybershuttle/lib/python3.11/site-packages/requests/adapters.py\", line 519, in send\n",
      "    raise ConnectionError(e, request=request)\n",
      "requests.exceptions.ConnectionError: HTTPSConnectionPool(host='iam.scigap.org', port=443): Max retries exceeded with url: /auth/realms/molecular-dynamics/protocol/openid-connect/token (Caused by NameResolutionError(\"<urllib3.connection.HTTPSConnection object at 0x16c37e750>: Failed to resolve 'iam.scigap.org' ([Errno 8] nodename nor servname provided, or not known)\"))\n",
      "Exception in thread Thread-11 (monitor_thread):\n",
      "Traceback (most recent call last):\n",
      "  File \"/Users/deb0054/miniconda3/envs/cybershuttle/lib/python3.11/site-packages/urllib3/connection.py\", line 203, in _new_conn\n",
      "    sock = connection.create_connection(\n",
      "           ^^^^^^^^^^^^^^^^^^^^^^^^^^^^^\n",
      "  File \"/Users/deb0054/miniconda3/envs/cybershuttle/lib/python3.11/site-packages/urllib3/util/connection.py\", line 60, in create_connection\n",
      "    for res in socket.getaddrinfo(host, port, family, socket.SOCK_STREAM):\n",
      "               ^^^^^^^^^^^^^^^^^^^^^^^^^^^^^^^^^^^^^^^^^^^^^^^^^^^^^^^^^^\n",
      "  File \"/Users/deb0054/miniconda3/envs/cybershuttle/lib/python3.11/socket.py\", line 962, in getaddrinfo\n",
      "    for res in _socket.getaddrinfo(host, port, family, type, proto, flags):\n",
      "               ^^^^^^^^^^^^^^^^^^^^^^^^^^^^^^^^^^^^^^^^^^^^^^^^^^^^^^^^^^^\n",
      "socket.gaierror: [Errno 8] nodename nor servname provided, or not known\n",
      "\n",
      "The above exception was the direct cause of the following exception:\n",
      "\n",
      "Traceback (most recent call last):\n",
      "  File \"/Users/deb0054/miniconda3/envs/cybershuttle/lib/python3.11/site-packages/urllib3/connectionpool.py\", line 790, in urlopen\n",
      "    response = self._make_request(\n",
      "               ^^^^^^^^^^^^^^^^^^^\n",
      "  File \"/Users/deb0054/miniconda3/envs/cybershuttle/lib/python3.11/site-packages/urllib3/connectionpool.py\", line 491, in _make_request\n",
      "    raise new_e\n",
      "  File \"/Users/deb0054/miniconda3/envs/cybershuttle/lib/python3.11/site-packages/urllib3/connectionpool.py\", line 467, in _make_request\n",
      "    self._validate_conn(conn)\n",
      "  File \"/Users/deb0054/miniconda3/envs/cybershuttle/lib/python3.11/site-packages/urllib3/connectionpool.py\", line 1092, in _validate_conn\n",
      "    conn.connect()\n",
      "  File \"/Users/deb0054/miniconda3/envs/cybershuttle/lib/python3.11/site-packages/urllib3/connection.py\", line 611, in connect\n",
      "    self.sock = sock = self._new_conn()\n",
      "                       ^^^^^^^^^^^^^^^^\n",
      "  File \"/Users/deb0054/miniconda3/envs/cybershuttle/lib/python3.11/site-packages/urllib3/connection.py\", line 210, in _new_conn\n",
      "    raise NameResolutionError(self.host, self, e) from e\n",
      "urllib3.exceptions.NameResolutionError: <urllib3.connection.HTTPSConnection object at 0x16c05a790>: Failed to resolve 'iam.scigap.org' ([Errno 8] nodename nor servname provided, or not known)\n",
      "\n",
      "The above exception was the direct cause of the following exception:\n",
      "\n",
      "Traceback (most recent call last):\n",
      "  File \"/Users/deb0054/miniconda3/envs/cybershuttle/lib/python3.11/site-packages/requests/adapters.py\", line 486, in send\n",
      "    resp = conn.urlopen(\n",
      "           ^^^^^^^^^^^^^\n",
      "  File \"/Users/deb0054/miniconda3/envs/cybershuttle/lib/python3.11/site-packages/urllib3/connectionpool.py\", line 844, in urlopen\n",
      "    retries = retries.increment(\n",
      "              ^^^^^^^^^^^^^^^^^^\n",
      "  File \"/Users/deb0054/miniconda3/envs/cybershuttle/lib/python3.11/site-packages/urllib3/util/retry.py\", line 515, in increment\n",
      "    raise MaxRetryError(_pool, url, reason) from reason  # type: ignore[arg-type]\n",
      "    ^^^^^^^^^^^^^^^^^^^^^^^^^^^^^^^^^^^^^^^^^^^^^^^^^^^\n",
      "urllib3.exceptions.MaxRetryError: HTTPSConnectionPool(host='iam.scigap.org', port=443): Max retries exceeded with url: /auth/realms/molecular-dynamics/protocol/openid-connect/token (Caused by NameResolutionError(\"<urllib3.connection.HTTPSConnection object at 0x16c05a790>: Failed to resolve 'iam.scigap.org' ([Errno 8] nodename nor servname provided, or not known)\"))\n",
      "\n",
      "During handling of the above exception, another exception occurred:\n",
      "\n",
      "Traceback (most recent call last):\n",
      "  File \"/Users/deb0054/miniconda3/envs/cybershuttle/lib/python3.11/threading.py\", line 1038, in _bootstrap_inner\n",
      "    self.run()\n",
      "  File \"/Users/deb0054/miniconda3/envs/cybershuttle/lib/python3.11/threading.py\", line 975, in run\n",
      "    self._target(*self._args, **self._kwargs)\n",
      "  File \"/Users/deb0054/github/cybershuttle-md-api/md-notebook/cybershuttle_md_cli/experiment_util.py\", line 435, in monitor_thread\n",
      "    self.airavata_token, experiment_id\n",
      "    ^^^^^^^^^^^^^^^^^^^\n",
      "  File \"/Users/deb0054/github/cybershuttle-md-api/md-notebook/cybershuttle_md_cli/experiment_util.py\", line 340, in airavata_token\n",
      "    access_token = get_access_token_or_error()\n",
      "                   ^^^^^^^^^^^^^^^^^^^^^^^^^^^\n",
      "  File \"/Users/deb0054/github/cybershuttle-md-api/md-notebook/cybershuttle_md_cli/auth.py\", line 255, in get_access_token_or_error\n",
      "    access_token = get_access_token()\n",
      "                   ^^^^^^^^^^^^^^^^^^\n",
      "  File \"/Users/deb0054/github/cybershuttle-md-api/md-notebook/cybershuttle_md_cli/auth.py\", line 245, in get_access_token\n",
      "    refreshed_token = refresh_token()\n",
      "                      ^^^^^^^^^^^^^^^\n",
      "  File \"/Users/deb0054/github/cybershuttle-md-api/md-notebook/cybershuttle_md_cli/auth.py\", line 157, in refresh_token\n",
      "    r = requests.post(\n",
      "        ^^^^^^^^^^^^^^\n",
      "  File \"/Users/deb0054/miniconda3/envs/cybershuttle/lib/python3.11/site-packages/requests/api.py\", line 115, in post\n",
      "    return request(\"post\", url, data=data, json=json, **kwargs)\n",
      "           ^^^^^^^^^^^^^^^^^^^^^^^^^^^^^^^^^^^^^^^^^^^^^^^^^^^^\n",
      "  File \"/Users/deb0054/miniconda3/envs/cybershuttle/lib/python3.11/site-packages/requests/api.py\", line 59, in request\n",
      "    return session.request(method=method, url=url, **kwargs)\n",
      "           ^^^^^^^^^^^^^^^^^^^^^^^^^^^^^^^^^^^^^^^^^^^^^^^^^\n",
      "  File \"/Users/deb0054/miniconda3/envs/cybershuttle/lib/python3.11/site-packages/requests/sessions.py\", line 589, in request\n",
      "    resp = self.send(prep, **send_kwargs)\n",
      "           ^^^^^^^^^^^^^^^^^^^^^^^^^^^^^^\n",
      "  File \"/Users/deb0054/miniconda3/envs/cybershuttle/lib/python3.11/site-packages/requests/sessions.py\", line 703, in send\n",
      "    r = adapter.send(request, **kwargs)\n",
      "        ^^^^^^^^^^^^^^^^^^^^^^^^^^^^^^^\n",
      "  File \"/Users/deb0054/miniconda3/envs/cybershuttle/lib/python3.11/site-packages/requests/adapters.py\", line 519, in send\n",
      "    raise ConnectionError(e, request=request)\n",
      "requests.exceptions.ConnectionError: HTTPSConnectionPool(host='iam.scigap.org', port=443): Max retries exceeded with url: /auth/realms/molecular-dynamics/protocol/openid-connect/token (Caused by NameResolutionError(\"<urllib3.connection.HTTPSConnection object at 0x16c05a790>: Failed to resolve 'iam.scigap.org' ([Errno 8] nodename nor servname provided, or not known)\"))\n"
     ]
    }
   ],
   "source": [
    "experiment_util.monitor_experiment(experiment_id)"
   ]
  },
  {
   "cell_type": "code",
   "execution_count": 25,
   "id": "eee01e1d-b285-4021-bdb8-6b353879db59",
   "metadata": {},
   "outputs": [
    {
     "data": {
      "application/vnd.jupyter.widget-view+json": {
       "model_id": "20668d5228c940cebf7cb70e2fbf6fcf",
       "version_major": 2,
       "version_minor": 0
      },
      "text/plain": [
       "HBox(children=(VBox(children=(HTML(value='<b>Name</b>'), Label(value='5xh3 minimization'), Label(value='5xh3 m…"
      ]
     },
     "execution_count": 25,
     "metadata": {},
     "output_type": "execute_result"
    }
   ],
   "source": [
    "experiment_util.show_namd_runs(status=\"EXECUTING\")"
   ]
  },
  {
   "cell_type": "code",
   "execution_count": 26,
   "id": "29646f0a-ce0e-458a-bf53-31d417de16bc",
   "metadata": {},
   "outputs": [
    {
     "data": {
      "application/vnd.jupyter.widget-view+json": {
       "model_id": "9a0021f28f8c4c3eb75b71856b22a9a4",
       "version_major": 2,
       "version_minor": 0
      },
      "text/plain": [
       "HBox(children=(VBox(children=(HTML(value='<b>Name</b>'), Label(value='NAMD on Mar 12, 2024 3:21 PM'), Label(va…"
      ]
     },
     "execution_count": 26,
     "metadata": {},
     "output_type": "execute_result"
    }
   ],
   "source": [
    "experiment_util.show_namd_runs(status=\"COMPLETED\")"
   ]
  },
  {
   "cell_type": "code",
   "execution_count": null,
   "id": "721f3c43-0c18-463e-8f2a-ec8e4578ef1f",
   "metadata": {},
   "outputs": [],
   "source": []
  }
 ],
 "metadata": {
  "kernelspec": {
   "display_name": "Python 3 (ipykernel)",
   "language": "python",
   "name": "python3"
  },
  "language_info": {
   "codemirror_mode": {
    "name": "ipython",
    "version": 3
   },
   "file_extension": ".py",
   "mimetype": "text/x-python",
   "name": "python",
   "nbconvert_exporter": "python",
   "pygments_lexer": "ipython3",
   "version": "3.11.5"
  }
 },
 "nbformat": 4,
 "nbformat_minor": 5
}
