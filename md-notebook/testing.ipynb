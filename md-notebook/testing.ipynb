{
 "cells": [
  {
   "cell_type": "markdown",
   "id": "7c123ce4-1817-4c94-8d6c-02b2228e0b17",
   "metadata": {},
   "source": [
    "## Logging in"
   ]
  },
  {
   "cell_type": "code",
   "execution_count": 1,
   "id": "d4052fe9-d8eb-4d35-9432-41b64c45414d",
   "metadata": {},
   "outputs": [
    {
     "name": "stdout",
     "output_type": "stream",
     "text": [
      "logged in\n"
     ]
    }
   ],
   "source": [
    "import warnings\n",
    "warnings.filterwarnings('ignore')\n",
    "\n",
    "from cybershuttle_md_cli import auth\n",
    "auth.do_authorization_flow('./settings-NAMD.ini')\n",
    "\n",
    "print(\"logged in\")"
   ]
  },
  {
   "cell_type": "markdown",
   "id": "481e50bb-83f3-4863-92df-66065e630398",
   "metadata": {},
   "source": [
    "## Launch NAMD for Deca-alanine"
   ]
  },
  {
   "cell_type": "code",
   "execution_count": 3,
   "id": "a8e20592-c9aa-4006-9143-e941cf719f5f",
   "metadata": {},
   "outputs": [],
   "source": [
    "from cybershuttle_md_cli.experiment_util import ExperimentUtil\n",
    "experiment_util = ExperimentUtil(\"./settings-NAMD.ini\")"
   ]
  },
  {
   "cell_type": "code",
   "execution_count": 4,
   "id": "db71e086-9943-4471-9e49-8229897f38e1",
   "metadata": {},
   "outputs": [
    {
     "name": "stderr",
     "output_type": "stream",
     "text": [
      "/Users/deb0054/miniconda3/envs/cybershuttle/lib/python3.11/site-packages/thrift/transport/TSSLSocket.py:53: DeprecationWarning: ssl.PROTOCOL_TLS is deprecated\n",
      "  self._context = ssl.SSLContext(ssl_version)\n"
     ]
    },
    {
     "data": {
      "text/plain": [
       "dict_keys(['experimentId', 'projectId', 'gatewayId', 'creationTime', 'userName', 'name', 'description', 'executionId', 'resourceHostId', 'experimentStatus', 'statusUpdateTime'])"
      ]
     },
     "execution_count": 4,
     "metadata": {},
     "output_type": "execute_result"
    }
   ],
   "source": [
    "import pandas as pd\n",
    "all_exp = experiment_util.show_experiments()\n",
    "vars(all_exp[0]).keys()"
   ]
  },
  {
   "cell_type": "code",
   "execution_count": 5,
   "id": "e9e54ff5-ca8c-4fde-9a0e-2db62cde179b",
   "metadata": {},
   "outputs": [
    {
     "data": {
      "text/plain": [
       "{'experimentId': 'Deca-alanine_1fe320da-f4a2-4f5b-a3db-3db5ad1fc12b',\n",
       " 'projectId': 'Default_Project_63119cfa-55dd-4283-aa26-30cfa5134253',\n",
       " 'gatewayId': 'molecular-dynamics',\n",
       " 'creationTime': 1705681691000,\n",
       " 'userName': 'deb0054@auburn.edu',\n",
       " 'name': 'Deca-alanine',\n",
       " 'description': None,\n",
       " 'executionId': 'NAMD_dd041e87-1dde-4e57-8ec4-23af2ffa1ba0',\n",
       " 'resourceHostId': 'NCSADelta_e75b0d04-8b4b-417b-8ab4-da76bbd835f5',\n",
       " 'experimentStatus': 'COMPLETED',\n",
       " 'statusUpdateTime': 1705681826756}"
      ]
     },
     "execution_count": 5,
     "metadata": {},
     "output_type": "execute_result"
    }
   ],
   "source": [
    "vars(all_exp[0])"
   ]
  },
  {
   "cell_type": "code",
   "execution_count": null,
   "id": "f0247333-aac8-4154-9c73-5f992ee55456",
   "metadata": {},
   "outputs": [],
   "source": [
    "Deca-alanine_1fe320da-f4a2-4f5b-a3db-3db5ad1fc12b"
   ]
  },
  {
   "cell_type": "code",
   "execution_count": 6,
   "id": "d6f02f05-3655-42a2-a1ca-0e02cfc84c1b",
   "metadata": {},
   "outputs": [],
   "source": [
    "#for e in experiment_util.show_experiments() : \n",
    "all_exp = experiment_util.show_experiments()\n",
    "\n",
    "l = ['name','experimentStatus','experimentId']\n",
    "experiment_list = []\n",
    "for e in all_exp : \n",
    "    experiment_list.append(tuple(map(vars(e).get, l)))"
   ]
  },
  {
   "cell_type": "code",
   "execution_count": 7,
   "id": "ce7efa4f-e698-44a8-ad66-c76bdb8c71d5",
   "metadata": {},
   "outputs": [
    {
     "data": {
      "text/plain": [
       "[('Deca-alanine',\n",
       "  'COMPLETED',\n",
       "  'Deca-alanine_1fe320da-f4a2-4f5b-a3db-3db5ad1fc12b'),\n",
       " ('Clone of 3bpm continue',\n",
       "  'COMPLETED',\n",
       "  'Clone_of_3bpm_continue_13803b76-ee9d-41c5-9eef-bea9c99b6727'),\n",
       " ('3bpm continue',\n",
       "  'FAILED',\n",
       "  'Clone_of_3bpm_f00f0ef5-feb7-4e2f-8dcb-6b2ee52a92ee'),\n",
       " ('3bpm', 'COMPLETED', '3bpm_eaf485ee-7a2f-450d-ba1b-7cff20bb1bc5'),\n",
       " ('Clone of singleton',\n",
       "  'COMPLETED',\n",
       "  'Clone_of_singleton_8a816913-de70-4070-9d6b-e1f73db6cb97'),\n",
       " ('singleton', 'COMPLETED', 'singleton_170bf55c-26e0-496e-aebf-0768b752930f'),\n",
       " ('replicas_X10',\n",
       "  'FAILED',\n",
       "  'Clone_of_NAMD_on_Jul_20,_2023_2:43_PM_c7b53298-d8b3-41b6-a601-c54b5e8f0f1b'),\n",
       " ('NAMD on Jul 20, 2023 2:43 PM',\n",
       "  'FAILED',\n",
       "  'NAMD_on_Jul_20,_2023_2:43_PM_af9c32b9-71bb-409b-9283-1a8da1f5e19f'),\n",
       " ('Test 20230530',\n",
       "  'COMPLETED',\n",
       "  'Clone_of_Clone_of_NAMD_on_May_27,_2023_2:36_PM_2d2b7565-1936-469e-9467-e81f9671e284'),\n",
       " ('Clone of NAMD on May 27, 2023 2:36 PM',\n",
       "  'COMPLETED',\n",
       "  'Clone_of_NAMD_on_May_27,_2023_2:36_PM_f8763a3c-a50b-4e6b-8e6d-7ccbbbb3510d')]"
      ]
     },
     "execution_count": 7,
     "metadata": {},
     "output_type": "execute_result"
    }
   ],
   "source": [
    "experiment_list"
   ]
  },
  {
   "cell_type": "code",
   "execution_count": null,
   "id": "95f9a137-75ec-4687-a1c3-135d6d064154",
   "metadata": {},
   "outputs": [],
   "source": [
    "experiment_util.show_namd_runs()"
   ]
  },
  {
   "cell_type": "code",
   "execution_count": null,
   "id": "fcbff419-3b37-4f58-a762-1deba155ef6b",
   "metadata": {},
   "outputs": [],
   "source": [
    "# experiment_id = experiment_util.launch_namd(\"./Deca-alanine/base/\", \n",
    "#                                             queue_name=\"gpuA100x4\", \n",
    "#                                             computation_resource_name=\"NCSADelta\", \n",
    "#                                             node_count=1, \n",
    "#                                             cpu_count=16, \n",
    "#                                             walltime=120)"
   ]
  },
  {
   "cell_type": "code",
   "execution_count": null,
   "id": "1b9af195-81bb-4ef0-b2df-948a78fd0ddd",
   "metadata": {},
   "outputs": [],
   "source": [
    "# experiment_util.monitor_experiment(experiment_id)"
   ]
  },
  {
   "cell_type": "markdown",
   "id": "5b489fcb-3146-41c8-a97e-3ebde2c434f9",
   "metadata": {},
   "source": [
    "## Download results"
   ]
  },
  {
   "cell_type": "code",
   "execution_count": 9,
   "id": "12afd079-7115-476e-b33c-9f7f9cca4883",
   "metadata": {},
   "outputs": [
    {
     "ename": "AttributeError",
     "evalue": "'ExperimentUtil' object has no attribute 'show_my_experiments'",
     "output_type": "error",
     "traceback": [
      "\u001b[0;31m---------------------------------------------------------------------------\u001b[0m",
      "\u001b[0;31mAttributeError\u001b[0m                            Traceback (most recent call last)",
      "Cell \u001b[0;32mIn[9], line 1\u001b[0m\n\u001b[0;32m----> 1\u001b[0m exp \u001b[38;5;241m=\u001b[39m \u001b[43mexperiment_util\u001b[49m\u001b[38;5;241;43m.\u001b[39;49m\u001b[43mshow_my_experiments\u001b[49m(status\u001b[38;5;241m=\u001b[39m\u001b[38;5;124m\"\u001b[39m\u001b[38;5;124mCOMPLETED\u001b[39m\u001b[38;5;124m\"\u001b[39m)\n",
      "\u001b[0;31mAttributeError\u001b[0m: 'ExperimentUtil' object has no attribute 'show_my_experiments'"
     ]
    }
   ],
   "source": [
    "exp = experiment_util.show_my_experiments(status=\"COMPLETED\")"
   ]
  },
  {
   "cell_type": "code",
   "execution_count": 10,
   "id": "ed855942-9c36-43ed-a017-e37bf32595fd",
   "metadata": {},
   "outputs": [
    {
     "ename": "NameError",
     "evalue": "name 'exp' is not defined",
     "output_type": "error",
     "traceback": [
      "\u001b[0;31m---------------------------------------------------------------------------\u001b[0m",
      "\u001b[0;31mNameError\u001b[0m                                 Traceback (most recent call last)",
      "Cell \u001b[0;32mIn[10], line 1\u001b[0m\n\u001b[0;32m----> 1\u001b[0m exp \u001b[38;5;241m=\u001b[39m \u001b[43mexp\u001b[49m[\u001b[38;5;241m0\u001b[39m]\n\u001b[1;32m      2\u001b[0m \u001b[38;5;28mprint\u001b[39m(exp)\n\u001b[1;32m      3\u001b[0m exp\u001b[38;5;241m.\u001b[39mexperimentStatus\n",
      "\u001b[0;31mNameError\u001b[0m: name 'exp' is not defined"
     ]
    }
   ],
   "source": [
    "exp = exp[0]\n",
    "print(exp)\n",
    "exp.experimentStatus"
   ]
  },
  {
   "cell_type": "code",
   "execution_count": null,
   "id": "ed693a68-6e5a-43e4-850c-998e6278a684",
   "metadata": {},
   "outputs": [],
   "source": [
    "vars(exp).keys()"
   ]
  },
  {
   "cell_type": "code",
   "execution_count": null,
   "id": "94524ef2-f2a8-4865-bd50-b6683a214a37",
   "metadata": {},
   "outputs": [],
   "source": [
    "ex = experiment_util.show_experiment_files('Deca-alanine_1fe320da-f4a2-4f5b-a3db-3db5ad1fc12b')"
   ]
  },
  {
   "cell_type": "code",
   "execution_count": null,
   "id": "ff3c73a9-39f9-4894-a98c-5e2778ebccf4",
   "metadata": {},
   "outputs": [],
   "source": [
    "experiment_util.show_my_experiments()"
   ]
  },
  {
   "cell_type": "code",
   "execution_count": null,
   "id": "1a2e4f30-d9cd-4316-9638-cf26e01667d9",
   "metadata": {},
   "outputs": [],
   "source": [
    "experiment_util.monitor_experiment('Deca-alanine_1fe320da-f4a2-4f5b-a3db-3db5ad1fc12b')"
   ]
  },
  {
   "cell_type": "code",
   "execution_count": 11,
   "id": "ef4c9247-f9fb-44c3-9662-a1fcfc5a0a86",
   "metadata": {},
   "outputs": [
    {
     "ename": "AttributeError",
     "evalue": "'ExperimentUtil' object has no attribute 'show_experiment_files'",
     "output_type": "error",
     "traceback": [
      "\u001b[0;31m---------------------------------------------------------------------------\u001b[0m",
      "\u001b[0;31mAttributeError\u001b[0m                            Traceback (most recent call last)",
      "Cell \u001b[0;32mIn[11], line 1\u001b[0m\n\u001b[0;32m----> 1\u001b[0m exp\u001b[38;5;241m=\u001b[39m \u001b[43mexperiment_util\u001b[49m\u001b[38;5;241;43m.\u001b[39;49m\u001b[43mshow_experiment_files\u001b[49m(\u001b[38;5;124m'\u001b[39m\u001b[38;5;124mDeca-alanine_1fe320da-f4a2-4f5b-a3db-3db5ad1fc12b\u001b[39m\u001b[38;5;124m'\u001b[39m)\n",
      "\u001b[0;31mAttributeError\u001b[0m: 'ExperimentUtil' object has no attribute 'show_experiment_files'"
     ]
    }
   ],
   "source": [
    "exp= experiment_util.show_experiment_files('Deca-alanine_1fe320da-f4a2-4f5b-a3db-3db5ad1fc12b')"
   ]
  },
  {
   "cell_type": "code",
   "execution_count": 12,
   "id": "f86a8644-8495-4db1-8565-83b5df68fa98",
   "metadata": {},
   "outputs": [
    {
     "ename": "NameError",
     "evalue": "name 'exp' is not defined",
     "output_type": "error",
     "traceback": [
      "\u001b[0;31m---------------------------------------------------------------------------\u001b[0m",
      "\u001b[0;31mNameError\u001b[0m                                 Traceback (most recent call last)",
      "Cell \u001b[0;32mIn[12], line 1\u001b[0m\n\u001b[0;32m----> 1\u001b[0m \u001b[38;5;28mvars\u001b[39m(\u001b[43mexp\u001b[49m)\u001b[38;5;241m.\u001b[39mkeys()\n",
      "\u001b[0;31mNameError\u001b[0m: name 'exp' is not defined"
     ]
    }
   ],
   "source": [
    "vars(exp).keys()"
   ]
  },
  {
   "cell_type": "code",
   "execution_count": null,
   "id": "bc486130-2f52-4bc1-b716-a0769e9e23e9",
   "metadata": {},
   "outputs": [],
   "source": [
    "#exp"
   ]
  },
  {
   "cell_type": "code",
   "execution_count": null,
   "id": "dfc039c0-5c23-423b-b578-64ae3b21ee9e",
   "metadata": {},
   "outputs": [],
   "source": [
    "vars(exp.experimentOutputs[0])"
   ]
  },
  {
   "cell_type": "markdown",
   "id": "f6550543-41db-48c9-8478-6fc86674271e",
   "metadata": {},
   "source": [
    "# VMD Utils  "
   ]
  },
  {
   "cell_type": "markdown",
   "id": "e33ce634-68f3-4797-85a2-3e4d8c6b118b",
   "metadata": {},
   "source": [
    "## Log in"
   ]
  },
  {
   "cell_type": "code",
   "execution_count": null,
   "id": "899fb9f7-0959-41a0-b7bf-81f62be8db7c",
   "metadata": {},
   "outputs": [],
   "source": [
    "import warnings\n",
    "warnings.filterwarnings('ignore')\n",
    "\n",
    "from cybershuttle_md_cli import auth\n",
    "auth.do_authorization_flow('./settings-NAMD.ini')\n",
    "\n",
    "print(\"logged in\")"
   ]
  },
  {
   "cell_type": "code",
   "execution_count": null,
   "id": "2ff132b4-cadf-47ea-ba0b-b8225072b196",
   "metadata": {},
   "outputs": [],
   "source": [
    "## Class"
   ]
  },
  {
   "cell_type": "code",
   "execution_count": 22,
   "id": "dbddf87b-43a2-4d7a-a495-46205add2469",
   "metadata": {},
   "outputs": [],
   "source": [
    "# Outside the class file it looks like this\n",
    "from cybershuttle_md_cli.auth import get_access_token_or_error"
   ]
  },
  {
   "cell_type": "code",
   "execution_count": null,
   "id": "ef3b9b1f-9972-4846-91c4-3099c2a16325",
   "metadata": {},
   "outputs": [],
   "source": [
    "import cgi\n",
    "import fnmatch\n",
    "import io\n",
    "import logging\n",
    "import os\n",
    "import threading\n",
    "import time\n",
    "import zipfile\n",
    "from datetime import datetime\n",
    "from pathlib import Path\n",
    "from urllib.parse import quote\n",
    "\n",
    "import ipywidgets as widgets\n",
    "import jwt\n",
    "import requests\n",
    "from airavata.model.experiment.ttypes import ExperimentSearchFields\n",
    "from airavata.model.status.ttypes import ExperimentState, ExperimentStatus\n",
    "from airavata_sdk.clients.api_server_client import APIServerClient\n",
    "from airavata_sdk.clients.keycloak_token_fetcher import Authenticator\n",
    "from airavata_sdk.clients.utils.api_server_client_util import APIServerClientUtil\n",
    "from airavata_sdk.clients.utils.data_model_creation_util import DataModelCreationUtil\n",
    "from airavata_sdk.transport.settings import ExperimentSettings, GatewaySettings"
   ]
  },
  {
   "cell_type": "code",
   "execution_count": null,
   "id": "10e1b739-9d5a-4289-a458-71d3d5103f56",
   "metadata": {},
   "outputs": [],
   "source": [
    "logger = logging.getLogger(__name__)\n",
    "\n",
    "class VMD_Util:\n",
    "    def __init__(self, configuration_file) -> None:\n",
    "        self.configuration_file = configuration_file\n",
    "        access_token = get_access_token_or_error()\n",
    "        self.access_token = access_token\n",
    "        decode = jwt.decode(access_token, options={\"verify_signature\": False})\n",
    "        self.user_id = decode[\"preferred_username\"]\n",
    "        self.authenticator = Authenticator(self.configuration_file)\n",
    "        self.gateway_conf = GatewaySettings(configuration_file)\n",
    "        self.experiment_conf = ExperimentSettings(configuration_file)\n",
    "        self.airavata_util = APIServerClientUtil(\n",
    "            self.configuration_file,\n",
    "            username=self.user_id,\n",
    "            password=None,\n",
    "            gateway_id=self.gateway_conf.GATEWAY_ID,\n",
    "            access_token=access_token,\n",
    "        )\n",
    "        self.data_model_client = DataModelCreationUtil(\n",
    "            self.configuration_file,\n",
    "            username=self.user_id,\n",
    "            password=None,\n",
    "            gateway_id=self.gateway_conf.GATEWAY_ID,\n",
    "            access_token=access_token,\n",
    "        )\n",
    "        self.api_server_client = APIServerClient(self.configuration_file)\n",
    "        self.gateway_url = \"https://md.cybershuttle.org\"\n",
    "\n",
    "    @property\n",
    "    def airavata_token(self):\n",
    "        access_token = get_access_token_or_error()\n",
    "        return self.authenticator.get_airavata_authz_token(\n",
    "            self.user_id, access_token, self.gateway_conf.GATEWAY_ID\n",
    "        )\n",
    "\n",
    "# Create a filter\n",
    "    def show_experiments(self, status=None, only_mine=True, limit=10, offset=0):\n",
    "        filters = {}\n",
    "\n",
    "        execution_id = self.airavata_util.get_execution_id(\n",
    "            self.experiment_conf.APPLICATION_NAME\n",
    "        )\n",
    "    \n",
    "        filters[ExperimentSearchFields.APPLICATION_ID] = execution_id\n",
    "        if status is not None:\n",
    "            filters[ExperimentSearchFields.STATUS] = status\n",
    "        if only_mine:\n",
    "            filters[ExperimentSearchFields.USER_NAME] = self.user_id\n",
    "        experiments = self.api_server_client.search_experiments(\n",
    "            self.airavata_token,\n",
    "            self.gateway_conf.GATEWAY_ID,\n",
    "            self.user_id,\n",
    "            filters,\n",
    "            limit=limit,\n",
    "            offset=offset,\n",
    "        )\n",
    "\n",
    "        return experiments\n",
    "    \n",
    "    def monitor_experiment(self, experiment_id):\n",
    "        progress = widgets.IntProgress(value=0, min=0, max=10)\n",
    "        style = {\"description_width\": \"initial\"}\n",
    "        progress.style = style\n",
    "        experiment = self.api_server_client.get_experiment(\n",
    "            self.airavata_token, experiment_id\n",
    "        )\n",
    "        # print(f\"Monitoring experiment {experiment.experimentName}\")\n",
    "        status: ExperimentStatus = self.api_server_client.get_experiment_status(\n",
    "                    self.airavata_token, experiment_id\n",
    "                )\n",
    "        \n",
    "        return ExperimentState._VALUES_TO_NAMES[status.state]\n",
    "        \n",
    "    def get_input_files_by_pattern(self, input_files, glob=None) -> list[str]:\n",
    "        result = []\n",
    "        for name, input_file in input_files.items():\n",
    "            if fnmatch.fnmatch(name, glob):\n",
    "                result.append(input_file)\n",
    "        return result\n",
    "\n",
    "    def get_experiment(self, experiment_id):\n",
    "        experiment = self.api_server_client.get_experiment(\n",
    "            self.airavata_token, experiment_id\n",
    "        )\n",
    "        return experiment\n",
    "\n",
    "    def get_input_file_names(self, experiment_id): \n",
    "        \n",
    "        storage_id = self.airavata_util.get_storage_resource_id(\n",
    "            self.experiment_conf.STORAGE_RESOURCE_HOST\n",
    "        )\n",
    "\n",
    "                   \n",
    "        print(f'''\n",
    "        {storage_id}\n",
    "              ''')\n",
    "\n",
    "\n",
    "        exp = self.get_experiment(experiment_id)\n",
    "        \n",
    "        \n",
    "        inputFiles=[]\n",
    "        \n",
    "        for p in exp.processes[0].processInputs :\n",
    "            if p.type in [3,4]:\n",
    "                for f in p.value.split(',') :\n",
    "                    inputFiles.append(f)\n",
    "        \n",
    "        inputFileNames=[]\n",
    "        import os\n",
    "        for f in inputFiles : \n",
    "            inputFileNames.append(os.path.basename(f))\n",
    "        return inputFileNames\n",
    "\n",
    "\n",
    "    #def download_experiment(self, experiment_id, output_dir=\"./outputs\"):\n",
    "    def download_test(self, experiment_id, output_dir=\"./outputs\"):\n",
    "        access_token = get_access_token_or_error()\n",
    "        headers = {\"Authorization\": f\"Bearer {access_token}\"}\n",
    "        r = requests.get(\n",
    "            f\"{self.gateway_url}/sdk/download-experiment-dir/{experiment_id}/\",\n",
    "            headers=headers,\n",
    "        )\n",
    "        r.raise_for_status()\n",
    "        # get name of zip file as returned in HTTP response headers and name the output directory the same\n",
    "        disposition = r.headers[\"Content-Disposition\"]\n",
    "        disp_value, disp_params = cgi.parse_header(disposition)\n",
    "        filename, ext = os.path.splitext(disp_params[\"filename\"])\n",
    "        output_dir = Path(output_dir) / filename\n",
    "    \n",
    "        # zipped = zipfile.ZipFile(io.BytesIO(r.content))\n",
    "        # zipped.extractall(output_dir)\n",
    "        print(r.headers)\n",
    "        print(f\"{self.gateway_url}/sdk/download-experiment-dir/{experiment_id}/\")\n",
    "        return output_dir\n",
    "\n",
    "\n",
    "    def get_all_files_for_experiment(self, experiment_id):\n",
    "            access_token = get_access_token_or_error()\n",
    "            headers = {\"Authorization\": f\"Bearer {access_token}\"}\n",
    "            resp = requests.get(\n",
    "                f\"https://md.cybershuttle.org/api/experiment-storage/{quote(experiment_id)}/\",\n",
    "                headers=headers,\n",
    "            )\n",
    "            resp.raise_for_status()\n",
    "            data = resp.json()\n",
    "            return data"
   ]
  },
  {
   "cell_type": "code",
   "execution_count": null,
   "id": "72dee033-d30c-4323-ae93-0d5ad510ab62",
   "metadata": {},
   "outputs": [],
   "source": [
    "# Initiate class\n",
    "vmd_util = VMD_Util(\"./settings-NAMD.ini\")\n",
    "\n",
    "# Example experiment\n",
    "experimentId='3bpm_eaf485ee-7a2f-450d-ba1b-7cff20bb1bc5'"
   ]
  },
  {
   "cell_type": "code",
   "execution_count": null,
   "id": "e80e586a-6e36-4690-8cc0-6b456ced8c7c",
   "metadata": {},
   "outputs": [],
   "source": [
    "vmd_util.download_test(experimentId)\n",
    "\n",
    "\n",
    "# https://md.cybershuttle.org/sdk/download-experiment-dir/Clone_of_3bpm_continue_13803b76-ee9d-41c5-9eef-bea9c99b6727/ \n",
    "\n",
    "#https://md.cybershuttle.org/sdk/download/airavata-dp://d9271249-2d3a-45b6-9757-66384d001d2b\n"
   ]
  },
  {
   "cell_type": "code",
   "execution_count": null,
   "id": "36949538-059e-4a4a-a090-386d62235519",
   "metadata": {},
   "outputs": [],
   "source": [
    "vmd_util.get_input_file_names(experimentId)"
   ]
  },
  {
   "cell_type": "code",
   "execution_count": 23,
   "id": "43509324-93f5-4a31-a6f3-80b13a84f55c",
   "metadata": {},
   "outputs": [],
   "source": [
    "experimentId='3bpm_eaf485ee-7a2f-450d-ba1b-7cff20bb1bc5'\n",
    "exp_files = experiment_util.get_all_files_for_experiment(experimentId)"
   ]
  },
  {
   "cell_type": "code",
   "execution_count": 24,
   "id": "cb91f9f6-34f4-4b07-b0e2-cb3d462b339d",
   "metadata": {},
   "outputs": [],
   "source": [
    "file_list = []\n",
    "for f in exp_files.get('files') :\n",
    "    file_list.append(f.get('name'))"
   ]
  },
  {
   "cell_type": "code",
   "execution_count": 25,
   "id": "43207fdf-68b7-476e-afc2-311feaabbc82",
   "metadata": {},
   "outputs": [
    {
     "data": {
      "text/plain": [
       "{'userHasWriteAccess': True,\n",
       " 'name': 'Minimization_restraints.pdb',\n",
       " 'downloadURL': 'https://md.cybershuttle.org/sdk/download/?data-product-uri=airavata-dp%3A%2F%2F4b725a4d-85e8-451e-8e62-598c77a749fd',\n",
       " 'dataProductURI': 'airavata-dp://4b725a4d-85e8-451e-8e62-598c77a749fd',\n",
       " 'createdTime': '2023-11-07T17:18:14.149903Z',\n",
       " 'modifiedTime': '2023-11-07T17:18:14.149903Z',\n",
       " 'mimeType': 'chemical/x-pdb',\n",
       " 'size': 12411686,\n",
       " 'hidden': False}"
      ]
     },
     "execution_count": 25,
     "metadata": {},
     "output_type": "execute_result"
    }
   ],
   "source": [
    "exp_files.get('files')[0]"
   ]
  },
  {
   "cell_type": "code",
   "execution_count": 28,
   "id": "10dd70c7-1a7e-48f8-bb6d-3bef45ed1f5b",
   "metadata": {},
   "outputs": [],
   "source": [
    "f_url=exp_files.get('files')[0].get('downloadURL')\n",
    "\n",
    "access_token = get_access_token_or_error()\n",
    "headers = {\"Authorization\": f\"Bearer {access_token}\"}\n",
    "r = requests.get(f_url,headers=headers)\n"
   ]
  },
  {
   "cell_type": "code",
   "execution_count": 35,
   "id": "7db4b32d-03e5-4889-89e2-3fbee051be29",
   "metadata": {},
   "outputs": [
    {
     "data": {
      "text/plain": [
       "KeysView({'Date': 'Thu, 15 Feb 2024 07:49:32 GMT', 'Server': 'Apache/2.4.6 (CentOS) OpenSSL/1.0.2k-fips mod_wsgi/4.5.17 Python/3.6 mod_fcgid/2.3.9 PHP/5.4.16', 'Content-Disposition': 'inline; filename=\"Minimization_restraints.pdb\"', 'Vary': 'Accept,Accept-Encoding,Cookie', 'Allow': 'GET, OPTIONS', 'Content-Encoding': 'gzip', 'X-Frame-Options': 'DENY', 'X-Content-Type-Options': 'nosniff', 'Referrer-Policy': 'same-origin', 'Keep-Alive': 'timeout=5, max=99', 'Connection': 'Keep-Alive', 'Transfer-Encoding': 'chunked', 'Content-Type': 'chemical/x-pdb'})"
      ]
     },
     "execution_count": 35,
     "metadata": {},
     "output_type": "execute_result"
    }
   ],
   "source": [
    "r.headers.keys()"
   ]
  },
  {
   "cell_type": "code",
   "execution_count": 17,
   "id": "7415f51f-e91c-4b13-8b5f-54775e20b996",
   "metadata": {},
   "outputs": [
    {
     "data": {
      "text/plain": [
       "['Minimization_restraints.pdb',\n",
       " 'qwikmd_QwikMD.pdb',\n",
       " 'toppar_water_ions_namd.str',\n",
       " 'par_all36_prot.prm',\n",
       " 'Minimization.conf',\n",
       " 'Minimization.xsc',\n",
       " 'par_all36_lipid.prm',\n",
       " 'toppar_all36_carb_glycopeptide.str',\n",
       " 'par_all36_na.prm',\n",
       " 'par_all36_prot_MgfVluU.prm',\n",
       " 'par_all36_cgenff.prm',\n",
       " 'par_all36_carb.prm',\n",
       " 'toppar_all36_na_nad_ppi_gdp_gtp_qwikmd.str',\n",
       " 'toppar_water_ions_namd_SOLJDUj.str',\n",
       " 'qwikmd_QwikMD.psf',\n",
       " 'NAMD.stderr',\n",
       " 'NAMD.stdout',\n",
       " 'Minimization.dcd']"
      ]
     },
     "execution_count": 17,
     "metadata": {},
     "output_type": "execute_result"
    }
   ],
   "source": [
    "file_list"
   ]
  },
  {
   "cell_type": "code",
   "execution_count": 18,
   "id": "ca0cc3ef-68cf-430b-9ebb-283fc5e8df0f",
   "metadata": {},
   "outputs": [
    {
     "data": {
      "text/html": [
       "<div>\n",
       "<style scoped>\n",
       "    .dataframe tbody tr th:only-of-type {\n",
       "        vertical-align: middle;\n",
       "    }\n",
       "\n",
       "    .dataframe tbody tr th {\n",
       "        vertical-align: top;\n",
       "    }\n",
       "\n",
       "    .dataframe thead th {\n",
       "        text-align: right;\n",
       "    }\n",
       "</style>\n",
       "<table border=\"1\" class=\"dataframe\">\n",
       "  <thead>\n",
       "    <tr style=\"text-align: right;\">\n",
       "      <th></th>\n",
       "      <th>userHasWriteAccess</th>\n",
       "      <th>name</th>\n",
       "      <th>downloadURL</th>\n",
       "      <th>dataProductURI</th>\n",
       "      <th>createdTime</th>\n",
       "      <th>modifiedTime</th>\n",
       "      <th>mimeType</th>\n",
       "      <th>size</th>\n",
       "      <th>hidden</th>\n",
       "    </tr>\n",
       "  </thead>\n",
       "  <tbody>\n",
       "    <tr>\n",
       "      <th>0</th>\n",
       "      <td>True</td>\n",
       "      <td>Minimization_restraints.pdb</td>\n",
       "      <td>https://md.cybershuttle.org/sdk/download/?data...</td>\n",
       "      <td>airavata-dp://4b725a4d-85e8-451e-8e62-598c77a7...</td>\n",
       "      <td>2023-11-07T17:18:14.149903Z</td>\n",
       "      <td>2023-11-07T17:18:14.149903Z</td>\n",
       "      <td>chemical/x-pdb</td>\n",
       "      <td>12411686</td>\n",
       "      <td>False</td>\n",
       "    </tr>\n",
       "    <tr>\n",
       "      <th>1</th>\n",
       "      <td>True</td>\n",
       "      <td>qwikmd_QwikMD.pdb</td>\n",
       "      <td>https://md.cybershuttle.org/sdk/download/?data...</td>\n",
       "      <td>airavata-dp://e234b86b-9023-4f53-a3ba-284dcd25...</td>\n",
       "      <td>2023-11-07T17:18:14.206903Z</td>\n",
       "      <td>2023-11-07T17:18:14.206903Z</td>\n",
       "      <td>chemical/x-pdb</td>\n",
       "      <td>12411686</td>\n",
       "      <td>False</td>\n",
       "    </tr>\n",
       "    <tr>\n",
       "      <th>2</th>\n",
       "      <td>True</td>\n",
       "      <td>toppar_water_ions_namd.str</td>\n",
       "      <td>https://md.cybershuttle.org/sdk/download/?data...</td>\n",
       "      <td>airavata-dp://61805047-da36-46b8-a459-dab0aef7...</td>\n",
       "      <td>2023-11-07T17:18:14.247903Z</td>\n",
       "      <td>2023-11-07T17:18:14.247903Z</td>\n",
       "      <td>text/plain</td>\n",
       "      <td>7782</td>\n",
       "      <td>False</td>\n",
       "    </tr>\n",
       "    <tr>\n",
       "      <th>3</th>\n",
       "      <td>True</td>\n",
       "      <td>par_all36_prot.prm</td>\n",
       "      <td>https://md.cybershuttle.org/sdk/download/?data...</td>\n",
       "      <td>airavata-dp://448e3147-6439-443c-a71d-1763a1b4...</td>\n",
       "      <td>2023-11-07T17:18:14.324903Z</td>\n",
       "      <td>2023-11-07T17:18:14.324903Z</td>\n",
       "      <td>text/plain</td>\n",
       "      <td>184728</td>\n",
       "      <td>False</td>\n",
       "    </tr>\n",
       "    <tr>\n",
       "      <th>4</th>\n",
       "      <td>True</td>\n",
       "      <td>Minimization.conf</td>\n",
       "      <td>https://md.cybershuttle.org/sdk/download/?data...</td>\n",
       "      <td>airavata-dp://aa915abd-2612-48a7-bd50-62db1b69...</td>\n",
       "      <td>2023-11-07T17:18:14.380903Z</td>\n",
       "      <td>2023-11-07T17:18:14.380903Z</td>\n",
       "      <td>text/plain</td>\n",
       "      <td>2723</td>\n",
       "      <td>False</td>\n",
       "    </tr>\n",
       "  </tbody>\n",
       "</table>\n",
       "</div>"
      ],
      "text/plain": [
       "   userHasWriteAccess                         name  \\\n",
       "0                True  Minimization_restraints.pdb   \n",
       "1                True            qwikmd_QwikMD.pdb   \n",
       "2                True   toppar_water_ions_namd.str   \n",
       "3                True           par_all36_prot.prm   \n",
       "4                True            Minimization.conf   \n",
       "\n",
       "                                         downloadURL  \\\n",
       "0  https://md.cybershuttle.org/sdk/download/?data...   \n",
       "1  https://md.cybershuttle.org/sdk/download/?data...   \n",
       "2  https://md.cybershuttle.org/sdk/download/?data...   \n",
       "3  https://md.cybershuttle.org/sdk/download/?data...   \n",
       "4  https://md.cybershuttle.org/sdk/download/?data...   \n",
       "\n",
       "                                      dataProductURI  \\\n",
       "0  airavata-dp://4b725a4d-85e8-451e-8e62-598c77a7...   \n",
       "1  airavata-dp://e234b86b-9023-4f53-a3ba-284dcd25...   \n",
       "2  airavata-dp://61805047-da36-46b8-a459-dab0aef7...   \n",
       "3  airavata-dp://448e3147-6439-443c-a71d-1763a1b4...   \n",
       "4  airavata-dp://aa915abd-2612-48a7-bd50-62db1b69...   \n",
       "\n",
       "                   createdTime                 modifiedTime        mimeType  \\\n",
       "0  2023-11-07T17:18:14.149903Z  2023-11-07T17:18:14.149903Z  chemical/x-pdb   \n",
       "1  2023-11-07T17:18:14.206903Z  2023-11-07T17:18:14.206903Z  chemical/x-pdb   \n",
       "2  2023-11-07T17:18:14.247903Z  2023-11-07T17:18:14.247903Z      text/plain   \n",
       "3  2023-11-07T17:18:14.324903Z  2023-11-07T17:18:14.324903Z      text/plain   \n",
       "4  2023-11-07T17:18:14.380903Z  2023-11-07T17:18:14.380903Z      text/plain   \n",
       "\n",
       "       size  hidden  \n",
       "0  12411686   False  \n",
       "1  12411686   False  \n",
       "2      7782   False  \n",
       "3    184728   False  \n",
       "4      2723   False  "
      ]
     },
     "execution_count": 18,
     "metadata": {},
     "output_type": "execute_result"
    }
   ],
   "source": [
    "import pandas as pd\n",
    "myfiles = pd.DataFrame(exp_files.get('files'))\n",
    "myfiles.head()"
   ]
  },
  {
   "cell_type": "code",
   "execution_count": 19,
   "id": "7b180e5e-0850-4eac-9915-193b510a2c68",
   "metadata": {},
   "outputs": [],
   "source": [
    "f_name = \"Minimization_restraints.pdb\"\n",
    "f_url = myfiles.query('name == @f_name')['downloadURL'].iloc[0]"
   ]
  },
  {
   "cell_type": "code",
   "execution_count": 20,
   "id": "3b82b3aa-62ef-447b-8ecf-1a502dc090ac",
   "metadata": {},
   "outputs": [],
   "source": [
    "import requests\n",
    "\n",
    "access_token = get_access_token_or_error()\n",
    "headers = {\"Authorization\": f\"Bearer {access_token}\"}\n",
    "r = requests.get(f_url,headers=headers)"
   ]
  },
  {
   "cell_type": "code",
   "execution_count": 21,
   "id": "2343506e-67b7-4170-a782-de92e4c0b4ba",
   "metadata": {},
   "outputs": [],
   "source": [
    "with open (f_name,'w') as f :\n",
    "    f.write(r.content.decode())"
   ]
  },
  {
   "cell_type": "code",
   "execution_count": null,
   "id": "ac953250-8432-43de-a131-f32c243c2e98",
   "metadata": {},
   "outputs": [],
   "source": [
    "vmd_util.upload_file_for_experiment(experiment_id=experimentId,files='UPLOAD_TEST_01.pdb')"
   ]
  },
  {
   "cell_type": "code",
   "execution_count": null,
   "id": "11ed24bd-b225-48a6-b795-3d613d4cdced",
   "metadata": {},
   "outputs": [],
   "source": [
    "import urllib.request\n",
    "urllib.request.urlretrieve(f_url,f_name,headers=headers)"
   ]
  },
  {
   "cell_type": "code",
   "execution_count": null,
   "id": "ec8cb427-d8dc-4c15-b089-19855e8d2182",
   "metadata": {},
   "outputs": [],
   "source": [
    "# Get information about a experiment\n",
    "exp = vmd_util.show_experiments(status='COMPLETED',limit=100)"
   ]
  },
  {
   "cell_type": "code",
   "execution_count": null,
   "id": "adc52ad5-812c-4591-ac63-9e4bebc3252c",
   "metadata": {},
   "outputs": [],
   "source": [
    "# for i in exp :\n",
    "#     print(i)\n",
    "#     print('\\n')\n",
    "print(exp[2])"
   ]
  },
  {
   "cell_type": "code",
   "execution_count": null,
   "id": "67f99b82-0257-45c6-ac32-dfa78570a5c9",
   "metadata": {},
   "outputs": [],
   "source": [
    "# Available keywords for one experiment\n",
    "vars(exp[2]).keys()"
   ]
  },
  {
   "cell_type": "code",
   "execution_count": null,
   "id": "8ab6f1ed-808e-4cd4-bc56-538aef8c8b70",
   "metadata": {},
   "outputs": [],
   "source": [
    "exp[2]"
   ]
  },
  {
   "cell_type": "code",
   "execution_count": null,
   "id": "14246867-0370-49b7-be96-d0875e37f761",
   "metadata": {},
   "outputs": [],
   "source": [
    "# Show status of an experiment\n",
    "#status = vmd_util.monitor_experiment(exp[0].experimentId)\n",
    "status = vmd_util.monitor_experiment(experimentId)\n",
    "print(status)"
   ]
  },
  {
   "cell_type": "code",
   "execution_count": null,
   "id": "ab0e8672-04a7-4c06-b45a-ad8c1ea99620",
   "metadata": {},
   "outputs": [],
   "source": [
    "# Get all you've got about an experiment\n",
    "exp = vmd_util.get_experiment(experimentId)"
   ]
  },
  {
   "cell_type": "code",
   "execution_count": null,
   "id": "999be3cc-10ab-4e58-9b55-da69e625e472",
   "metadata": {},
   "outputs": [],
   "source": [
    "# exp.experimentDataDir\n",
    "vars(exp).keys()"
   ]
  },
  {
   "cell_type": "code",
   "execution_count": null,
   "id": "8ed6a486-892a-4434-8e2f-7f7346f5504d",
   "metadata": {},
   "outputs": [],
   "source": [
    "#airavata-dp\n",
    "exp.experimentOutputs\n",
    "\n",
    "namd_sterr='https://md.cybershuttle.org/sdk/download/?data-product-uri=airavata-dp://1d3fb5da-ad7f-4d9b-9bf5-af77edcecb79' \n",
    "\n",
    "import requests\n",
    "\n",
    "access_token = get_access_token_or_error()\n",
    "headers = {\"Authorization\": f\"Bearer {access_token}\"}\n",
    "r = requests.get(\n",
    "    namd_sterr,\n",
    "    headers=headers,\n",
    ")"
   ]
  },
  {
   "cell_type": "code",
   "execution_count": null,
   "id": "86a976f2-2c18-4afd-8c43-6d836aeb9581",
   "metadata": {},
   "outputs": [],
   "source": [
    "vars(exp.userConfigurationData).keys()"
   ]
  },
  {
   "cell_type": "code",
   "execution_count": null,
   "id": "d8c08196-2885-400a-b8c6-cd1c6189527c",
   "metadata": {},
   "outputs": [],
   "source": [
    "storage = exp.userConfigurationData.storageId.split(\"_\")[0]\n",
    "data_dir = exp.userConfigurationData.experimentDataDir\n",
    "filename = storage+data_dir+'Minimization.conf'"
   ]
  },
  {
   "cell_type": "code",
   "execution_count": null,
   "id": "ab9fa1ed-129f-451a-ad8b-7c1938af0790",
   "metadata": {},
   "outputs": [],
   "source": [
    "print(filename)"
   ]
  },
  {
   "cell_type": "code",
   "execution_count": null,
   "id": "e966582d-e050-4af0-a654-d87851099fd9",
   "metadata": {},
   "outputs": [],
   "source": [
    "storage.split('_')[0]"
   ]
  },
  {
   "cell_type": "code",
   "execution_count": null,
   "id": "48a166ae-5902-4881-a4f8-8a52d9971a20",
   "metadata": {},
   "outputs": [],
   "source": [
    "def download_experiment(self, experiment_id, output_dir=\"./outputs\"):\n",
    "    access_token = get_access_token_or_error()\n",
    "    headers = {\"Authorization\": f\"Bearer {access_token}\"}\n",
    "    r = requests.get(\n",
    "        f\"{self.gateway_url}/sdk/download-experiment-dir/{experiment_id}/\",\n",
    "        headers=headers,\n",
    "    )\n",
    "    r.raise_for_status()\n",
    "    # get name of zip file as returned in HTTP response headers and name the output directory the same\n",
    "    disposition = r.headers[\"Content-Disposition\"]\n",
    "    disp_value, disp_params = cgi.parse_header(disposition)\n",
    "    filename, ext = os.path.splitext(disp_params[\"filename\"])\n",
    "    output_dir = Path(output_dir) / filename\n",
    "\n",
    "    zipped = zipfile.ZipFile(io.BytesIO(r.content))\n",
    "    zipped.extractall(output_dir)\n",
    "    return output_dir"
   ]
  },
  {
   "cell_type": "code",
   "execution_count": null,
   "id": "d0834ac6-61bb-44f3-8e08-601a183ce3e4",
   "metadata": {},
   "outputs": [],
   "source": []
  },
  {
   "cell_type": "code",
   "execution_count": null,
   "id": "b4b6b2d7-8723-49d7-b31d-8da88773cd2c",
   "metadata": {},
   "outputs": [],
   "source": [
    "nnn"
   ]
  },
  {
   "cell_type": "code",
   "execution_count": null,
   "id": "fe307070-6ab9-4575-ae52-b590512868b9",
   "metadata": {},
   "outputs": [],
   "source": []
  },
  {
   "cell_type": "code",
   "execution_count": null,
   "id": "d7df6b7f-3abe-4264-938c-a281a7c41a6d",
   "metadata": {},
   "outputs": [],
   "source": []
  },
  {
   "cell_type": "code",
   "execution_count": null,
   "id": "98575c59-6954-4d1e-8c16-0663ae4ba425",
   "metadata": {},
   "outputs": [],
   "source": []
  },
  {
   "cell_type": "code",
   "execution_count": null,
   "id": "ab84b7e9-9938-4217-869f-d74208278742",
   "metadata": {},
   "outputs": [],
   "source": []
  },
  {
   "cell_type": "markdown",
   "id": "3116f7ce-0a18-4f99-8818-e5a71853a658",
   "metadata": {},
   "source": [
    "# Experiment data directory"
   ]
  },
  {
   "cell_type": "code",
   "execution_count": null,
   "id": "d18850eb-04eb-4f94-8d7a-a3c6cd820f44",
   "metadata": {},
   "outputs": [],
   "source": [
    "# storageResourceId\n",
    "# experimentDataDir\n",
    "exp = vmd_util.get_experiment(experimentId)\n",
    "\n",
    "exp\n"
   ]
  },
  {
   "cell_type": "code",
   "execution_count": null,
   "id": "04753af5-eaf6-45a6-bf0b-a548fa2f77e3",
   "metadata": {},
   "outputs": [],
   "source": [
    "# Show me the available keys\n",
    "vars(exp).keys()"
   ]
  },
  {
   "cell_type": "code",
   "execution_count": null,
   "id": "d76b27e9-e18a-4c47-9ea8-78bb84223e32",
   "metadata": {},
   "outputs": [],
   "source": [
    "exp.experimentOutputs\n",
    "exp.exp"
   ]
  },
  {
   "cell_type": "code",
   "execution_count": null,
   "id": "5b991d03-bed8-47a8-9eca-96bde4eaabc3",
   "metadata": {},
   "outputs": [],
   "source": [
    "exp.experimentOutputs[0].value"
   ]
  },
  {
   "cell_type": "code",
   "execution_count": null,
   "id": "0e51493a-df00-4cba-b3be-c93d4ec75b2d",
   "metadata": {},
   "outputs": [],
   "source": [
    "# Show all experiment Inputs\n",
    "exp.experimentInputs[0]"
   ]
  },
  {
   "cell_type": "code",
   "execution_count": null,
   "id": "609d9df3-e172-4d43-857d-6e33c9f4fa4d",
   "metadata": {},
   "outputs": [],
   "source": [
    "# Show all keys for a experiment inputs\n",
    "vars(exp.experimentInputs[0]).keys()"
   ]
  },
  {
   "cell_type": "code",
   "execution_count": null,
   "id": "40c0f5a9-e63f-464f-bcdc-a414376da3f7",
   "metadata": {},
   "outputs": [],
   "source": [
    "# # Show me the actual files\n",
    "# print(f'''\n",
    "# {exp.experimentInputs[0].name}\n",
    "# {exp.experimentInputs[0].value}\n",
    "# ''')\n",
    "# #exp.processInputs[0]"
   ]
  },
  {
   "cell_type": "code",
   "execution_count": null,
   "id": "b76a40fd-4ef3-4a86-9883-b40e20e0f692",
   "metadata": {},
   "outputs": [],
   "source": [
    "# Show all experiment outputs\n",
    "vars(exp).keys()"
   ]
  },
  {
   "cell_type": "code",
   "execution_count": null,
   "id": "34cbaf88-db16-4ca6-84cf-a20661ce5fe4",
   "metadata": {},
   "outputs": [],
   "source": [
    "# Show all experiment outputs\n",
    "vars(exp)#.keys()"
   ]
  },
  {
   "cell_type": "code",
   "execution_count": null,
   "id": "ba4a58c1-693a-484a-abca-2cba7b413d5c",
   "metadata": {},
   "outputs": [],
   "source": [
    "vars(exp.processes[0])"
   ]
  },
  {
   "cell_type": "code",
   "execution_count": null,
   "id": "b19feeea-33ac-4845-9299-9974e6478e60",
   "metadata": {},
   "outputs": [],
   "source": [
    "inputFiles=[]\n",
    "for p in exp.processes[0].processInputs :\n",
    "    if p.type in [3,4]:\n",
    "        for f in p.value.split(',') :\n",
    "            inputFiles.append(f)\n",
    "\n",
    "import os\n",
    "for f in inputFiles : \n",
    "    print(os.path.basename(f))"
   ]
  },
  {
   "cell_type": "code",
   "execution_count": null,
   "id": "627f8607-1aae-40dd-9cdc-3a06f903d89e",
   "metadata": {},
   "outputs": [],
   "source": [
    "import os\n",
    "for f in inputFiles : \n",
    "    print(os.path.basename(f))"
   ]
  },
  {
   "cell_type": "code",
   "execution_count": null,
   "id": "963e21ae-0eab-4fee-a13a-411f3df4c905",
   "metadata": {},
   "outputs": [],
   "source": [
    "inputFiles=[]\n",
    "for p in exp.processes[0].processOutputs :\n",
    "    print(p)"
   ]
  },
  {
   "cell_type": "code",
   "execution_count": null,
   "id": "56b09968-d49c-4745-874d-52c2b8f48e67",
   "metadata": {},
   "outputs": [],
   "source": [
    "exp.processes[0].processOutputs\n",
    "#ProcessStatus(state=10, timeOfStateChange=1699377718783, reason=None, statusId='PROCESS_STATE_34727720-bb68-4383-a58d-4b33abfaf7d0', processId='PROCESS_dc592e4c-7808-47ca-bcf9-c2a571a510ee')], processDetail=None, applicationInterfaceId='NAMD_dd041e87-1dde-4e57-8ec4-23af2ffa1ba0', applicationDeploymentId='Expanse_NAMD_16076518-41cc-4223-b816-abf5f940e62a', computeResourceId='expanse_34f71d6b-765d-4bff-be2e-30a74f5c8c32', processInputs"
   ]
  },
  {
   "cell_type": "code",
   "execution_count": null,
   "id": "138ff816-0ebd-4a86-ad15-8bc2a3fec9b0",
   "metadata": {},
   "outputs": [],
   "source": [
    "vars(exp.processes[0]).keys()"
   ]
  },
  {
   "cell_type": "code",
   "execution_count": null,
   "id": "6a83cbbb-f98a-425e-8b71-1606ed9497ea",
   "metadata": {},
   "outputs": [],
   "source": []
  },
  {
   "cell_type": "code",
   "execution_count": null,
   "id": "811895cc-4b23-4b36-9cd7-e5c941892df6",
   "metadata": {},
   "outputs": [],
   "source": []
  },
  {
   "cell_type": "code",
   "execution_count": null,
   "id": "4e120417-571c-4961-9877-e8a8483a4df1",
   "metadata": {},
   "outputs": [],
   "source": []
  },
  {
   "cell_type": "code",
   "execution_count": null,
   "id": "f2749bc1-80d4-4dc0-8da2-0256eecf662a",
   "metadata": {},
   "outputs": [],
   "source": []
  },
  {
   "cell_type": "code",
   "execution_count": null,
   "id": "20d186b8-3e3e-4de5-8bb2-7fbba4e70f3d",
   "metadata": {},
   "outputs": [],
   "source": [
    "# \n",
    "name_list = []\n",
    "for v in exp :\n",
    "    print(v.name)"
   ]
  },
  {
   "cell_type": "code",
   "execution_count": null,
   "id": "cd8487cc-c8c1-4614-a472-e79e5f650018",
   "metadata": {},
   "outputs": [],
   "source": []
  },
  {
   "cell_type": "code",
   "execution_count": null,
   "id": "3073f23d-3272-4820-ba87-20dde282b66c",
   "metadata": {},
   "outputs": [],
   "source": []
  },
  {
   "cell_type": "code",
   "execution_count": null,
   "id": "f4881c29-61b0-4e56-a850-742335e06de4",
   "metadata": {},
   "outputs": [],
   "source": [
    "result = vmd_util.download_experiment(experiment_id)"
   ]
  },
  {
   "cell_type": "code",
   "execution_count": null,
   "id": "997ca3e8-d8a3-4de6-8884-81d30d45fde9",
   "metadata": {},
   "outputs": [],
   "source": [
    "result.headers"
   ]
  },
  {
   "cell_type": "code",
   "execution_count": null,
   "id": "2937599f-0f5c-4f63-bcaa-8030a241b76c",
   "metadata": {},
   "outputs": [],
   "source": []
  }
 ],
 "metadata": {
  "kernelspec": {
   "display_name": "Python 3 (ipykernel)",
   "language": "python",
   "name": "python3"
  },
  "language_info": {
   "codemirror_mode": {
    "name": "ipython",
    "version": 3
   },
   "file_extension": ".py",
   "mimetype": "text/x-python",
   "name": "python",
   "nbconvert_exporter": "python",
   "pygments_lexer": "ipython3",
   "version": "3.11.5"
  }
 },
 "nbformat": 4,
 "nbformat_minor": 5
}
